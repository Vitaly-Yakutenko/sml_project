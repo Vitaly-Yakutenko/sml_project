{
 "cells": [
  {
   "cell_type": "code",
   "execution_count": 3,
   "metadata": {},
   "outputs": [],
   "source": [
    "import pandas as pd\n",
    "import numpy as np\n",
    "import networkx as nx\n",
    "from tqdm import tqdm_notebook as tqdm"
   ]
  },
  {
   "cell_type": "code",
   "execution_count": 4,
   "metadata": {},
   "outputs": [],
   "source": [
    "trainingdf = pd.read_csv('../data/df.csv')"
   ]
  },
  {
   "cell_type": "code",
   "execution_count": 5,
   "metadata": {},
   "outputs": [
    {
     "name": "stdout",
     "output_type": "stream",
     "text": [
      "19570\n",
      "4867136\n"
     ]
    }
   ],
   "source": [
    "unique_sources = trainingdf['Source'].unique()\n",
    "print(len(unique_sources))\n",
    "unique_sinks = trainingdf['Sink'].unique()\n",
    "print(len(unique_sinks))\n",
    "edgeStringSet = set(trainingdf['string'].unique())"
   ]
  },
  {
   "cell_type": "markdown",
   "metadata": {},
   "source": [
    "Fake Edges - Mapping 1 Source -> 10 Sinks, ensuring edge generated dont exist in training dataset"
   ]
  },
  {
   "cell_type": "code",
   "execution_count": 6,
   "metadata": {},
   "outputs": [
    {
     "data": {
      "text/html": [
       "<div>\n",
       "<style scoped>\n",
       "    .dataframe tbody tr th:only-of-type {\n",
       "        vertical-align: middle;\n",
       "    }\n",
       "\n",
       "    .dataframe tbody tr th {\n",
       "        vertical-align: top;\n",
       "    }\n",
       "\n",
       "    .dataframe thead th {\n",
       "        text-align: right;\n",
       "    }\n",
       "</style>\n",
       "<table border=\"1\" class=\"dataframe\">\n",
       "  <thead>\n",
       "    <tr style=\"text-align: right;\">\n",
       "      <th></th>\n",
       "      <th>Source</th>\n",
       "      <th>Sink</th>\n",
       "      <th>Value</th>\n",
       "    </tr>\n",
       "  </thead>\n",
       "  <tbody>\n",
       "    <tr>\n",
       "      <th>0</th>\n",
       "      <td>4066935</td>\n",
       "      <td>1584629</td>\n",
       "      <td>0</td>\n",
       "    </tr>\n",
       "    <tr>\n",
       "      <th>1</th>\n",
       "      <td>4066935</td>\n",
       "      <td>2205267</td>\n",
       "      <td>0</td>\n",
       "    </tr>\n",
       "    <tr>\n",
       "      <th>2</th>\n",
       "      <td>4066935</td>\n",
       "      <td>633790</td>\n",
       "      <td>0</td>\n",
       "    </tr>\n",
       "    <tr>\n",
       "      <th>3</th>\n",
       "      <td>4066935</td>\n",
       "      <td>1771710</td>\n",
       "      <td>0</td>\n",
       "    </tr>\n",
       "    <tr>\n",
       "      <th>4</th>\n",
       "      <td>4066935</td>\n",
       "      <td>4378825</td>\n",
       "      <td>0</td>\n",
       "    </tr>\n",
       "  </tbody>\n",
       "</table>\n",
       "</div>"
      ],
      "text/plain": [
       "    Source     Sink  Value\n",
       "0  4066935  1584629      0\n",
       "1  4066935  2205267      0\n",
       "2  4066935   633790      0\n",
       "3  4066935  1771710      0\n",
       "4  4066935  4378825      0"
      ]
     },
     "execution_count": 6,
     "metadata": {},
     "output_type": "execute_result"
    }
   ],
   "source": [
    "fakeData = []\n",
    "for source_node in unique_sources:\n",
    "    counter = 0\n",
    "    while counter < 10:\n",
    "        sink = unique_sinks[np.random.randint(len(unique_sinks))]\n",
    "        compareEdge = str(source_node) + ',' + str(sink)\n",
    "        if compareEdge not in edgeStringSet:\n",
    "            fakeData.append((source_node,sink,0))\n",
    "            counter += 1\n",
    "fakeDataDF = pd.DataFrame.from_records(fakeData, columns=['Source','Sink','Value'])\n",
    "fakeDataDF.head()"
   ]
  },
  {
   "cell_type": "markdown",
   "metadata": {},
   "source": [
    "<a id='the_destination'></a>True Edges - Random sampling from Training Dataset of 24m edges"
   ]
  },
  {
   "cell_type": "code",
   "execution_count": 7,
   "metadata": {},
   "outputs": [
    {
     "data": {
      "text/html": [
       "<div>\n",
       "<style scoped>\n",
       "    .dataframe tbody tr th:only-of-type {\n",
       "        vertical-align: middle;\n",
       "    }\n",
       "\n",
       "    .dataframe tbody tr th {\n",
       "        vertical-align: top;\n",
       "    }\n",
       "\n",
       "    .dataframe thead th {\n",
       "        text-align: right;\n",
       "    }\n",
       "</style>\n",
       "<table border=\"1\" class=\"dataframe\">\n",
       "  <thead>\n",
       "    <tr style=\"text-align: right;\">\n",
       "      <th></th>\n",
       "      <th>Source</th>\n",
       "      <th>Sink</th>\n",
       "      <th>Value</th>\n",
       "    </tr>\n",
       "  </thead>\n",
       "  <tbody>\n",
       "    <tr>\n",
       "      <th>21810337</th>\n",
       "      <td>1709040</td>\n",
       "      <td>1695026</td>\n",
       "      <td>1</td>\n",
       "    </tr>\n",
       "    <tr>\n",
       "      <th>720713</th>\n",
       "      <td>20388</td>\n",
       "      <td>4700562</td>\n",
       "      <td>1</td>\n",
       "    </tr>\n",
       "    <tr>\n",
       "      <th>3949681</th>\n",
       "      <td>4067692</td>\n",
       "      <td>2495732</td>\n",
       "      <td>1</td>\n",
       "    </tr>\n",
       "    <tr>\n",
       "      <th>19998727</th>\n",
       "      <td>2912811</td>\n",
       "      <td>345595</td>\n",
       "      <td>1</td>\n",
       "    </tr>\n",
       "    <tr>\n",
       "      <th>7084186</th>\n",
       "      <td>3077895</td>\n",
       "      <td>3951788</td>\n",
       "      <td>1</td>\n",
       "    </tr>\n",
       "  </tbody>\n",
       "</table>\n",
       "</div>"
      ],
      "text/plain": [
       "           Source     Sink  Value\n",
       "21810337  1709040  1695026      1\n",
       "720713      20388  4700562      1\n",
       "3949681   4067692  2495732      1\n",
       "19998727  2912811   345595      1\n",
       "7084186   3077895  3951788      1"
      ]
     },
     "execution_count": 7,
     "metadata": {},
     "output_type": "execute_result"
    }
   ],
   "source": [
    "check = True\n",
    "while check:\n",
    "    trueDataDF = trainingdf.sample(195705, replace=False, random_state=470350637)\n",
    "    if trueDataDF['string'].nunique() >= 195700:\n",
    "        trueDataDF = trueDataDF.drop_duplicates(subset=['string'])\n",
    "        check = False\n",
    "trueDataDF.drop(columns=['string'], axis=1, inplace=True)\n",
    "trueDataDF['Value'] = 1\n",
    "trueDataDF.head()"
   ]
  },
  {
   "cell_type": "markdown",
   "metadata": {},
   "source": [
    "Combining both to get random generated data aggregation"
   ]
  },
  {
   "cell_type": "code",
   "execution_count": 8,
   "metadata": {},
   "outputs": [
    {
     "data": {
      "text/plain": [
       "391400"
      ]
     },
     "execution_count": 8,
     "metadata": {},
     "output_type": "execute_result"
    }
   ],
   "source": [
    "generatedDataDF = pd.concat([trueDataDF,fakeDataDF])\n",
    "generatedDataDFtemp = generatedDataDF.drop(columns=['Value'], axis=1)\n",
    "generatedDataList = generatedDataDFtemp.to_records(index=False)\n",
    "generatedDataList = generatedDataList.tolist()\n",
    "len(generatedDataList)"
   ]
  },
  {
   "cell_type": "markdown",
   "metadata": {},
   "source": [
    "NetworkX"
   ]
  },
  {
   "cell_type": "code",
   "execution_count": 9,
   "metadata": {},
   "outputs": [
    {
     "data": {
      "text/plain": [
       "24004361"
      ]
     },
     "execution_count": 9,
     "metadata": {},
     "output_type": "execute_result"
    }
   ],
   "source": [
    "node_child_counts = {}\n",
    "node_child_sets = {}\n",
    "items = []\n",
    "with open('../data/train.txt', 'rt') as f:\n",
    "    line = f.readline()\n",
    "    while line:\n",
    "        numbers = line.split('\\t')\n",
    "        source = int(numbers[0])\n",
    "        node_child_counts[source] = len(numbers)-1\n",
    "        node_child_sets[source] = set(numbers[1:])\n",
    "        for sink in numbers[1:]:\n",
    "            items.append((source, int(sink),1)) # Tweak to build graph with weight edges of 1\n",
    "        line = f.readline()\n",
    "len(items)"
   ]
  },
  {
   "cell_type": "markdown",
   "metadata": {},
   "source": [
    "Creating DirectedGraph and converting it to an Undirected one for applying functions"
   ]
  },
  {
   "cell_type": "code",
   "execution_count": 10,
   "metadata": {},
   "outputs": [],
   "source": [
    "DG = nx.DiGraph()\n",
    "DG.add_weighted_edges_from(items)"
   ]
  },
  {
   "cell_type": "code",
   "execution_count": 11,
   "metadata": {},
   "outputs": [],
   "source": [
    "G = DG.to_undirected()"
   ]
  },
  {
   "cell_type": "code",
   "execution_count": 12,
   "metadata": {},
   "outputs": [],
   "source": [
    "del DG # Clearing memory"
   ]
  },
  {
   "cell_type": "markdown",
   "metadata": {},
   "source": [
    "Adamic Adar Coeficient"
   ]
  },
  {
   "cell_type": "code",
   "execution_count": 13,
   "metadata": {},
   "outputs": [],
   "source": [
    "AApreds = nx.adamic_adar_index(G, generatedDataList)\n",
    "AAlist = []"
   ]
  },
  {
   "cell_type": "code",
   "execution_count": null,
   "metadata": {},
   "outputs": [
    {
     "data": {
      "application/vnd.jupyter.widget-view+json": {
       "model_id": "6a325ccd7bb64c10bc472e09bf4a81d5",
       "version_major": 2,
       "version_minor": 0
      },
      "text/plain": [
       "HBox(children=(IntProgress(value=0, max=391400), HTML(value='')))"
      ]
     },
     "metadata": {},
     "output_type": "display_data"
    }
   ],
   "source": [
    "with tqdm(total=391400) as pbar:\n",
    "    for source, sink, prediction in AApreds:\n",
    "        AAlist.append((source, sink, prediction))\n",
    "        counter -= 1\n",
    "        pbar.update(1)"
   ]
  },
  {
   "cell_type": "code",
   "execution_count": null,
   "metadata": {},
   "outputs": [],
   "source": [
    "AAdf = pd.DataFrame.from_records(AAlist,columns=['Source','Sink','AAprediction'])\n",
    "AAdf.head()"
   ]
  },
  {
   "cell_type": "markdown",
   "metadata": {},
   "source": [
    "Common Neighbours"
   ]
  },
  {
   "cell_type": "code",
   "execution_count": null,
   "metadata": {},
   "outputs": [],
   "source": [
    "common_neighbor_list = []\n",
    "cncount = len(generatedDataList)\n",
    "with tqdm(total=cncount) as pbar:\n",
    "    for source, sink in generatedDataList:\n",
    "        common_neighbor_list.append((source, sink, len(list(nx.common_neighbors(G,source,sink)))))\n",
    "        cncount = cncount - 1\n",
    "        pbar.update(1)\n",
    "common_neighbor_df = pd.Dataframe.from_records(common_neighbor_list,columns=['Source','Sink','common_neighbor'])"
   ]
  },
  {
   "cell_type": "code",
   "execution_count": null,
   "metadata": {},
   "outputs": [],
   "source": [
    "katz = nx.algorithms.centrality.katz_centrality_numpy(G)"
   ]
  }
 ],
 "metadata": {
  "kernelspec": {
   "display_name": "Python 3",
   "language": "python",
   "name": "python3"
  },
  "language_info": {
   "codemirror_mode": {
    "name": "ipython",
    "version": 3
   },
   "file_extension": ".py",
   "mimetype": "text/x-python",
   "name": "python",
   "nbconvert_exporter": "python",
   "pygments_lexer": "ipython3",
   "version": "3.6.5"
  }
 },
 "nbformat": 4,
 "nbformat_minor": 2
}
