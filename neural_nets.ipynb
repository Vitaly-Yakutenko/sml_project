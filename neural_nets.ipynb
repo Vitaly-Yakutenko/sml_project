{
 "cells": [
  {
   "cell_type": "code",
   "execution_count": 1,
   "metadata": {},
   "outputs": [],
   "source": [
    "import pandas as pd\n",
    "import numpy as np"
   ]
  },
  {
   "cell_type": "code",
   "execution_count": 39,
   "metadata": {},
   "outputs": [],
   "source": [
    "import seaborn as sns\n",
    "import matplotlib.pyplot as plt\n",
    "%matplotlib inline"
   ]
  },
  {
   "cell_type": "code",
   "execution_count": 4,
   "metadata": {},
   "outputs": [],
   "source": [
    "# fix random seed for reproducibility\n",
    "seed = 117\n",
    "np.random.seed(seed)"
   ]
  },
  {
   "cell_type": "code",
   "execution_count": null,
   "metadata": {},
   "outputs": [],
   "source": []
  },
  {
   "cell_type": "markdown",
   "metadata": {},
   "source": [
    "# READING THE FEATURE MATICES ALREADY PREPROCESSED"
   ]
  },
  {
   "cell_type": "code",
   "execution_count": 3,
   "metadata": {},
   "outputs": [],
   "source": [
    "X_train_v2 = pd.read_csv('../SVM_GRID_SEARCH/train_feature_matrix_1.csv')"
   ]
  },
  {
   "cell_type": "code",
   "execution_count": 4,
   "metadata": {
    "scrolled": true
   },
   "outputs": [
    {
     "data": {
      "text/html": [
       "<div>\n",
       "<style>\n",
       "    .dataframe thead tr:only-child th {\n",
       "        text-align: right;\n",
       "    }\n",
       "\n",
       "    .dataframe thead th {\n",
       "        text-align: left;\n",
       "    }\n",
       "\n",
       "    .dataframe tbody tr th {\n",
       "        vertical-align: top;\n",
       "    }\n",
       "</style>\n",
       "<table border=\"1\" class=\"dataframe\">\n",
       "  <thead>\n",
       "    <tr style=\"text-align: right;\">\n",
       "      <th></th>\n",
       "      <th>Source</th>\n",
       "      <th>Sink</th>\n",
       "      <th>common_neighbors</th>\n",
       "      <th>AAprediction</th>\n",
       "      <th>exist_in_training_dataset</th>\n",
       "      <th>source_parents_count</th>\n",
       "      <th>source_non_leaf_descendants_count</th>\n",
       "      <th>source_leaf_descendans_count</th>\n",
       "      <th>sink_parent_non_leaf_descendants_count</th>\n",
       "      <th>sink_parent_leaf_descendans_count</th>\n",
       "      <th>sink_parents_count</th>\n",
       "    </tr>\n",
       "  </thead>\n",
       "  <tbody>\n",
       "    <tr>\n",
       "      <th>0</th>\n",
       "      <td>1097</td>\n",
       "      <td>2300708</td>\n",
       "      <td>3</td>\n",
       "      <td>0.446354</td>\n",
       "      <td>1</td>\n",
       "      <td>21</td>\n",
       "      <td>37.0</td>\n",
       "      <td>139.0</td>\n",
       "      <td>214968</td>\n",
       "      <td>1773315</td>\n",
       "      <td>1215</td>\n",
       "    </tr>\n",
       "    <tr>\n",
       "      <th>1</th>\n",
       "      <td>1174</td>\n",
       "      <td>119149</td>\n",
       "      <td>10</td>\n",
       "      <td>1.135798</td>\n",
       "      <td>1</td>\n",
       "      <td>187</td>\n",
       "      <td>198.0</td>\n",
       "      <td>344.0</td>\n",
       "      <td>79998</td>\n",
       "      <td>3985486</td>\n",
       "      <td>124</td>\n",
       "    </tr>\n",
       "    <tr>\n",
       "      <th>2</th>\n",
       "      <td>1174</td>\n",
       "      <td>1903703</td>\n",
       "      <td>33</td>\n",
       "      <td>6.902390</td>\n",
       "      <td>1</td>\n",
       "      <td>187</td>\n",
       "      <td>198.0</td>\n",
       "      <td>344.0</td>\n",
       "      <td>25516</td>\n",
       "      <td>153197</td>\n",
       "      <td>116</td>\n",
       "    </tr>\n",
       "    <tr>\n",
       "      <th>3</th>\n",
       "      <td>1174</td>\n",
       "      <td>4660902</td>\n",
       "      <td>3</td>\n",
       "      <td>0.424162</td>\n",
       "      <td>1</td>\n",
       "      <td>187</td>\n",
       "      <td>198.0</td>\n",
       "      <td>344.0</td>\n",
       "      <td>1751</td>\n",
       "      <td>6699</td>\n",
       "      <td>7</td>\n",
       "    </tr>\n",
       "    <tr>\n",
       "      <th>4</th>\n",
       "      <td>1399</td>\n",
       "      <td>306532</td>\n",
       "      <td>4</td>\n",
       "      <td>0.441382</td>\n",
       "      <td>1</td>\n",
       "      <td>41</td>\n",
       "      <td>59.0</td>\n",
       "      <td>191.0</td>\n",
       "      <td>65465</td>\n",
       "      <td>1441628</td>\n",
       "      <td>175</td>\n",
       "    </tr>\n",
       "  </tbody>\n",
       "</table>\n",
       "</div>"
      ],
      "text/plain": [
       "   Source     Sink  common_neighbors  AAprediction  exist_in_training_dataset  \\\n",
       "0    1097  2300708                 3      0.446354                          1   \n",
       "1    1174   119149                10      1.135798                          1   \n",
       "2    1174  1903703                33      6.902390                          1   \n",
       "3    1174  4660902                 3      0.424162                          1   \n",
       "4    1399   306532                 4      0.441382                          1   \n",
       "\n",
       "   source_parents_count  source_non_leaf_descendants_count  \\\n",
       "0                    21                               37.0   \n",
       "1                   187                              198.0   \n",
       "2                   187                              198.0   \n",
       "3                   187                              198.0   \n",
       "4                    41                               59.0   \n",
       "\n",
       "   source_leaf_descendans_count  sink_parent_non_leaf_descendants_count  \\\n",
       "0                         139.0                                  214968   \n",
       "1                         344.0                                   79998   \n",
       "2                         344.0                                   25516   \n",
       "3                         344.0                                    1751   \n",
       "4                         191.0                                   65465   \n",
       "\n",
       "   sink_parent_leaf_descendans_count  sink_parents_count  \n",
       "0                            1773315                1215  \n",
       "1                            3985486                 124  \n",
       "2                             153197                 116  \n",
       "3                               6699                   7  \n",
       "4                            1441628                 175  "
      ]
     },
     "execution_count": 4,
     "metadata": {},
     "output_type": "execute_result"
    }
   ],
   "source": [
    "X_train_v2.head()"
   ]
  },
  {
   "cell_type": "code",
   "execution_count": 5,
   "metadata": {},
   "outputs": [],
   "source": [
    "X_test = pd.read_csv('../SVM_GRID_SEARCH/test_feature_matrix.csv')"
   ]
  },
  {
   "cell_type": "code",
   "execution_count": 6,
   "metadata": {},
   "outputs": [],
   "source": [
    "X_test.drop('Unnamed: 0',axis=1,inplace=True)"
   ]
  },
  {
   "cell_type": "code",
   "execution_count": 7,
   "metadata": {},
   "outputs": [],
   "source": [
    "ID = X_test['Id']"
   ]
  },
  {
   "cell_type": "code",
   "execution_count": 8,
   "metadata": {},
   "outputs": [],
   "source": [
    "# making sure the columns are in same order"
   ]
  },
  {
   "cell_type": "code",
   "execution_count": 9,
   "metadata": {},
   "outputs": [],
   "source": [
    "X_test = X_test[list(X_train_v2.drop(['exist_in_training_dataset','Source','Sink'],axis=1))]"
   ]
  },
  {
   "cell_type": "code",
   "execution_count": 10,
   "metadata": {},
   "outputs": [
    {
     "data": {
      "text/html": [
       "<div>\n",
       "<style>\n",
       "    .dataframe thead tr:only-child th {\n",
       "        text-align: right;\n",
       "    }\n",
       "\n",
       "    .dataframe thead th {\n",
       "        text-align: left;\n",
       "    }\n",
       "\n",
       "    .dataframe tbody tr th {\n",
       "        vertical-align: top;\n",
       "    }\n",
       "</style>\n",
       "<table border=\"1\" class=\"dataframe\">\n",
       "  <thead>\n",
       "    <tr style=\"text-align: right;\">\n",
       "      <th></th>\n",
       "      <th>common_neighbors</th>\n",
       "      <th>AAprediction</th>\n",
       "      <th>source_parents_count</th>\n",
       "      <th>source_non_leaf_descendants_count</th>\n",
       "      <th>source_leaf_descendans_count</th>\n",
       "      <th>sink_parent_non_leaf_descendants_count</th>\n",
       "      <th>sink_parent_leaf_descendans_count</th>\n",
       "      <th>sink_parents_count</th>\n",
       "    </tr>\n",
       "  </thead>\n",
       "  <tbody>\n",
       "    <tr>\n",
       "      <th>count</th>\n",
       "      <td>2000.000000</td>\n",
       "      <td>2000.000000</td>\n",
       "      <td>2000.000000</td>\n",
       "      <td>2000.00000</td>\n",
       "      <td>2000.000000</td>\n",
       "      <td>2000.000000</td>\n",
       "      <td>2.000000e+03</td>\n",
       "      <td>2000.000000</td>\n",
       "    </tr>\n",
       "    <tr>\n",
       "      <th>mean</th>\n",
       "      <td>11.376000</td>\n",
       "      <td>1.913987</td>\n",
       "      <td>90.911500</td>\n",
       "      <td>94.55750</td>\n",
       "      <td>1228.490500</td>\n",
       "      <td>55319.866000</td>\n",
       "      <td>1.704336e+06</td>\n",
       "      <td>143.195000</td>\n",
       "    </tr>\n",
       "    <tr>\n",
       "      <th>std</th>\n",
       "      <td>100.078352</td>\n",
       "      <td>22.412112</td>\n",
       "      <td>166.978548</td>\n",
       "      <td>158.48722</td>\n",
       "      <td>9793.310524</td>\n",
       "      <td>92034.673134</td>\n",
       "      <td>2.284354e+06</td>\n",
       "      <td>358.116046</td>\n",
       "    </tr>\n",
       "    <tr>\n",
       "      <th>min</th>\n",
       "      <td>0.000000</td>\n",
       "      <td>0.000000</td>\n",
       "      <td>1.000000</td>\n",
       "      <td>0.00000</td>\n",
       "      <td>0.000000</td>\n",
       "      <td>8.000000</td>\n",
       "      <td>7.000000e+00</td>\n",
       "      <td>1.000000</td>\n",
       "    </tr>\n",
       "    <tr>\n",
       "      <th>25%</th>\n",
       "      <td>0.000000</td>\n",
       "      <td>0.000000</td>\n",
       "      <td>12.000000</td>\n",
       "      <td>17.00000</td>\n",
       "      <td>36.000000</td>\n",
       "      <td>4096.250000</td>\n",
       "      <td>1.178240e+05</td>\n",
       "      <td>7.000000</td>\n",
       "    </tr>\n",
       "    <tr>\n",
       "      <th>50%</th>\n",
       "      <td>1.000000</td>\n",
       "      <td>0.137745</td>\n",
       "      <td>36.000000</td>\n",
       "      <td>43.00000</td>\n",
       "      <td>115.000000</td>\n",
       "      <td>20448.000000</td>\n",
       "      <td>8.330660e+05</td>\n",
       "      <td>33.000000</td>\n",
       "    </tr>\n",
       "    <tr>\n",
       "      <th>75%</th>\n",
       "      <td>7.000000</td>\n",
       "      <td>0.926810</td>\n",
       "      <td>96.000000</td>\n",
       "      <td>105.00000</td>\n",
       "      <td>382.250000</td>\n",
       "      <td>66267.250000</td>\n",
       "      <td>2.374668e+06</td>\n",
       "      <td>118.000000</td>\n",
       "    </tr>\n",
       "    <tr>\n",
       "      <th>max</th>\n",
       "      <td>4361.000000</td>\n",
       "      <td>986.942415</td>\n",
       "      <td>2022.000000</td>\n",
       "      <td>2172.00000</td>\n",
       "      <td>369384.000000</td>\n",
       "      <td>856614.000000</td>\n",
       "      <td>1.556218e+07</td>\n",
       "      <td>4841.000000</td>\n",
       "    </tr>\n",
       "  </tbody>\n",
       "</table>\n",
       "</div>"
      ],
      "text/plain": [
       "       common_neighbors  AAprediction  source_parents_count  \\\n",
       "count       2000.000000   2000.000000           2000.000000   \n",
       "mean          11.376000      1.913987             90.911500   \n",
       "std          100.078352     22.412112            166.978548   \n",
       "min            0.000000      0.000000              1.000000   \n",
       "25%            0.000000      0.000000             12.000000   \n",
       "50%            1.000000      0.137745             36.000000   \n",
       "75%            7.000000      0.926810             96.000000   \n",
       "max         4361.000000    986.942415           2022.000000   \n",
       "\n",
       "       source_non_leaf_descendants_count  source_leaf_descendans_count  \\\n",
       "count                         2000.00000                   2000.000000   \n",
       "mean                            94.55750                   1228.490500   \n",
       "std                            158.48722                   9793.310524   \n",
       "min                              0.00000                      0.000000   \n",
       "25%                             17.00000                     36.000000   \n",
       "50%                             43.00000                    115.000000   \n",
       "75%                            105.00000                    382.250000   \n",
       "max                           2172.00000                 369384.000000   \n",
       "\n",
       "       sink_parent_non_leaf_descendants_count  \\\n",
       "count                             2000.000000   \n",
       "mean                             55319.866000   \n",
       "std                              92034.673134   \n",
       "min                                  8.000000   \n",
       "25%                               4096.250000   \n",
       "50%                              20448.000000   \n",
       "75%                              66267.250000   \n",
       "max                             856614.000000   \n",
       "\n",
       "       sink_parent_leaf_descendans_count  sink_parents_count  \n",
       "count                       2.000000e+03         2000.000000  \n",
       "mean                        1.704336e+06          143.195000  \n",
       "std                         2.284354e+06          358.116046  \n",
       "min                         7.000000e+00            1.000000  \n",
       "25%                         1.178240e+05            7.000000  \n",
       "50%                         8.330660e+05           33.000000  \n",
       "75%                         2.374668e+06          118.000000  \n",
       "max                         1.556218e+07         4841.000000  "
      ]
     },
     "execution_count": 10,
     "metadata": {},
     "output_type": "execute_result"
    }
   ],
   "source": [
    "X_test.describe()"
   ]
  },
  {
   "cell_type": "markdown",
   "metadata": {},
   "source": [
    "FOR TRAIN"
   ]
  },
  {
   "cell_type": "code",
   "execution_count": 11,
   "metadata": {},
   "outputs": [],
   "source": [
    "top_4 =['AAprediction',\n",
    " 'source_non_leaf_descendants_count',\n",
    " 'source_leaf_descendans_count',\n",
    " 'sink_parents_count']"
   ]
  },
  {
   "cell_type": "code",
   "execution_count": 12,
   "metadata": {},
   "outputs": [],
   "source": [
    "from sklearn.preprocessing import StandardScaler"
   ]
  },
  {
   "cell_type": "code",
   "execution_count": 13,
   "metadata": {},
   "outputs": [],
   "source": [
    "scaler = StandardScaler()"
   ]
  },
  {
   "cell_type": "raw",
   "metadata": {},
   "source": [
    "X_train = scaler.fit_transform(X_train_v2)"
   ]
  },
  {
   "cell_type": "code",
   "execution_count": 14,
   "metadata": {},
   "outputs": [],
   "source": [
    "X_train = scaler.fit_transform(X_train_v2.drop(['exist_in_training_dataset','Source','Sink'],axis=1))"
   ]
  },
  {
   "cell_type": "code",
   "execution_count": 15,
   "metadata": {},
   "outputs": [],
   "source": [
    "x_test = scaler.fit_transform(X_test)"
   ]
  },
  {
   "cell_type": "code",
   "execution_count": 16,
   "metadata": {},
   "outputs": [],
   "source": [
    "y_train = X_train_v2['exist_in_training_dataset']"
   ]
  },
  {
   "cell_type": "code",
   "execution_count": 17,
   "metadata": {},
   "outputs": [
    {
     "data": {
      "text/plain": [
       "(58028, 8)"
      ]
     },
     "execution_count": 17,
     "metadata": {},
     "output_type": "execute_result"
    }
   ],
   "source": [
    "X_train.shape"
   ]
  },
  {
   "cell_type": "code",
   "execution_count": 18,
   "metadata": {},
   "outputs": [
    {
     "data": {
      "text/plain": [
       "(2000, 8)"
      ]
     },
     "execution_count": 18,
     "metadata": {},
     "output_type": "execute_result"
    }
   ],
   "source": [
    "x_test.shape"
   ]
  },
  {
   "cell_type": "code",
   "execution_count": null,
   "metadata": {},
   "outputs": [],
   "source": []
  },
  {
   "cell_type": "markdown",
   "metadata": {},
   "source": [
    "# TRAINING THE MLN"
   ]
  },
  {
   "cell_type": "code",
   "execution_count": 19,
   "metadata": {},
   "outputs": [],
   "source": [
    "from sklearn.neural_network import MLPClassifier"
   ]
  },
  {
   "cell_type": "code",
   "execution_count": 20,
   "metadata": {},
   "outputs": [],
   "source": [
    "mlp = MLPClassifier(hidden_layer_sizes=(6,6),max_iter=500,solver='sgd',tol=0.0000000001,verbose=5,early_stopping=True,)"
   ]
  },
  {
   "cell_type": "raw",
   "metadata": {},
   "source": [
    "mlp = MLPClassifier(hidden_layer_sizes=(6,6,6),max_iter=500,solver='sgd',tol=0.000000001,verbose=10)"
   ]
  },
  {
   "cell_type": "code",
   "execution_count": 21,
   "metadata": {
    "scrolled": true
   },
   "outputs": [
    {
     "name": "stdout",
     "output_type": "stream",
     "text": [
      "Iteration 1, loss = 0.56207048\n",
      "Validation score: 0.775806\n",
      "Iteration 2, loss = 0.47947983\n",
      "Validation score: 0.794244\n",
      "Iteration 3, loss = 0.45290550\n",
      "Validation score: 0.804239\n",
      "Iteration 4, loss = 0.43652684\n",
      "Validation score: 0.811132\n",
      "Iteration 5, loss = 0.42455334\n",
      "Validation score: 0.816130\n",
      "Iteration 6, loss = 0.41495036\n",
      "Validation score: 0.820782\n",
      "Iteration 7, loss = 0.40677780\n",
      "Validation score: 0.823712\n",
      "Iteration 8, loss = 0.39954753\n",
      "Validation score: 0.828365\n",
      "Iteration 9, loss = 0.39289114\n",
      "Validation score: 0.831639\n",
      "Iteration 10, loss = 0.38666240\n",
      "Validation score: 0.834224\n",
      "Iteration 11, loss = 0.38086180\n",
      "Validation score: 0.837670\n",
      "Iteration 12, loss = 0.37538180\n",
      "Validation score: 0.840772\n",
      "Iteration 13, loss = 0.37015255\n",
      "Validation score: 0.841806\n",
      "Iteration 14, loss = 0.36520078\n",
      "Validation score: 0.843874\n",
      "Iteration 15, loss = 0.36046439\n",
      "Validation score: 0.846114\n",
      "Iteration 16, loss = 0.35596236\n",
      "Validation score: 0.848527\n",
      "Iteration 17, loss = 0.35165079\n",
      "Validation score: 0.849388\n",
      "Iteration 18, loss = 0.34752875\n",
      "Validation score: 0.852490\n",
      "Iteration 19, loss = 0.34363103\n",
      "Validation score: 0.854386\n",
      "Iteration 20, loss = 0.33988935\n",
      "Validation score: 0.855075\n",
      "Iteration 21, loss = 0.33631304\n",
      "Validation score: 0.856798\n",
      "Iteration 22, loss = 0.33291578\n",
      "Validation score: 0.858177\n",
      "Iteration 23, loss = 0.32964404\n",
      "Validation score: 0.859900\n",
      "Iteration 24, loss = 0.32652740\n",
      "Validation score: 0.862313\n",
      "Iteration 25, loss = 0.32352189\n",
      "Validation score: 0.864380\n",
      "Iteration 26, loss = 0.32065167\n",
      "Validation score: 0.866276\n",
      "Iteration 27, loss = 0.31792653\n",
      "Validation score: 0.867655\n",
      "Iteration 28, loss = 0.31529733\n",
      "Validation score: 0.868172\n",
      "Iteration 29, loss = 0.31278393\n",
      "Validation score: 0.869033\n",
      "Iteration 30, loss = 0.31036067\n",
      "Validation score: 0.872135\n",
      "Iteration 31, loss = 0.30807390\n",
      "Validation score: 0.872824\n",
      "Iteration 32, loss = 0.30584819\n",
      "Validation score: 0.873514\n",
      "Iteration 33, loss = 0.30371550\n",
      "Validation score: 0.875065\n",
      "Iteration 34, loss = 0.30166326\n",
      "Validation score: 0.875582\n",
      "Iteration 35, loss = 0.29970038\n",
      "Validation score: 0.876960\n",
      "Iteration 36, loss = 0.29779817\n",
      "Validation score: 0.878683\n",
      "Iteration 37, loss = 0.29596761\n",
      "Validation score: 0.878856\n",
      "Iteration 38, loss = 0.29419987\n",
      "Validation score: 0.879545\n",
      "Iteration 39, loss = 0.29247569\n",
      "Validation score: 0.881441\n",
      "Iteration 40, loss = 0.29078067\n",
      "Validation score: 0.882992\n",
      "Iteration 41, loss = 0.28920239\n",
      "Validation score: 0.883336\n",
      "Iteration 42, loss = 0.28758366\n",
      "Validation score: 0.883336\n",
      "Iteration 43, loss = 0.28609257\n",
      "Validation score: 0.884887\n",
      "Iteration 44, loss = 0.28460870\n",
      "Validation score: 0.887300\n",
      "Iteration 45, loss = 0.28318482\n",
      "Validation score: 0.887817\n",
      "Iteration 46, loss = 0.28176121\n",
      "Validation score: 0.887300\n",
      "Iteration 47, loss = 0.28044302\n",
      "Validation score: 0.888678\n",
      "Iteration 48, loss = 0.27909863\n",
      "Validation score: 0.889023\n",
      "Iteration 49, loss = 0.27781360\n",
      "Validation score: 0.890574\n",
      "Iteration 50, loss = 0.27654222\n",
      "Validation score: 0.891263\n",
      "Iteration 51, loss = 0.27532145\n",
      "Validation score: 0.891780\n",
      "Iteration 52, loss = 0.27409558\n",
      "Validation score: 0.894020\n",
      "Iteration 53, loss = 0.27292594\n",
      "Validation score: 0.893503\n",
      "Iteration 54, loss = 0.27176575\n",
      "Validation score: 0.893331\n",
      "Iteration 55, loss = 0.27064226\n",
      "Validation score: 0.896605\n",
      "Iteration 56, loss = 0.26953043\n",
      "Validation score: 0.897295\n",
      "Iteration 57, loss = 0.26843684\n",
      "Validation score: 0.897295\n",
      "Iteration 58, loss = 0.26738178\n",
      "Validation score: 0.897984\n",
      "Iteration 59, loss = 0.26632473\n",
      "Validation score: 0.898673\n",
      "Iteration 60, loss = 0.26532353\n",
      "Validation score: 0.899362\n",
      "Iteration 61, loss = 0.26431424\n",
      "Validation score: 0.899707\n",
      "Iteration 62, loss = 0.26333480\n",
      "Validation score: 0.899707\n",
      "Iteration 63, loss = 0.26238646\n",
      "Validation score: 0.900052\n",
      "Iteration 64, loss = 0.26141652\n",
      "Validation score: 0.901775\n",
      "Iteration 65, loss = 0.26045869\n",
      "Validation score: 0.902809\n",
      "Iteration 66, loss = 0.25962669\n",
      "Validation score: 0.901947\n",
      "Iteration 67, loss = 0.25871800\n",
      "Validation score: 0.902292\n",
      "Iteration 68, loss = 0.25780010\n",
      "Validation score: 0.902809\n",
      "Validation score did not improve more than tol=0.000000 for two consecutive epochs. Stopping.\n"
     ]
    },
    {
     "data": {
      "text/plain": [
       "MLPClassifier(activation='relu', alpha=0.0001, batch_size='auto', beta_1=0.9,\n",
       "       beta_2=0.999, early_stopping=True, epsilon=1e-08,\n",
       "       hidden_layer_sizes=(100,), learning_rate='constant',\n",
       "       learning_rate_init=0.001, max_iter=500, momentum=0.9,\n",
       "       nesterovs_momentum=True, power_t=0.5, random_state=None,\n",
       "       shuffle=True, solver='sgd', tol=1e-10, validation_fraction=0.1,\n",
       "       verbose=5, warm_start=False)"
      ]
     },
     "execution_count": 21,
     "metadata": {},
     "output_type": "execute_result"
    }
   ],
   "source": [
    "mlp.fit(X_train,y_train)"
   ]
  },
  {
   "cell_type": "code",
   "execution_count": 22,
   "metadata": {},
   "outputs": [],
   "source": [
    "predictions = mlp.predict(x_test)"
   ]
  },
  {
   "cell_type": "code",
   "execution_count": 23,
   "metadata": {
    "scrolled": true
   },
   "outputs": [
    {
     "data": {
      "text/plain": [
       "828"
      ]
     },
     "execution_count": 23,
     "metadata": {},
     "output_type": "execute_result"
    }
   ],
   "source": [
    "predictions.sum()"
   ]
  },
  {
   "cell_type": "code",
   "execution_count": 24,
   "metadata": {},
   "outputs": [],
   "source": [
    "from sklearn.model_selection import cross_val_score, StratifiedShuffleSplit"
   ]
  },
  {
   "cell_type": "raw",
   "metadata": {
    "scrolled": true
   },
   "source": [
    "cross_val_score(mlp, X_train,y_train, cv=2)"
   ]
  },
  {
   "cell_type": "code",
   "execution_count": 25,
   "metadata": {},
   "outputs": [],
   "source": [
    "probs = mlp.predict_proba(x_test)"
   ]
  },
  {
   "cell_type": "code",
   "execution_count": 26,
   "metadata": {},
   "outputs": [
    {
     "data": {
      "text/plain": [
       "array([[9.78471445e-01, 2.15285546e-02],\n",
       "       [1.65333568e-02, 9.83466643e-01],\n",
       "       [9.76373779e-01, 2.36262212e-02],\n",
       "       ...,\n",
       "       [5.68512381e-04, 9.99431488e-01],\n",
       "       [7.79852541e-01, 2.20147459e-01],\n",
       "       [8.21360231e-01, 1.78639769e-01]])"
      ]
     },
     "execution_count": 26,
     "metadata": {},
     "output_type": "execute_result"
    }
   ],
   "source": [
    "probs"
   ]
  },
  {
   "cell_type": "code",
   "execution_count": 27,
   "metadata": {},
   "outputs": [],
   "source": [
    "probabs = [probs[i][1] for i in range(len(probs))]"
   ]
  },
  {
   "cell_type": "code",
   "execution_count": 28,
   "metadata": {},
   "outputs": [],
   "source": [
    "logistic_predictions = pd.DataFrame()"
   ]
  },
  {
   "cell_type": "code",
   "execution_count": 29,
   "metadata": {},
   "outputs": [],
   "source": [
    "logistic_predictions['Prediction'] = probabs"
   ]
  },
  {
   "cell_type": "code",
   "execution_count": 30,
   "metadata": {},
   "outputs": [],
   "source": [
    "logistic_predictions['Id'] = ID"
   ]
  },
  {
   "cell_type": "code",
   "execution_count": 31,
   "metadata": {},
   "outputs": [],
   "source": [
    "logistic_predictions.set_index('Id',drop=True,inplace=True)"
   ]
  },
  {
   "cell_type": "code",
   "execution_count": 32,
   "metadata": {},
   "outputs": [],
   "source": [
    "logistic_predictions.to_csv('predictionmlb.csv')"
   ]
  },
  {
   "cell_type": "code",
   "execution_count": 33,
   "metadata": {},
   "outputs": [
    {
     "data": {
      "text/plain": [
       "Prediction    860.928042\n",
       "dtype: float64"
      ]
     },
     "execution_count": 33,
     "metadata": {},
     "output_type": "execute_result"
    }
   ],
   "source": [
    "logistic_predictions.sum()"
   ]
  },
  {
   "cell_type": "code",
   "execution_count": null,
   "metadata": {},
   "outputs": [],
   "source": []
  }
 ],
 "metadata": {
  "kernelspec": {
   "display_name": "Python 3",
   "language": "python",
   "name": "python3"
  },
  "language_info": {
   "codemirror_mode": {
    "name": "ipython",
    "version": 3
   },
   "file_extension": ".py",
   "mimetype": "text/x-python",
   "name": "python",
   "nbconvert_exporter": "python",
   "pygments_lexer": "ipython3",
   "version": "3.6.3"
  }
 },
 "nbformat": 4,
 "nbformat_minor": 2
}
