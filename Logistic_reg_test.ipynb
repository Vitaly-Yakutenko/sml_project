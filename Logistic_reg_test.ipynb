{
 "cells": [
  {
   "cell_type": "code",
   "execution_count": 1,
   "metadata": {},
   "outputs": [],
   "source": [
    "import pandas as pd\n",
    "import numpy as np"
   ]
  },
  {
   "cell_type": "code",
   "execution_count": 2,
   "metadata": {},
   "outputs": [],
   "source": [
    "import seaborn as sns\n",
    "import matplotlib.pyplot as plt\n",
    "%matplotlib inline"
   ]
  },
  {
   "cell_type": "code",
   "execution_count": 3,
   "metadata": {},
   "outputs": [],
   "source": [
    "node_features =  pd.read_csv('../docs/node_features.csv')"
   ]
  },
  {
   "cell_type": "code",
   "execution_count": 4,
   "metadata": {},
   "outputs": [],
   "source": [
    "source_features = pd.read_csv('../docs/source_features.csv.zip')"
   ]
  },
  {
   "cell_type": "code",
   "execution_count": 5,
   "metadata": {},
   "outputs": [],
   "source": [
    "source_features.drop('Unnamed: 0',axis=1,inplace=True)"
   ]
  },
  {
   "cell_type": "code",
   "execution_count": 6,
   "metadata": {},
   "outputs": [],
   "source": [
    "#source_features = source_features_start.join(node_features.set_index('node_id').drop(['is_parent_node','is_leaf_node','parents_count','children_links_counts',\n",
    "                                                           #'parents_links_counts'], axis=1),on='node_id')"
   ]
  },
  {
   "cell_type": "code",
   "execution_count": 7,
   "metadata": {},
   "outputs": [
    {
     "data": {
      "text/html": [
       "<div>\n",
       "<style>\n",
       "    .dataframe thead tr:only-child th {\n",
       "        text-align: right;\n",
       "    }\n",
       "\n",
       "    .dataframe thead th {\n",
       "        text-align: left;\n",
       "    }\n",
       "\n",
       "    .dataframe tbody tr th {\n",
       "        vertical-align: top;\n",
       "    }\n",
       "</style>\n",
       "<table border=\"1\" class=\"dataframe\">\n",
       "  <thead>\n",
       "    <tr style=\"text-align: right;\">\n",
       "      <th></th>\n",
       "      <th>node_id</th>\n",
       "      <th>parents_count</th>\n",
       "      <th>non_leaf_descendants_count</th>\n",
       "      <th>leaf_descendans_count</th>\n",
       "    </tr>\n",
       "  </thead>\n",
       "  <tbody>\n",
       "    <tr>\n",
       "      <th>0</th>\n",
       "      <td>1097</td>\n",
       "      <td>21</td>\n",
       "      <td>37.0</td>\n",
       "      <td>139.0</td>\n",
       "    </tr>\n",
       "    <tr>\n",
       "      <th>1</th>\n",
       "      <td>1122</td>\n",
       "      <td>109</td>\n",
       "      <td>251.0</td>\n",
       "      <td>761.0</td>\n",
       "    </tr>\n",
       "    <tr>\n",
       "      <th>2</th>\n",
       "      <td>1152</td>\n",
       "      <td>94</td>\n",
       "      <td>99.0</td>\n",
       "      <td>2678.0</td>\n",
       "    </tr>\n",
       "    <tr>\n",
       "      <th>3</th>\n",
       "      <td>1170</td>\n",
       "      <td>138</td>\n",
       "      <td>118.0</td>\n",
       "      <td>334.0</td>\n",
       "    </tr>\n",
       "    <tr>\n",
       "      <th>4</th>\n",
       "      <td>1174</td>\n",
       "      <td>187</td>\n",
       "      <td>198.0</td>\n",
       "      <td>344.0</td>\n",
       "    </tr>\n",
       "  </tbody>\n",
       "</table>\n",
       "</div>"
      ],
      "text/plain": [
       "   node_id  parents_count  non_leaf_descendants_count  leaf_descendans_count\n",
       "0     1097             21                        37.0                  139.0\n",
       "1     1122            109                       251.0                  761.0\n",
       "2     1152             94                        99.0                 2678.0\n",
       "3     1170            138                       118.0                  334.0\n",
       "4     1174            187                       198.0                  344.0"
      ]
     },
     "execution_count": 7,
     "metadata": {},
     "output_type": "execute_result"
    }
   ],
   "source": [
    "source_features.head()"
   ]
  },
  {
   "cell_type": "code",
   "execution_count": 8,
   "metadata": {},
   "outputs": [
    {
     "data": {
      "text/plain": [
       "node_id                       20000\n",
       "parents_count                   902\n",
       "non_leaf_descendants_count      845\n",
       "leaf_descendans_count          2891\n",
       "dtype: int64"
      ]
     },
     "execution_count": 8,
     "metadata": {},
     "output_type": "execute_result"
    }
   ],
   "source": [
    "source_features.nunique()"
   ]
  },
  {
   "cell_type": "code",
   "execution_count": 9,
   "metadata": {},
   "outputs": [],
   "source": [
    "sink_features = pd.read_csv('../docs/sink_features.v2.csv.gz')"
   ]
  },
  {
   "cell_type": "code",
   "execution_count": 10,
   "metadata": {},
   "outputs": [],
   "source": [
    "sink_features.drop('is_leaf_node',inplace=True,axis=1)"
   ]
  },
  {
   "cell_type": "code",
   "execution_count": 11,
   "metadata": {},
   "outputs": [
    {
     "data": {
      "text/plain": [
       "node_id                              4867136\n",
       "parent_non_leaf_descendants_count    4867136\n",
       "parent_leaf_descendans_count         4867136\n",
       "parents_count                        4867136\n",
       "dtype: int64"
      ]
     },
     "execution_count": 11,
     "metadata": {},
     "output_type": "execute_result"
    }
   ],
   "source": [
    "sink_features.count()"
   ]
  },
  {
   "cell_type": "code",
   "execution_count": 12,
   "metadata": {
    "scrolled": true
   },
   "outputs": [
    {
     "data": {
      "text/html": [
       "<div>\n",
       "<style>\n",
       "    .dataframe thead tr:only-child th {\n",
       "        text-align: right;\n",
       "    }\n",
       "\n",
       "    .dataframe thead th {\n",
       "        text-align: left;\n",
       "    }\n",
       "\n",
       "    .dataframe tbody tr th {\n",
       "        vertical-align: top;\n",
       "    }\n",
       "</style>\n",
       "<table border=\"1\" class=\"dataframe\">\n",
       "  <thead>\n",
       "    <tr style=\"text-align: right;\">\n",
       "      <th></th>\n",
       "      <th>Source</th>\n",
       "      <th>Sink</th>\n",
       "      <th>AA</th>\n",
       "      <th>JA</th>\n",
       "      <th>PA</th>\n",
       "      <th>Id</th>\n",
       "    </tr>\n",
       "  </thead>\n",
       "  <tbody>\n",
       "    <tr>\n",
       "      <th>0</th>\n",
       "      <td>2184483</td>\n",
       "      <td>1300190</td>\n",
       "      <td>0.000000</td>\n",
       "      <td>0.000000</td>\n",
       "      <td>435</td>\n",
       "      <td>1</td>\n",
       "    </tr>\n",
       "    <tr>\n",
       "      <th>1</th>\n",
       "      <td>3151356</td>\n",
       "      <td>1452193</td>\n",
       "      <td>0.407705</td>\n",
       "      <td>0.006260</td>\n",
       "      <td>102306</td>\n",
       "      <td>2</td>\n",
       "    </tr>\n",
       "    <tr>\n",
       "      <th>2</th>\n",
       "      <td>1579396</td>\n",
       "      <td>193159</td>\n",
       "      <td>0.000000</td>\n",
       "      <td>0.000000</td>\n",
       "      <td>418</td>\n",
       "      <td>3</td>\n",
       "    </tr>\n",
       "    <tr>\n",
       "      <th>3</th>\n",
       "      <td>1406432</td>\n",
       "      <td>2481036</td>\n",
       "      <td>1.238898</td>\n",
       "      <td>0.062500</td>\n",
       "      <td>2838</td>\n",
       "      <td>4</td>\n",
       "    </tr>\n",
       "    <tr>\n",
       "      <th>4</th>\n",
       "      <td>2389638</td>\n",
       "      <td>593017</td>\n",
       "      <td>0.802812</td>\n",
       "      <td>0.012072</td>\n",
       "      <td>62196</td>\n",
       "      <td>5</td>\n",
       "    </tr>\n",
       "  </tbody>\n",
       "</table>\n",
       "</div>"
      ],
      "text/plain": [
       "    Source     Sink        AA        JA      PA  Id\n",
       "0  2184483  1300190  0.000000  0.000000     435   1\n",
       "1  3151356  1452193  0.407705  0.006260  102306   2\n",
       "2  1579396   193159  0.000000  0.000000     418   3\n",
       "3  1406432  2481036  1.238898  0.062500    2838   4\n",
       "4  2389638   593017  0.802812  0.012072   62196   5"
      ]
     },
     "execution_count": 12,
     "metadata": {},
     "output_type": "execute_result"
    }
   ],
   "source": [
    "test_data = pd.read_csv('../docs/coef_comparision_TestDataSet.csv')\n",
    "test_data.head()"
   ]
  },
  {
   "cell_type": "code",
   "execution_count": 13,
   "metadata": {},
   "outputs": [],
   "source": [
    "test_data.drop(['JA','PA'],axis=1,inplace=True)"
   ]
  },
  {
   "cell_type": "markdown",
   "metadata": {},
   "source": [
    "# Feature matrix for test data"
   ]
  },
  {
   "cell_type": "code",
   "execution_count": 14,
   "metadata": {},
   "outputs": [],
   "source": [
    "df1 = test_data.join(source_features.set_index('node_id'),on='Source')"
   ]
  },
  {
   "cell_type": "code",
   "execution_count": 15,
   "metadata": {},
   "outputs": [
    {
     "data": {
      "text/html": [
       "<div>\n",
       "<style>\n",
       "    .dataframe thead tr:only-child th {\n",
       "        text-align: right;\n",
       "    }\n",
       "\n",
       "    .dataframe thead th {\n",
       "        text-align: left;\n",
       "    }\n",
       "\n",
       "    .dataframe tbody tr th {\n",
       "        vertical-align: top;\n",
       "    }\n",
       "</style>\n",
       "<table border=\"1\" class=\"dataframe\">\n",
       "  <thead>\n",
       "    <tr style=\"text-align: right;\">\n",
       "      <th></th>\n",
       "      <th>Source</th>\n",
       "      <th>Sink</th>\n",
       "      <th>AA</th>\n",
       "      <th>Id</th>\n",
       "      <th>parents_count</th>\n",
       "      <th>non_leaf_descendants_count</th>\n",
       "      <th>leaf_descendans_count</th>\n",
       "    </tr>\n",
       "  </thead>\n",
       "  <tbody>\n",
       "    <tr>\n",
       "      <th>0</th>\n",
       "      <td>2184483</td>\n",
       "      <td>1300190</td>\n",
       "      <td>0.000000</td>\n",
       "      <td>1</td>\n",
       "      <td>102</td>\n",
       "      <td>65.0</td>\n",
       "      <td>18.0</td>\n",
       "    </tr>\n",
       "    <tr>\n",
       "      <th>1</th>\n",
       "      <td>3151356</td>\n",
       "      <td>1452193</td>\n",
       "      <td>0.407705</td>\n",
       "      <td>2</td>\n",
       "      <td>39</td>\n",
       "      <td>119.0</td>\n",
       "      <td>221.0</td>\n",
       "    </tr>\n",
       "    <tr>\n",
       "      <th>2</th>\n",
       "      <td>1579396</td>\n",
       "      <td>193159</td>\n",
       "      <td>0.000000</td>\n",
       "      <td>3</td>\n",
       "      <td>13</td>\n",
       "      <td>66.0</td>\n",
       "      <td>142.0</td>\n",
       "    </tr>\n",
       "    <tr>\n",
       "      <th>3</th>\n",
       "      <td>1406432</td>\n",
       "      <td>2481036</td>\n",
       "      <td>1.238898</td>\n",
       "      <td>4</td>\n",
       "      <td>16</td>\n",
       "      <td>48.0</td>\n",
       "      <td>36.0</td>\n",
       "    </tr>\n",
       "    <tr>\n",
       "      <th>4</th>\n",
       "      <td>2389638</td>\n",
       "      <td>593017</td>\n",
       "      <td>0.802812</td>\n",
       "      <td>5</td>\n",
       "      <td>30</td>\n",
       "      <td>69.0</td>\n",
       "      <td>198.0</td>\n",
       "    </tr>\n",
       "  </tbody>\n",
       "</table>\n",
       "</div>"
      ],
      "text/plain": [
       "    Source     Sink        AA  Id  parents_count  non_leaf_descendants_count  \\\n",
       "0  2184483  1300190  0.000000   1            102                        65.0   \n",
       "1  3151356  1452193  0.407705   2             39                       119.0   \n",
       "2  1579396   193159  0.000000   3             13                        66.0   \n",
       "3  1406432  2481036  1.238898   4             16                        48.0   \n",
       "4  2389638   593017  0.802812   5             30                        69.0   \n",
       "\n",
       "   leaf_descendans_count  \n",
       "0                   18.0  \n",
       "1                  221.0  \n",
       "2                  142.0  \n",
       "3                   36.0  \n",
       "4                  198.0  "
      ]
     },
     "execution_count": 15,
     "metadata": {},
     "output_type": "execute_result"
    }
   ],
   "source": [
    "df1.head()"
   ]
  },
  {
   "cell_type": "code",
   "execution_count": 16,
   "metadata": {},
   "outputs": [],
   "source": [
    "df1.rename(columns= {'parents_count':'source_parents_count',\n",
    "                              'non_leaf_descendants_count':'source_non_leaf_descendants_count',\n",
    "                              'leaf_descendans_count':'source_leaf_descendans_count'},inplace=True)"
   ]
  },
  {
   "cell_type": "code",
   "execution_count": 17,
   "metadata": {},
   "outputs": [
    {
     "data": {
      "text/html": [
       "<div>\n",
       "<style>\n",
       "    .dataframe thead tr:only-child th {\n",
       "        text-align: right;\n",
       "    }\n",
       "\n",
       "    .dataframe thead th {\n",
       "        text-align: left;\n",
       "    }\n",
       "\n",
       "    .dataframe tbody tr th {\n",
       "        vertical-align: top;\n",
       "    }\n",
       "</style>\n",
       "<table border=\"1\" class=\"dataframe\">\n",
       "  <thead>\n",
       "    <tr style=\"text-align: right;\">\n",
       "      <th></th>\n",
       "      <th>Source</th>\n",
       "      <th>Sink</th>\n",
       "      <th>AA</th>\n",
       "      <th>Id</th>\n",
       "      <th>source_parents_count</th>\n",
       "      <th>source_non_leaf_descendants_count</th>\n",
       "      <th>source_leaf_descendans_count</th>\n",
       "    </tr>\n",
       "  </thead>\n",
       "  <tbody>\n",
       "    <tr>\n",
       "      <th>0</th>\n",
       "      <td>2184483</td>\n",
       "      <td>1300190</td>\n",
       "      <td>0.000000</td>\n",
       "      <td>1</td>\n",
       "      <td>102</td>\n",
       "      <td>65.0</td>\n",
       "      <td>18.0</td>\n",
       "    </tr>\n",
       "    <tr>\n",
       "      <th>1</th>\n",
       "      <td>3151356</td>\n",
       "      <td>1452193</td>\n",
       "      <td>0.407705</td>\n",
       "      <td>2</td>\n",
       "      <td>39</td>\n",
       "      <td>119.0</td>\n",
       "      <td>221.0</td>\n",
       "    </tr>\n",
       "    <tr>\n",
       "      <th>2</th>\n",
       "      <td>1579396</td>\n",
       "      <td>193159</td>\n",
       "      <td>0.000000</td>\n",
       "      <td>3</td>\n",
       "      <td>13</td>\n",
       "      <td>66.0</td>\n",
       "      <td>142.0</td>\n",
       "    </tr>\n",
       "    <tr>\n",
       "      <th>3</th>\n",
       "      <td>1406432</td>\n",
       "      <td>2481036</td>\n",
       "      <td>1.238898</td>\n",
       "      <td>4</td>\n",
       "      <td>16</td>\n",
       "      <td>48.0</td>\n",
       "      <td>36.0</td>\n",
       "    </tr>\n",
       "    <tr>\n",
       "      <th>4</th>\n",
       "      <td>2389638</td>\n",
       "      <td>593017</td>\n",
       "      <td>0.802812</td>\n",
       "      <td>5</td>\n",
       "      <td>30</td>\n",
       "      <td>69.0</td>\n",
       "      <td>198.0</td>\n",
       "    </tr>\n",
       "  </tbody>\n",
       "</table>\n",
       "</div>"
      ],
      "text/plain": [
       "    Source     Sink        AA  Id  source_parents_count  \\\n",
       "0  2184483  1300190  0.000000   1                   102   \n",
       "1  3151356  1452193  0.407705   2                    39   \n",
       "2  1579396   193159  0.000000   3                    13   \n",
       "3  1406432  2481036  1.238898   4                    16   \n",
       "4  2389638   593017  0.802812   5                    30   \n",
       "\n",
       "   source_non_leaf_descendants_count  source_leaf_descendans_count  \n",
       "0                               65.0                          18.0  \n",
       "1                              119.0                         221.0  \n",
       "2                               66.0                         142.0  \n",
       "3                               48.0                          36.0  \n",
       "4                               69.0                         198.0  "
      ]
     },
     "execution_count": 17,
     "metadata": {},
     "output_type": "execute_result"
    }
   ],
   "source": [
    "df1.head()"
   ]
  },
  {
   "cell_type": "code",
   "execution_count": 18,
   "metadata": {},
   "outputs": [],
   "source": [
    "df2 = test_data.join(sink_features.set_index('node_id'),on='Sink')"
   ]
  },
  {
   "cell_type": "code",
   "execution_count": 19,
   "metadata": {},
   "outputs": [],
   "source": [
    "df2.rename(columns={'parents_count':'sink_parents_count',\n",
    "                              'parent_non_leaf_descendants_count':'sink_parent_non_leaf_descendants_count',\n",
    "                              'parent_leaf_descendans_count':'sink_parent_leaf_descendans_count'},inplace=True)"
   ]
  },
  {
   "cell_type": "code",
   "execution_count": 20,
   "metadata": {},
   "outputs": [
    {
     "data": {
      "text/html": [
       "<div>\n",
       "<style>\n",
       "    .dataframe thead tr:only-child th {\n",
       "        text-align: right;\n",
       "    }\n",
       "\n",
       "    .dataframe thead th {\n",
       "        text-align: left;\n",
       "    }\n",
       "\n",
       "    .dataframe tbody tr th {\n",
       "        vertical-align: top;\n",
       "    }\n",
       "</style>\n",
       "<table border=\"1\" class=\"dataframe\">\n",
       "  <thead>\n",
       "    <tr style=\"text-align: right;\">\n",
       "      <th></th>\n",
       "      <th>Source</th>\n",
       "      <th>Sink</th>\n",
       "      <th>AA</th>\n",
       "      <th>Id</th>\n",
       "      <th>sink_parent_non_leaf_descendants_count</th>\n",
       "      <th>sink_parent_leaf_descendans_count</th>\n",
       "      <th>sink_parents_count</th>\n",
       "    </tr>\n",
       "  </thead>\n",
       "  <tbody>\n",
       "    <tr>\n",
       "      <th>0</th>\n",
       "      <td>2184483</td>\n",
       "      <td>1300190</td>\n",
       "      <td>0.000000</td>\n",
       "      <td>1</td>\n",
       "      <td>2702</td>\n",
       "      <td>109609</td>\n",
       "      <td>3</td>\n",
       "    </tr>\n",
       "    <tr>\n",
       "      <th>1</th>\n",
       "      <td>3151356</td>\n",
       "      <td>1452193</td>\n",
       "      <td>0.407705</td>\n",
       "      <td>2</td>\n",
       "      <td>179071</td>\n",
       "      <td>8088742</td>\n",
       "      <td>289</td>\n",
       "    </tr>\n",
       "    <tr>\n",
       "      <th>2</th>\n",
       "      <td>1579396</td>\n",
       "      <td>193159</td>\n",
       "      <td>0.000000</td>\n",
       "      <td>3</td>\n",
       "      <td>3396</td>\n",
       "      <td>16755</td>\n",
       "      <td>2</td>\n",
       "    </tr>\n",
       "    <tr>\n",
       "      <th>3</th>\n",
       "      <td>1406432</td>\n",
       "      <td>2481036</td>\n",
       "      <td>1.238898</td>\n",
       "      <td>4</td>\n",
       "      <td>2283</td>\n",
       "      <td>4034</td>\n",
       "      <td>24</td>\n",
       "    </tr>\n",
       "    <tr>\n",
       "      <th>4</th>\n",
       "      <td>2389638</td>\n",
       "      <td>593017</td>\n",
       "      <td>0.802812</td>\n",
       "      <td>5</td>\n",
       "      <td>41352</td>\n",
       "      <td>544270</td>\n",
       "      <td>165</td>\n",
       "    </tr>\n",
       "  </tbody>\n",
       "</table>\n",
       "</div>"
      ],
      "text/plain": [
       "    Source     Sink        AA  Id  sink_parent_non_leaf_descendants_count  \\\n",
       "0  2184483  1300190  0.000000   1                                    2702   \n",
       "1  3151356  1452193  0.407705   2                                  179071   \n",
       "2  1579396   193159  0.000000   3                                    3396   \n",
       "3  1406432  2481036  1.238898   4                                    2283   \n",
       "4  2389638   593017  0.802812   5                                   41352   \n",
       "\n",
       "   sink_parent_leaf_descendans_count  sink_parents_count  \n",
       "0                             109609                   3  \n",
       "1                            8088742                 289  \n",
       "2                              16755                   2  \n",
       "3                               4034                  24  \n",
       "4                             544270                 165  "
      ]
     },
     "execution_count": 20,
     "metadata": {},
     "output_type": "execute_result"
    }
   ],
   "source": [
    "df2.head()"
   ]
  },
  {
   "cell_type": "code",
   "execution_count": 21,
   "metadata": {},
   "outputs": [],
   "source": [
    "X_test = df1.join(df2.set_index('Id').drop(['Source','AA','Sink'],axis=1),on='Id')"
   ]
  },
  {
   "cell_type": "code",
   "execution_count": 22,
   "metadata": {},
   "outputs": [
    {
     "data": {
      "text/html": [
       "<div>\n",
       "<style>\n",
       "    .dataframe thead tr:only-child th {\n",
       "        text-align: right;\n",
       "    }\n",
       "\n",
       "    .dataframe thead th {\n",
       "        text-align: left;\n",
       "    }\n",
       "\n",
       "    .dataframe tbody tr th {\n",
       "        vertical-align: top;\n",
       "    }\n",
       "</style>\n",
       "<table border=\"1\" class=\"dataframe\">\n",
       "  <thead>\n",
       "    <tr style=\"text-align: right;\">\n",
       "      <th></th>\n",
       "      <th>Source</th>\n",
       "      <th>Sink</th>\n",
       "      <th>AA</th>\n",
       "      <th>Id</th>\n",
       "      <th>source_parents_count</th>\n",
       "      <th>source_non_leaf_descendants_count</th>\n",
       "      <th>source_leaf_descendans_count</th>\n",
       "      <th>sink_parent_non_leaf_descendants_count</th>\n",
       "      <th>sink_parent_leaf_descendans_count</th>\n",
       "      <th>sink_parents_count</th>\n",
       "    </tr>\n",
       "  </thead>\n",
       "  <tbody>\n",
       "    <tr>\n",
       "      <th>0</th>\n",
       "      <td>2184483</td>\n",
       "      <td>1300190</td>\n",
       "      <td>0.000000</td>\n",
       "      <td>1</td>\n",
       "      <td>102</td>\n",
       "      <td>65.0</td>\n",
       "      <td>18.0</td>\n",
       "      <td>2702</td>\n",
       "      <td>109609</td>\n",
       "      <td>3</td>\n",
       "    </tr>\n",
       "    <tr>\n",
       "      <th>1</th>\n",
       "      <td>3151356</td>\n",
       "      <td>1452193</td>\n",
       "      <td>0.407705</td>\n",
       "      <td>2</td>\n",
       "      <td>39</td>\n",
       "      <td>119.0</td>\n",
       "      <td>221.0</td>\n",
       "      <td>179071</td>\n",
       "      <td>8088742</td>\n",
       "      <td>289</td>\n",
       "    </tr>\n",
       "    <tr>\n",
       "      <th>2</th>\n",
       "      <td>1579396</td>\n",
       "      <td>193159</td>\n",
       "      <td>0.000000</td>\n",
       "      <td>3</td>\n",
       "      <td>13</td>\n",
       "      <td>66.0</td>\n",
       "      <td>142.0</td>\n",
       "      <td>3396</td>\n",
       "      <td>16755</td>\n",
       "      <td>2</td>\n",
       "    </tr>\n",
       "    <tr>\n",
       "      <th>3</th>\n",
       "      <td>1406432</td>\n",
       "      <td>2481036</td>\n",
       "      <td>1.238898</td>\n",
       "      <td>4</td>\n",
       "      <td>16</td>\n",
       "      <td>48.0</td>\n",
       "      <td>36.0</td>\n",
       "      <td>2283</td>\n",
       "      <td>4034</td>\n",
       "      <td>24</td>\n",
       "    </tr>\n",
       "    <tr>\n",
       "      <th>4</th>\n",
       "      <td>2389638</td>\n",
       "      <td>593017</td>\n",
       "      <td>0.802812</td>\n",
       "      <td>5</td>\n",
       "      <td>30</td>\n",
       "      <td>69.0</td>\n",
       "      <td>198.0</td>\n",
       "      <td>41352</td>\n",
       "      <td>544270</td>\n",
       "      <td>165</td>\n",
       "    </tr>\n",
       "  </tbody>\n",
       "</table>\n",
       "</div>"
      ],
      "text/plain": [
       "    Source     Sink        AA  Id  source_parents_count  \\\n",
       "0  2184483  1300190  0.000000   1                   102   \n",
       "1  3151356  1452193  0.407705   2                    39   \n",
       "2  1579396   193159  0.000000   3                    13   \n",
       "3  1406432  2481036  1.238898   4                    16   \n",
       "4  2389638   593017  0.802812   5                    30   \n",
       "\n",
       "   source_non_leaf_descendants_count  source_leaf_descendans_count  \\\n",
       "0                               65.0                          18.0   \n",
       "1                              119.0                         221.0   \n",
       "2                               66.0                         142.0   \n",
       "3                               48.0                          36.0   \n",
       "4                               69.0                         198.0   \n",
       "\n",
       "   sink_parent_non_leaf_descendants_count  sink_parent_leaf_descendans_count  \\\n",
       "0                                    2702                             109609   \n",
       "1                                  179071                            8088742   \n",
       "2                                    3396                              16755   \n",
       "3                                    2283                               4034   \n",
       "4                                   41352                             544270   \n",
       "\n",
       "   sink_parents_count  \n",
       "0                   3  \n",
       "1                 289  \n",
       "2                   2  \n",
       "3                  24  \n",
       "4                 165  "
      ]
     },
     "execution_count": 22,
     "metadata": {},
     "output_type": "execute_result"
    }
   ],
   "source": [
    "X_test.head()"
   ]
  },
  {
   "cell_type": "code",
   "execution_count": 23,
   "metadata": {},
   "outputs": [
    {
     "data": {
      "text/plain": [
       "Index(['Source', 'Sink', 'AA', 'Id', 'source_parents_count',\n",
       "       'source_non_leaf_descendants_count', 'source_leaf_descendans_count',\n",
       "       'sink_parent_non_leaf_descendants_count',\n",
       "       'sink_parent_leaf_descendans_count', 'sink_parents_count'],\n",
       "      dtype='object')"
      ]
     },
     "execution_count": 23,
     "metadata": {},
     "output_type": "execute_result"
    }
   ],
   "source": [
    "X_test.columns"
   ]
  },
  {
   "cell_type": "markdown",
   "metadata": {},
   "source": [
    "# Caliculating rank of the matrix"
   ]
  },
  {
   "cell_type": "code",
   "execution_count": 24,
   "metadata": {},
   "outputs": [],
   "source": [
    "from numpy.linalg import matrix_rank"
   ]
  },
  {
   "cell_type": "code",
   "execution_count": 25,
   "metadata": {},
   "outputs": [
    {
     "data": {
      "text/html": [
       "<div>\n",
       "<style>\n",
       "    .dataframe thead tr:only-child th {\n",
       "        text-align: right;\n",
       "    }\n",
       "\n",
       "    .dataframe thead th {\n",
       "        text-align: left;\n",
       "    }\n",
       "\n",
       "    .dataframe tbody tr th {\n",
       "        vertical-align: top;\n",
       "    }\n",
       "</style>\n",
       "<table border=\"1\" class=\"dataframe\">\n",
       "  <thead>\n",
       "    <tr style=\"text-align: right;\">\n",
       "      <th></th>\n",
       "      <th>Source</th>\n",
       "      <th>Sink</th>\n",
       "      <th>AA</th>\n",
       "      <th>Id</th>\n",
       "      <th>source_parents_count</th>\n",
       "      <th>source_non_leaf_descendants_count</th>\n",
       "      <th>source_leaf_descendans_count</th>\n",
       "      <th>sink_parent_non_leaf_descendants_count</th>\n",
       "      <th>sink_parent_leaf_descendans_count</th>\n",
       "      <th>sink_parents_count</th>\n",
       "    </tr>\n",
       "  </thead>\n",
       "  <tbody>\n",
       "    <tr>\n",
       "      <th>0</th>\n",
       "      <td>2184483</td>\n",
       "      <td>1300190</td>\n",
       "      <td>0.000000</td>\n",
       "      <td>1</td>\n",
       "      <td>102</td>\n",
       "      <td>65.0</td>\n",
       "      <td>18.0</td>\n",
       "      <td>2702</td>\n",
       "      <td>109609</td>\n",
       "      <td>3</td>\n",
       "    </tr>\n",
       "    <tr>\n",
       "      <th>1</th>\n",
       "      <td>3151356</td>\n",
       "      <td>1452193</td>\n",
       "      <td>0.407705</td>\n",
       "      <td>2</td>\n",
       "      <td>39</td>\n",
       "      <td>119.0</td>\n",
       "      <td>221.0</td>\n",
       "      <td>179071</td>\n",
       "      <td>8088742</td>\n",
       "      <td>289</td>\n",
       "    </tr>\n",
       "    <tr>\n",
       "      <th>2</th>\n",
       "      <td>1579396</td>\n",
       "      <td>193159</td>\n",
       "      <td>0.000000</td>\n",
       "      <td>3</td>\n",
       "      <td>13</td>\n",
       "      <td>66.0</td>\n",
       "      <td>142.0</td>\n",
       "      <td>3396</td>\n",
       "      <td>16755</td>\n",
       "      <td>2</td>\n",
       "    </tr>\n",
       "    <tr>\n",
       "      <th>3</th>\n",
       "      <td>1406432</td>\n",
       "      <td>2481036</td>\n",
       "      <td>1.238898</td>\n",
       "      <td>4</td>\n",
       "      <td>16</td>\n",
       "      <td>48.0</td>\n",
       "      <td>36.0</td>\n",
       "      <td>2283</td>\n",
       "      <td>4034</td>\n",
       "      <td>24</td>\n",
       "    </tr>\n",
       "    <tr>\n",
       "      <th>4</th>\n",
       "      <td>2389638</td>\n",
       "      <td>593017</td>\n",
       "      <td>0.802812</td>\n",
       "      <td>5</td>\n",
       "      <td>30</td>\n",
       "      <td>69.0</td>\n",
       "      <td>198.0</td>\n",
       "      <td>41352</td>\n",
       "      <td>544270</td>\n",
       "      <td>165</td>\n",
       "    </tr>\n",
       "  </tbody>\n",
       "</table>\n",
       "</div>"
      ],
      "text/plain": [
       "    Source     Sink        AA  Id  source_parents_count  \\\n",
       "0  2184483  1300190  0.000000   1                   102   \n",
       "1  3151356  1452193  0.407705   2                    39   \n",
       "2  1579396   193159  0.000000   3                    13   \n",
       "3  1406432  2481036  1.238898   4                    16   \n",
       "4  2389638   593017  0.802812   5                    30   \n",
       "\n",
       "   source_non_leaf_descendants_count  source_leaf_descendans_count  \\\n",
       "0                               65.0                          18.0   \n",
       "1                              119.0                         221.0   \n",
       "2                               66.0                         142.0   \n",
       "3                               48.0                          36.0   \n",
       "4                               69.0                         198.0   \n",
       "\n",
       "   sink_parent_non_leaf_descendants_count  sink_parent_leaf_descendans_count  \\\n",
       "0                                    2702                             109609   \n",
       "1                                  179071                            8088742   \n",
       "2                                    3396                              16755   \n",
       "3                                    2283                               4034   \n",
       "4                                   41352                             544270   \n",
       "\n",
       "   sink_parents_count  \n",
       "0                   3  \n",
       "1                 289  \n",
       "2                   2  \n",
       "3                  24  \n",
       "4                 165  "
      ]
     },
     "execution_count": 25,
     "metadata": {},
     "output_type": "execute_result"
    }
   ],
   "source": [
    "X_test.head()"
   ]
  },
  {
   "cell_type": "code",
   "execution_count": 26,
   "metadata": {},
   "outputs": [
    {
     "data": {
      "text/plain": [
       "7"
      ]
     },
     "execution_count": 26,
     "metadata": {},
     "output_type": "execute_result"
    }
   ],
   "source": [
    "matrix_rank(X_test.values[:, 3:])"
   ]
  },
  {
   "cell_type": "code",
   "execution_count": 27,
   "metadata": {},
   "outputs": [
    {
     "data": {
      "text/plain": [
       "0.0"
      ]
     },
     "execution_count": 27,
     "metadata": {},
     "output_type": "execute_result"
    }
   ],
   "source": [
    "0."
   ]
  },
  {
   "cell_type": "markdown",
   "metadata": {},
   "source": [
    "# Standardising the test data"
   ]
  },
  {
   "cell_type": "code",
   "execution_count": 28,
   "metadata": {},
   "outputs": [],
   "source": [
    "from sklearn import preprocessing"
   ]
  },
  {
   "cell_type": "code",
   "execution_count": 29,
   "metadata": {},
   "outputs": [],
   "source": [
    "#X_test_standardised = X_test.drop(['Id','Source','Sink','AA'],axis=1).apply(preprocessing.robust_scale)"
   ]
  },
  {
   "cell_type": "code",
   "execution_count": 30,
   "metadata": {},
   "outputs": [],
   "source": [
    "#X_test_standardised = X_test.drop(['Id','Source','Sink'],axis=1).apply(lambda x: np.log10(x+1))"
   ]
  },
  {
   "cell_type": "code",
   "execution_count": 31,
   "metadata": {},
   "outputs": [],
   "source": [
    "X_test_standardised = X_test.drop(['Id','Source','Sink'],axis=1).apply(lambda x: np.log(x+1))"
   ]
  },
  {
   "cell_type": "code",
   "execution_count": 32,
   "metadata": {},
   "outputs": [],
   "source": [
    "# applying tanh to squash the values between 0 to 1"
   ]
  },
  {
   "cell_type": "code",
   "execution_count": 33,
   "metadata": {},
   "outputs": [],
   "source": [
    "def new_sigmoid(x):\n",
    "    score = (2/(1+np.exp(-x)))-1\n",
    "    return score"
   ]
  },
  {
   "cell_type": "code",
   "execution_count": 34,
   "metadata": {},
   "outputs": [],
   "source": [
    "#X_test_standardised['AA'] = X_test['AA'].apply(new_sigmoid)"
   ]
  },
  {
   "cell_type": "code",
   "execution_count": 35,
   "metadata": {},
   "outputs": [],
   "source": [
    "#X_test_standardised.reset_index(drop=True,inplace=True)"
   ]
  },
  {
   "cell_type": "code",
   "execution_count": 36,
   "metadata": {},
   "outputs": [
    {
     "data": {
      "text/html": [
       "<div>\n",
       "<style>\n",
       "    .dataframe thead tr:only-child th {\n",
       "        text-align: right;\n",
       "    }\n",
       "\n",
       "    .dataframe thead th {\n",
       "        text-align: left;\n",
       "    }\n",
       "\n",
       "    .dataframe tbody tr th {\n",
       "        vertical-align: top;\n",
       "    }\n",
       "</style>\n",
       "<table border=\"1\" class=\"dataframe\">\n",
       "  <thead>\n",
       "    <tr style=\"text-align: right;\">\n",
       "      <th></th>\n",
       "      <th>AA</th>\n",
       "      <th>source_parents_count</th>\n",
       "      <th>source_non_leaf_descendants_count</th>\n",
       "      <th>source_leaf_descendans_count</th>\n",
       "      <th>sink_parent_non_leaf_descendants_count</th>\n",
       "      <th>sink_parent_leaf_descendans_count</th>\n",
       "      <th>sink_parents_count</th>\n",
       "    </tr>\n",
       "  </thead>\n",
       "  <tbody>\n",
       "    <tr>\n",
       "      <th>0</th>\n",
       "      <td>0.000000</td>\n",
       "      <td>4.634729</td>\n",
       "      <td>4.189655</td>\n",
       "      <td>2.944439</td>\n",
       "      <td>7.902118</td>\n",
       "      <td>11.604684</td>\n",
       "      <td>1.386294</td>\n",
       "    </tr>\n",
       "    <tr>\n",
       "      <th>1</th>\n",
       "      <td>0.341960</td>\n",
       "      <td>3.688879</td>\n",
       "      <td>4.787492</td>\n",
       "      <td>5.402677</td>\n",
       "      <td>12.095543</td>\n",
       "      <td>15.905984</td>\n",
       "      <td>5.669881</td>\n",
       "    </tr>\n",
       "    <tr>\n",
       "      <th>2</th>\n",
       "      <td>0.000000</td>\n",
       "      <td>2.639057</td>\n",
       "      <td>4.204693</td>\n",
       "      <td>4.962845</td>\n",
       "      <td>8.130648</td>\n",
       "      <td>9.726512</td>\n",
       "      <td>1.098612</td>\n",
       "    </tr>\n",
       "    <tr>\n",
       "      <th>3</th>\n",
       "      <td>0.805984</td>\n",
       "      <td>2.833213</td>\n",
       "      <td>3.891820</td>\n",
       "      <td>3.610918</td>\n",
       "      <td>7.733684</td>\n",
       "      <td>8.302762</td>\n",
       "      <td>3.218876</td>\n",
       "    </tr>\n",
       "    <tr>\n",
       "      <th>4</th>\n",
       "      <td>0.589348</td>\n",
       "      <td>3.433987</td>\n",
       "      <td>4.248495</td>\n",
       "      <td>5.293305</td>\n",
       "      <td>10.629900</td>\n",
       "      <td>13.207203</td>\n",
       "      <td>5.111988</td>\n",
       "    </tr>\n",
       "  </tbody>\n",
       "</table>\n",
       "</div>"
      ],
      "text/plain": [
       "         AA  source_parents_count  source_non_leaf_descendants_count  \\\n",
       "0  0.000000              4.634729                           4.189655   \n",
       "1  0.341960              3.688879                           4.787492   \n",
       "2  0.000000              2.639057                           4.204693   \n",
       "3  0.805984              2.833213                           3.891820   \n",
       "4  0.589348              3.433987                           4.248495   \n",
       "\n",
       "   source_leaf_descendans_count  sink_parent_non_leaf_descendants_count  \\\n",
       "0                      2.944439                                7.902118   \n",
       "1                      5.402677                               12.095543   \n",
       "2                      4.962845                                8.130648   \n",
       "3                      3.610918                                7.733684   \n",
       "4                      5.293305                               10.629900   \n",
       "\n",
       "   sink_parent_leaf_descendans_count  sink_parents_count  \n",
       "0                          11.604684            1.386294  \n",
       "1                          15.905984            5.669881  \n",
       "2                           9.726512            1.098612  \n",
       "3                           8.302762            3.218876  \n",
       "4                          13.207203            5.111988  "
      ]
     },
     "execution_count": 36,
     "metadata": {},
     "output_type": "execute_result"
    }
   ],
   "source": [
    "X_test_standardised.head()"
   ]
  },
  {
   "cell_type": "code",
   "execution_count": 37,
   "metadata": {},
   "outputs": [
    {
     "data": {
      "text/html": [
       "<div>\n",
       "<style>\n",
       "    .dataframe thead tr:only-child th {\n",
       "        text-align: right;\n",
       "    }\n",
       "\n",
       "    .dataframe thead th {\n",
       "        text-align: left;\n",
       "    }\n",
       "\n",
       "    .dataframe tbody tr th {\n",
       "        vertical-align: top;\n",
       "    }\n",
       "</style>\n",
       "<table border=\"1\" class=\"dataframe\">\n",
       "  <thead>\n",
       "    <tr style=\"text-align: right;\">\n",
       "      <th></th>\n",
       "      <th>AA</th>\n",
       "      <th>source_parents_count</th>\n",
       "      <th>source_non_leaf_descendants_count</th>\n",
       "      <th>source_leaf_descendans_count</th>\n",
       "      <th>sink_parent_non_leaf_descendants_count</th>\n",
       "      <th>sink_parent_leaf_descendans_count</th>\n",
       "      <th>sink_parents_count</th>\n",
       "    </tr>\n",
       "  </thead>\n",
       "  <tbody>\n",
       "    <tr>\n",
       "      <th>count</th>\n",
       "      <td>2000.000000</td>\n",
       "      <td>2000.000000</td>\n",
       "      <td>2000.000000</td>\n",
       "      <td>2000.000000</td>\n",
       "      <td>2000.000000</td>\n",
       "      <td>2000.000000</td>\n",
       "      <td>2000.000000</td>\n",
       "    </tr>\n",
       "    <tr>\n",
       "      <th>mean</th>\n",
       "      <td>0.476025</td>\n",
       "      <td>3.591326</td>\n",
       "      <td>3.716332</td>\n",
       "      <td>4.814037</td>\n",
       "      <td>9.536324</td>\n",
       "      <td>12.900121</td>\n",
       "      <td>3.484307</td>\n",
       "    </tr>\n",
       "    <tr>\n",
       "      <th>std</th>\n",
       "      <td>0.729852</td>\n",
       "      <td>1.392287</td>\n",
       "      <td>1.371289</td>\n",
       "      <td>1.938100</td>\n",
       "      <td>2.090113</td>\n",
       "      <td>2.483634</td>\n",
       "      <td>1.777210</td>\n",
       "    </tr>\n",
       "    <tr>\n",
       "      <th>min</th>\n",
       "      <td>0.000000</td>\n",
       "      <td>0.693147</td>\n",
       "      <td>0.000000</td>\n",
       "      <td>0.000000</td>\n",
       "      <td>2.197225</td>\n",
       "      <td>2.079442</td>\n",
       "      <td>0.693147</td>\n",
       "    </tr>\n",
       "    <tr>\n",
       "      <th>25%</th>\n",
       "      <td>0.000000</td>\n",
       "      <td>2.564949</td>\n",
       "      <td>2.890372</td>\n",
       "      <td>3.610918</td>\n",
       "      <td>8.318071</td>\n",
       "      <td>11.676956</td>\n",
       "      <td>2.079442</td>\n",
       "    </tr>\n",
       "    <tr>\n",
       "      <th>50%</th>\n",
       "      <td>0.129048</td>\n",
       "      <td>3.610918</td>\n",
       "      <td>3.784190</td>\n",
       "      <td>4.753590</td>\n",
       "      <td>9.925689</td>\n",
       "      <td>13.632869</td>\n",
       "      <td>3.526361</td>\n",
       "    </tr>\n",
       "    <tr>\n",
       "      <th>75%</th>\n",
       "      <td>0.655865</td>\n",
       "      <td>4.574711</td>\n",
       "      <td>4.663439</td>\n",
       "      <td>5.948687</td>\n",
       "      <td>11.101463</td>\n",
       "      <td>14.680368</td>\n",
       "      <td>4.779123</td>\n",
       "    </tr>\n",
       "    <tr>\n",
       "      <th>max</th>\n",
       "      <td>6.895624</td>\n",
       "      <td>7.612337</td>\n",
       "      <td>7.683864</td>\n",
       "      <td>12.819595</td>\n",
       "      <td>13.660744</td>\n",
       "      <td>16.560354</td>\n",
       "      <td>8.485083</td>\n",
       "    </tr>\n",
       "  </tbody>\n",
       "</table>\n",
       "</div>"
      ],
      "text/plain": [
       "                AA  source_parents_count  source_non_leaf_descendants_count  \\\n",
       "count  2000.000000           2000.000000                        2000.000000   \n",
       "mean      0.476025              3.591326                           3.716332   \n",
       "std       0.729852              1.392287                           1.371289   \n",
       "min       0.000000              0.693147                           0.000000   \n",
       "25%       0.000000              2.564949                           2.890372   \n",
       "50%       0.129048              3.610918                           3.784190   \n",
       "75%       0.655865              4.574711                           4.663439   \n",
       "max       6.895624              7.612337                           7.683864   \n",
       "\n",
       "       source_leaf_descendans_count  sink_parent_non_leaf_descendants_count  \\\n",
       "count                   2000.000000                             2000.000000   \n",
       "mean                       4.814037                                9.536324   \n",
       "std                        1.938100                                2.090113   \n",
       "min                        0.000000                                2.197225   \n",
       "25%                        3.610918                                8.318071   \n",
       "50%                        4.753590                                9.925689   \n",
       "75%                        5.948687                               11.101463   \n",
       "max                       12.819595                               13.660744   \n",
       "\n",
       "       sink_parent_leaf_descendans_count  sink_parents_count  \n",
       "count                        2000.000000         2000.000000  \n",
       "mean                           12.900121            3.484307  \n",
       "std                             2.483634            1.777210  \n",
       "min                             2.079442            0.693147  \n",
       "25%                            11.676956            2.079442  \n",
       "50%                            13.632869            3.526361  \n",
       "75%                            14.680368            4.779123  \n",
       "max                            16.560354            8.485083  "
      ]
     },
     "execution_count": 37,
     "metadata": {},
     "output_type": "execute_result"
    }
   ],
   "source": [
    "X_test_standardised.describe()"
   ]
  },
  {
   "cell_type": "code",
   "execution_count": 38,
   "metadata": {},
   "outputs": [],
   "source": [
    "train_data = pd.read_csv('./PA_AA_train_data.csv')"
   ]
  },
  {
   "cell_type": "markdown",
   "metadata": {},
   "source": [
    "# Feature matrix for Train data"
   ]
  },
  {
   "cell_type": "code",
   "execution_count": 39,
   "metadata": {},
   "outputs": [],
   "source": [
    "train_data.drop('PA',axis=1,inplace=True)"
   ]
  },
  {
   "cell_type": "code",
   "execution_count": 40,
   "metadata": {
    "scrolled": true
   },
   "outputs": [
    {
     "data": {
      "text/html": [
       "<div>\n",
       "<style>\n",
       "    .dataframe thead tr:only-child th {\n",
       "        text-align: right;\n",
       "    }\n",
       "\n",
       "    .dataframe thead th {\n",
       "        text-align: left;\n",
       "    }\n",
       "\n",
       "    .dataframe tbody tr th {\n",
       "        vertical-align: top;\n",
       "    }\n",
       "</style>\n",
       "<table border=\"1\" class=\"dataframe\">\n",
       "  <thead>\n",
       "    <tr style=\"text-align: right;\">\n",
       "      <th></th>\n",
       "      <th>Source</th>\n",
       "      <th>Sink</th>\n",
       "      <th>AA</th>\n",
       "      <th>value</th>\n",
       "    </tr>\n",
       "  </thead>\n",
       "  <tbody>\n",
       "    <tr>\n",
       "      <th>0</th>\n",
       "      <td>1097</td>\n",
       "      <td>1956386</td>\n",
       "      <td>0.000000</td>\n",
       "      <td>0</td>\n",
       "    </tr>\n",
       "    <tr>\n",
       "      <th>1</th>\n",
       "      <td>1097</td>\n",
       "      <td>4240968</td>\n",
       "      <td>0.000000</td>\n",
       "      <td>0</td>\n",
       "    </tr>\n",
       "    <tr>\n",
       "      <th>2</th>\n",
       "      <td>1122</td>\n",
       "      <td>1663141</td>\n",
       "      <td>0.077345</td>\n",
       "      <td>0</td>\n",
       "    </tr>\n",
       "    <tr>\n",
       "      <th>3</th>\n",
       "      <td>1122</td>\n",
       "      <td>1747030</td>\n",
       "      <td>0.077345</td>\n",
       "      <td>0</td>\n",
       "    </tr>\n",
       "    <tr>\n",
       "      <th>4</th>\n",
       "      <td>1122</td>\n",
       "      <td>2962986</td>\n",
       "      <td>25.321024</td>\n",
       "      <td>1</td>\n",
       "    </tr>\n",
       "  </tbody>\n",
       "</table>\n",
       "</div>"
      ],
      "text/plain": [
       "   Source     Sink         AA  value\n",
       "0    1097  1956386   0.000000      0\n",
       "1    1097  4240968   0.000000      0\n",
       "2    1122  1663141   0.077345      0\n",
       "3    1122  1747030   0.077345      0\n",
       "4    1122  2962986  25.321024      1"
      ]
     },
     "execution_count": 40,
     "metadata": {},
     "output_type": "execute_result"
    }
   ],
   "source": [
    "train_data.head()"
   ]
  },
  {
   "cell_type": "code",
   "execution_count": 41,
   "metadata": {},
   "outputs": [],
   "source": [
    "df3 = train_data.join(source_features.set_index('node_id'),on='Source')"
   ]
  },
  {
   "cell_type": "code",
   "execution_count": 42,
   "metadata": {},
   "outputs": [
    {
     "data": {
      "text/html": [
       "<div>\n",
       "<style>\n",
       "    .dataframe thead tr:only-child th {\n",
       "        text-align: right;\n",
       "    }\n",
       "\n",
       "    .dataframe thead th {\n",
       "        text-align: left;\n",
       "    }\n",
       "\n",
       "    .dataframe tbody tr th {\n",
       "        vertical-align: top;\n",
       "    }\n",
       "</style>\n",
       "<table border=\"1\" class=\"dataframe\">\n",
       "  <thead>\n",
       "    <tr style=\"text-align: right;\">\n",
       "      <th></th>\n",
       "      <th>Source</th>\n",
       "      <th>Sink</th>\n",
       "      <th>AA</th>\n",
       "      <th>value</th>\n",
       "      <th>parents_count</th>\n",
       "      <th>non_leaf_descendants_count</th>\n",
       "      <th>leaf_descendans_count</th>\n",
       "    </tr>\n",
       "  </thead>\n",
       "  <tbody>\n",
       "    <tr>\n",
       "      <th>0</th>\n",
       "      <td>1097</td>\n",
       "      <td>1956386</td>\n",
       "      <td>0.000000</td>\n",
       "      <td>0</td>\n",
       "      <td>21</td>\n",
       "      <td>37.0</td>\n",
       "      <td>139.0</td>\n",
       "    </tr>\n",
       "    <tr>\n",
       "      <th>1</th>\n",
       "      <td>1097</td>\n",
       "      <td>4240968</td>\n",
       "      <td>0.000000</td>\n",
       "      <td>0</td>\n",
       "      <td>21</td>\n",
       "      <td>37.0</td>\n",
       "      <td>139.0</td>\n",
       "    </tr>\n",
       "    <tr>\n",
       "      <th>2</th>\n",
       "      <td>1122</td>\n",
       "      <td>1663141</td>\n",
       "      <td>0.077345</td>\n",
       "      <td>0</td>\n",
       "      <td>109</td>\n",
       "      <td>251.0</td>\n",
       "      <td>761.0</td>\n",
       "    </tr>\n",
       "    <tr>\n",
       "      <th>3</th>\n",
       "      <td>1122</td>\n",
       "      <td>1747030</td>\n",
       "      <td>0.077345</td>\n",
       "      <td>0</td>\n",
       "      <td>109</td>\n",
       "      <td>251.0</td>\n",
       "      <td>761.0</td>\n",
       "    </tr>\n",
       "    <tr>\n",
       "      <th>4</th>\n",
       "      <td>1122</td>\n",
       "      <td>2962986</td>\n",
       "      <td>25.321024</td>\n",
       "      <td>1</td>\n",
       "      <td>109</td>\n",
       "      <td>251.0</td>\n",
       "      <td>761.0</td>\n",
       "    </tr>\n",
       "  </tbody>\n",
       "</table>\n",
       "</div>"
      ],
      "text/plain": [
       "   Source     Sink         AA  value  parents_count  \\\n",
       "0    1097  1956386   0.000000      0             21   \n",
       "1    1097  4240968   0.000000      0             21   \n",
       "2    1122  1663141   0.077345      0            109   \n",
       "3    1122  1747030   0.077345      0            109   \n",
       "4    1122  2962986  25.321024      1            109   \n",
       "\n",
       "   non_leaf_descendants_count  leaf_descendans_count  \n",
       "0                        37.0                  139.0  \n",
       "1                        37.0                  139.0  \n",
       "2                       251.0                  761.0  \n",
       "3                       251.0                  761.0  \n",
       "4                       251.0                  761.0  "
      ]
     },
     "execution_count": 42,
     "metadata": {},
     "output_type": "execute_result"
    }
   ],
   "source": [
    "df3.head()"
   ]
  },
  {
   "cell_type": "code",
   "execution_count": 43,
   "metadata": {},
   "outputs": [
    {
     "data": {
      "text/html": [
       "<div>\n",
       "<style>\n",
       "    .dataframe thead tr:only-child th {\n",
       "        text-align: right;\n",
       "    }\n",
       "\n",
       "    .dataframe thead th {\n",
       "        text-align: left;\n",
       "    }\n",
       "\n",
       "    .dataframe tbody tr th {\n",
       "        vertical-align: top;\n",
       "    }\n",
       "</style>\n",
       "<table border=\"1\" class=\"dataframe\">\n",
       "  <thead>\n",
       "    <tr style=\"text-align: right;\">\n",
       "      <th></th>\n",
       "      <th>Source</th>\n",
       "      <th>Sink</th>\n",
       "      <th>AA</th>\n",
       "      <th>value</th>\n",
       "      <th>parents_count</th>\n",
       "      <th>non_leaf_descendants_count</th>\n",
       "      <th>leaf_descendans_count</th>\n",
       "    </tr>\n",
       "  </thead>\n",
       "  <tbody>\n",
       "    <tr>\n",
       "      <th>0</th>\n",
       "      <td>1097</td>\n",
       "      <td>1956386</td>\n",
       "      <td>0.000000</td>\n",
       "      <td>0</td>\n",
       "      <td>21</td>\n",
       "      <td>37.0</td>\n",
       "      <td>139.0</td>\n",
       "    </tr>\n",
       "    <tr>\n",
       "      <th>1</th>\n",
       "      <td>1097</td>\n",
       "      <td>4240968</td>\n",
       "      <td>0.000000</td>\n",
       "      <td>0</td>\n",
       "      <td>21</td>\n",
       "      <td>37.0</td>\n",
       "      <td>139.0</td>\n",
       "    </tr>\n",
       "    <tr>\n",
       "      <th>2</th>\n",
       "      <td>1122</td>\n",
       "      <td>1663141</td>\n",
       "      <td>0.077345</td>\n",
       "      <td>0</td>\n",
       "      <td>109</td>\n",
       "      <td>251.0</td>\n",
       "      <td>761.0</td>\n",
       "    </tr>\n",
       "    <tr>\n",
       "      <th>3</th>\n",
       "      <td>1122</td>\n",
       "      <td>1747030</td>\n",
       "      <td>0.077345</td>\n",
       "      <td>0</td>\n",
       "      <td>109</td>\n",
       "      <td>251.0</td>\n",
       "      <td>761.0</td>\n",
       "    </tr>\n",
       "    <tr>\n",
       "      <th>4</th>\n",
       "      <td>1122</td>\n",
       "      <td>2962986</td>\n",
       "      <td>25.321024</td>\n",
       "      <td>1</td>\n",
       "      <td>109</td>\n",
       "      <td>251.0</td>\n",
       "      <td>761.0</td>\n",
       "    </tr>\n",
       "  </tbody>\n",
       "</table>\n",
       "</div>"
      ],
      "text/plain": [
       "   Source     Sink         AA  value  parents_count  \\\n",
       "0    1097  1956386   0.000000      0             21   \n",
       "1    1097  4240968   0.000000      0             21   \n",
       "2    1122  1663141   0.077345      0            109   \n",
       "3    1122  1747030   0.077345      0            109   \n",
       "4    1122  2962986  25.321024      1            109   \n",
       "\n",
       "   non_leaf_descendants_count  leaf_descendans_count  \n",
       "0                        37.0                  139.0  \n",
       "1                        37.0                  139.0  \n",
       "2                       251.0                  761.0  \n",
       "3                       251.0                  761.0  \n",
       "4                       251.0                  761.0  "
      ]
     },
     "execution_count": 43,
     "metadata": {},
     "output_type": "execute_result"
    }
   ],
   "source": [
    "df3.head()"
   ]
  },
  {
   "cell_type": "code",
   "execution_count": 44,
   "metadata": {},
   "outputs": [],
   "source": [
    "df3.rename(columns= {'parents_count':'source_parents_count',\n",
    "                              'non_leaf_descendants_count':'source_non_leaf_descendants_count',\n",
    "                              'leaf_descendans_count':'source_leaf_descendans_count'},inplace=True)"
   ]
  },
  {
   "cell_type": "code",
   "execution_count": 45,
   "metadata": {
    "scrolled": true
   },
   "outputs": [
    {
     "data": {
      "text/html": [
       "<div>\n",
       "<style>\n",
       "    .dataframe thead tr:only-child th {\n",
       "        text-align: right;\n",
       "    }\n",
       "\n",
       "    .dataframe thead th {\n",
       "        text-align: left;\n",
       "    }\n",
       "\n",
       "    .dataframe tbody tr th {\n",
       "        vertical-align: top;\n",
       "    }\n",
       "</style>\n",
       "<table border=\"1\" class=\"dataframe\">\n",
       "  <thead>\n",
       "    <tr style=\"text-align: right;\">\n",
       "      <th></th>\n",
       "      <th></th>\n",
       "      <th>AA</th>\n",
       "      <th>value</th>\n",
       "      <th>source_parents_count</th>\n",
       "      <th>source_non_leaf_descendants_count</th>\n",
       "      <th>source_leaf_descendans_count</th>\n",
       "    </tr>\n",
       "    <tr>\n",
       "      <th>Source</th>\n",
       "      <th>Sink</th>\n",
       "      <th></th>\n",
       "      <th></th>\n",
       "      <th></th>\n",
       "      <th></th>\n",
       "      <th></th>\n",
       "    </tr>\n",
       "  </thead>\n",
       "  <tbody>\n",
       "    <tr>\n",
       "      <th rowspan=\"2\" valign=\"top\">1097</th>\n",
       "      <th>1956386</th>\n",
       "      <td>0.000000</td>\n",
       "      <td>0</td>\n",
       "      <td>21</td>\n",
       "      <td>37.0</td>\n",
       "      <td>139.0</td>\n",
       "    </tr>\n",
       "    <tr>\n",
       "      <th>4240968</th>\n",
       "      <td>0.000000</td>\n",
       "      <td>0</td>\n",
       "      <td>21</td>\n",
       "      <td>37.0</td>\n",
       "      <td>139.0</td>\n",
       "    </tr>\n",
       "    <tr>\n",
       "      <th rowspan=\"3\" valign=\"top\">1122</th>\n",
       "      <th>1663141</th>\n",
       "      <td>0.077345</td>\n",
       "      <td>0</td>\n",
       "      <td>109</td>\n",
       "      <td>251.0</td>\n",
       "      <td>761.0</td>\n",
       "    </tr>\n",
       "    <tr>\n",
       "      <th>1747030</th>\n",
       "      <td>0.077345</td>\n",
       "      <td>0</td>\n",
       "      <td>109</td>\n",
       "      <td>251.0</td>\n",
       "      <td>761.0</td>\n",
       "    </tr>\n",
       "    <tr>\n",
       "      <th>2962986</th>\n",
       "      <td>25.321024</td>\n",
       "      <td>1</td>\n",
       "      <td>109</td>\n",
       "      <td>251.0</td>\n",
       "      <td>761.0</td>\n",
       "    </tr>\n",
       "  </tbody>\n",
       "</table>\n",
       "</div>"
      ],
      "text/plain": [
       "                       AA  value  source_parents_count  \\\n",
       "Source Sink                                              \n",
       "1097   1956386   0.000000      0                    21   \n",
       "       4240968   0.000000      0                    21   \n",
       "1122   1663141   0.077345      0                   109   \n",
       "       1747030   0.077345      0                   109   \n",
       "       2962986  25.321024      1                   109   \n",
       "\n",
       "                source_non_leaf_descendants_count  \\\n",
       "Source Sink                                         \n",
       "1097   1956386                               37.0   \n",
       "       4240968                               37.0   \n",
       "1122   1663141                              251.0   \n",
       "       1747030                              251.0   \n",
       "       2962986                              251.0   \n",
       "\n",
       "                source_leaf_descendans_count  \n",
       "Source Sink                                   \n",
       "1097   1956386                         139.0  \n",
       "       4240968                         139.0  \n",
       "1122   1663141                         761.0  \n",
       "       1747030                         761.0  \n",
       "       2962986                         761.0  "
      ]
     },
     "execution_count": 45,
     "metadata": {},
     "output_type": "execute_result"
    }
   ],
   "source": [
    "df3.set_index(['Source','Sink'],inplace=True)\n",
    "df3.head()"
   ]
  },
  {
   "cell_type": "code",
   "execution_count": 46,
   "metadata": {},
   "outputs": [],
   "source": [
    "df4 = train_data.join(sink_features.set_index('node_id'),on='Sink')"
   ]
  },
  {
   "cell_type": "code",
   "execution_count": 47,
   "metadata": {},
   "outputs": [],
   "source": [
    "df4.rename(columns={'parents_count':'sink_parents_count',\n",
    "                              'parent_non_leaf_descendants_count':'sink_parent_non_leaf_descendants_count',\n",
    "                              'parent_leaf_descendans_count':'sink_parent_leaf_descendans_count'},inplace=True)"
   ]
  },
  {
   "cell_type": "code",
   "execution_count": 48,
   "metadata": {
    "scrolled": true
   },
   "outputs": [
    {
     "data": {
      "text/html": [
       "<div>\n",
       "<style>\n",
       "    .dataframe thead tr:only-child th {\n",
       "        text-align: right;\n",
       "    }\n",
       "\n",
       "    .dataframe thead th {\n",
       "        text-align: left;\n",
       "    }\n",
       "\n",
       "    .dataframe tbody tr th {\n",
       "        vertical-align: top;\n",
       "    }\n",
       "</style>\n",
       "<table border=\"1\" class=\"dataframe\">\n",
       "  <thead>\n",
       "    <tr style=\"text-align: right;\">\n",
       "      <th></th>\n",
       "      <th></th>\n",
       "      <th>AA</th>\n",
       "      <th>value</th>\n",
       "      <th>sink_parent_non_leaf_descendants_count</th>\n",
       "      <th>sink_parent_leaf_descendans_count</th>\n",
       "      <th>sink_parents_count</th>\n",
       "    </tr>\n",
       "    <tr>\n",
       "      <th>Source</th>\n",
       "      <th>Sink</th>\n",
       "      <th></th>\n",
       "      <th></th>\n",
       "      <th></th>\n",
       "      <th></th>\n",
       "      <th></th>\n",
       "    </tr>\n",
       "  </thead>\n",
       "  <tbody>\n",
       "    <tr>\n",
       "      <th rowspan=\"2\" valign=\"top\">1097</th>\n",
       "      <th>1956386</th>\n",
       "      <td>0.000000</td>\n",
       "      <td>0</td>\n",
       "      <td>63</td>\n",
       "      <td>481</td>\n",
       "      <td>1</td>\n",
       "    </tr>\n",
       "    <tr>\n",
       "      <th>4240968</th>\n",
       "      <td>0.000000</td>\n",
       "      <td>0</td>\n",
       "      <td>1547</td>\n",
       "      <td>369901</td>\n",
       "      <td>2</td>\n",
       "    </tr>\n",
       "    <tr>\n",
       "      <th rowspan=\"3\" valign=\"top\">1122</th>\n",
       "      <th>1663141</th>\n",
       "      <td>0.077345</td>\n",
       "      <td>0</td>\n",
       "      <td>472</td>\n",
       "      <td>410947</td>\n",
       "      <td>1</td>\n",
       "    </tr>\n",
       "    <tr>\n",
       "      <th>1747030</th>\n",
       "      <td>0.077345</td>\n",
       "      <td>0</td>\n",
       "      <td>472</td>\n",
       "      <td>410947</td>\n",
       "      <td>1</td>\n",
       "    </tr>\n",
       "    <tr>\n",
       "      <th>2962986</th>\n",
       "      <td>25.321024</td>\n",
       "      <td>1</td>\n",
       "      <td>30976</td>\n",
       "      <td>1073476</td>\n",
       "      <td>104</td>\n",
       "    </tr>\n",
       "  </tbody>\n",
       "</table>\n",
       "</div>"
      ],
      "text/plain": [
       "                       AA  value  sink_parent_non_leaf_descendants_count  \\\n",
       "Source Sink                                                                \n",
       "1097   1956386   0.000000      0                                      63   \n",
       "       4240968   0.000000      0                                    1547   \n",
       "1122   1663141   0.077345      0                                     472   \n",
       "       1747030   0.077345      0                                     472   \n",
       "       2962986  25.321024      1                                   30976   \n",
       "\n",
       "                sink_parent_leaf_descendans_count  sink_parents_count  \n",
       "Source Sink                                                            \n",
       "1097   1956386                                481                   1  \n",
       "       4240968                             369901                   2  \n",
       "1122   1663141                             410947                   1  \n",
       "       1747030                             410947                   1  \n",
       "       2962986                            1073476                 104  "
      ]
     },
     "execution_count": 48,
     "metadata": {},
     "output_type": "execute_result"
    }
   ],
   "source": [
    "df4.set_index(['Source','Sink'],inplace=True)\n",
    "df4.head()"
   ]
  },
  {
   "cell_type": "code",
   "execution_count": null,
   "metadata": {},
   "outputs": [],
   "source": []
  },
  {
   "cell_type": "code",
   "execution_count": 49,
   "metadata": {},
   "outputs": [],
   "source": [
    "X_train_v2 = pd.concat([df3.sort_index(),df4.sort_index().drop(['value','AA'],axis=1)],axis=1)"
   ]
  },
  {
   "cell_type": "code",
   "execution_count": 50,
   "metadata": {},
   "outputs": [
    {
     "data": {
      "text/html": [
       "<div>\n",
       "<style>\n",
       "    .dataframe thead tr:only-child th {\n",
       "        text-align: right;\n",
       "    }\n",
       "\n",
       "    .dataframe thead th {\n",
       "        text-align: left;\n",
       "    }\n",
       "\n",
       "    .dataframe tbody tr th {\n",
       "        vertical-align: top;\n",
       "    }\n",
       "</style>\n",
       "<table border=\"1\" class=\"dataframe\">\n",
       "  <thead>\n",
       "    <tr style=\"text-align: right;\">\n",
       "      <th></th>\n",
       "      <th></th>\n",
       "      <th>AA</th>\n",
       "      <th>value</th>\n",
       "      <th>source_parents_count</th>\n",
       "      <th>source_non_leaf_descendants_count</th>\n",
       "      <th>source_leaf_descendans_count</th>\n",
       "      <th>sink_parent_non_leaf_descendants_count</th>\n",
       "      <th>sink_parent_leaf_descendans_count</th>\n",
       "      <th>sink_parents_count</th>\n",
       "    </tr>\n",
       "    <tr>\n",
       "      <th>Source</th>\n",
       "      <th>Sink</th>\n",
       "      <th></th>\n",
       "      <th></th>\n",
       "      <th></th>\n",
       "      <th></th>\n",
       "      <th></th>\n",
       "      <th></th>\n",
       "      <th></th>\n",
       "      <th></th>\n",
       "    </tr>\n",
       "  </thead>\n",
       "  <tbody>\n",
       "    <tr>\n",
       "      <th rowspan=\"2\" valign=\"top\">1097</th>\n",
       "      <th>1956386</th>\n",
       "      <td>0.000000</td>\n",
       "      <td>0</td>\n",
       "      <td>21</td>\n",
       "      <td>37.0</td>\n",
       "      <td>139.0</td>\n",
       "      <td>63</td>\n",
       "      <td>481</td>\n",
       "      <td>1</td>\n",
       "    </tr>\n",
       "    <tr>\n",
       "      <th>4240968</th>\n",
       "      <td>0.000000</td>\n",
       "      <td>0</td>\n",
       "      <td>21</td>\n",
       "      <td>37.0</td>\n",
       "      <td>139.0</td>\n",
       "      <td>1547</td>\n",
       "      <td>369901</td>\n",
       "      <td>2</td>\n",
       "    </tr>\n",
       "    <tr>\n",
       "      <th rowspan=\"6\" valign=\"top\">1122</th>\n",
       "      <th>1663141</th>\n",
       "      <td>0.077345</td>\n",
       "      <td>0</td>\n",
       "      <td>109</td>\n",
       "      <td>251.0</td>\n",
       "      <td>761.0</td>\n",
       "      <td>472</td>\n",
       "      <td>410947</td>\n",
       "      <td>1</td>\n",
       "    </tr>\n",
       "    <tr>\n",
       "      <th>1747030</th>\n",
       "      <td>0.077345</td>\n",
       "      <td>0</td>\n",
       "      <td>109</td>\n",
       "      <td>251.0</td>\n",
       "      <td>761.0</td>\n",
       "      <td>472</td>\n",
       "      <td>410947</td>\n",
       "      <td>1</td>\n",
       "    </tr>\n",
       "    <tr>\n",
       "      <th>2962986</th>\n",
       "      <td>25.321024</td>\n",
       "      <td>1</td>\n",
       "      <td>109</td>\n",
       "      <td>251.0</td>\n",
       "      <td>761.0</td>\n",
       "      <td>30976</td>\n",
       "      <td>1073476</td>\n",
       "      <td>104</td>\n",
       "    </tr>\n",
       "    <tr>\n",
       "      <th>3175699</th>\n",
       "      <td>0.000000</td>\n",
       "      <td>0</td>\n",
       "      <td>109</td>\n",
       "      <td>251.0</td>\n",
       "      <td>761.0</td>\n",
       "      <td>3550</td>\n",
       "      <td>130914</td>\n",
       "      <td>6</td>\n",
       "    </tr>\n",
       "    <tr>\n",
       "      <th>3378788</th>\n",
       "      <td>0.000000</td>\n",
       "      <td>0</td>\n",
       "      <td>109</td>\n",
       "      <td>251.0</td>\n",
       "      <td>761.0</td>\n",
       "      <td>3295</td>\n",
       "      <td>396838</td>\n",
       "      <td>1</td>\n",
       "    </tr>\n",
       "    <tr>\n",
       "      <th>3396131</th>\n",
       "      <td>4.141560</td>\n",
       "      <td>1</td>\n",
       "      <td>109</td>\n",
       "      <td>251.0</td>\n",
       "      <td>761.0</td>\n",
       "      <td>15726</td>\n",
       "      <td>255765</td>\n",
       "      <td>71</td>\n",
       "    </tr>\n",
       "    <tr>\n",
       "      <th rowspan=\"2\" valign=\"top\">1152</th>\n",
       "      <th>437467</th>\n",
       "      <td>0.090042</td>\n",
       "      <td>0</td>\n",
       "      <td>94</td>\n",
       "      <td>99.0</td>\n",
       "      <td>2678.0</td>\n",
       "      <td>14664</td>\n",
       "      <td>911681</td>\n",
       "      <td>17</td>\n",
       "    </tr>\n",
       "    <tr>\n",
       "      <th>583373</th>\n",
       "      <td>5.163606</td>\n",
       "      <td>1</td>\n",
       "      <td>94</td>\n",
       "      <td>99.0</td>\n",
       "      <td>2678.0</td>\n",
       "      <td>68766</td>\n",
       "      <td>3330098</td>\n",
       "      <td>122</td>\n",
       "    </tr>\n",
       "  </tbody>\n",
       "</table>\n",
       "</div>"
      ],
      "text/plain": [
       "                       AA  value  source_parents_count  \\\n",
       "Source Sink                                              \n",
       "1097   1956386   0.000000      0                    21   \n",
       "       4240968   0.000000      0                    21   \n",
       "1122   1663141   0.077345      0                   109   \n",
       "       1747030   0.077345      0                   109   \n",
       "       2962986  25.321024      1                   109   \n",
       "       3175699   0.000000      0                   109   \n",
       "       3378788   0.000000      0                   109   \n",
       "       3396131   4.141560      1                   109   \n",
       "1152   437467    0.090042      0                    94   \n",
       "       583373    5.163606      1                    94   \n",
       "\n",
       "                source_non_leaf_descendants_count  \\\n",
       "Source Sink                                         \n",
       "1097   1956386                               37.0   \n",
       "       4240968                               37.0   \n",
       "1122   1663141                              251.0   \n",
       "       1747030                              251.0   \n",
       "       2962986                              251.0   \n",
       "       3175699                              251.0   \n",
       "       3378788                              251.0   \n",
       "       3396131                              251.0   \n",
       "1152   437467                                99.0   \n",
       "       583373                                99.0   \n",
       "\n",
       "                source_leaf_descendans_count  \\\n",
       "Source Sink                                    \n",
       "1097   1956386                         139.0   \n",
       "       4240968                         139.0   \n",
       "1122   1663141                         761.0   \n",
       "       1747030                         761.0   \n",
       "       2962986                         761.0   \n",
       "       3175699                         761.0   \n",
       "       3378788                         761.0   \n",
       "       3396131                         761.0   \n",
       "1152   437467                         2678.0   \n",
       "       583373                         2678.0   \n",
       "\n",
       "                sink_parent_non_leaf_descendants_count  \\\n",
       "Source Sink                                              \n",
       "1097   1956386                                      63   \n",
       "       4240968                                    1547   \n",
       "1122   1663141                                     472   \n",
       "       1747030                                     472   \n",
       "       2962986                                   30976   \n",
       "       3175699                                    3550   \n",
       "       3378788                                    3295   \n",
       "       3396131                                   15726   \n",
       "1152   437467                                    14664   \n",
       "       583373                                    68766   \n",
       "\n",
       "                sink_parent_leaf_descendans_count  sink_parents_count  \n",
       "Source Sink                                                            \n",
       "1097   1956386                                481                   1  \n",
       "       4240968                             369901                   2  \n",
       "1122   1663141                             410947                   1  \n",
       "       1747030                             410947                   1  \n",
       "       2962986                            1073476                 104  \n",
       "       3175699                             130914                   6  \n",
       "       3378788                             396838                   1  \n",
       "       3396131                             255765                  71  \n",
       "1152   437467                              911681                  17  \n",
       "       583373                             3330098                 122  "
      ]
     },
     "execution_count": 50,
     "metadata": {},
     "output_type": "execute_result"
    }
   ],
   "source": [
    "X_train_v2.head(10)"
   ]
  },
  {
   "cell_type": "code",
   "execution_count": 51,
   "metadata": {},
   "outputs": [
    {
     "data": {
      "text/plain": [
       "AA                                        171996\n",
       "value                                     171996\n",
       "source_parents_count                      171996\n",
       "source_non_leaf_descendants_count         171996\n",
       "source_leaf_descendans_count              171996\n",
       "sink_parent_non_leaf_descendants_count    171996\n",
       "sink_parent_leaf_descendans_count         171996\n",
       "sink_parents_count                        171996\n",
       "dtype: int64"
      ]
     },
     "execution_count": 51,
     "metadata": {},
     "output_type": "execute_result"
    }
   ],
   "source": [
    "X_train_v2.count()"
   ]
  },
  {
   "cell_type": "markdown",
   "metadata": {},
   "source": [
    "# Caliculating rank of the train matrix"
   ]
  },
  {
   "cell_type": "code",
   "execution_count": 52,
   "metadata": {},
   "outputs": [],
   "source": [
    "from numpy.linalg import matrix_rank"
   ]
  },
  {
   "cell_type": "code",
   "execution_count": 53,
   "metadata": {},
   "outputs": [
    {
     "data": {
      "text/html": [
       "<div>\n",
       "<style>\n",
       "    .dataframe thead tr:only-child th {\n",
       "        text-align: right;\n",
       "    }\n",
       "\n",
       "    .dataframe thead th {\n",
       "        text-align: left;\n",
       "    }\n",
       "\n",
       "    .dataframe tbody tr th {\n",
       "        vertical-align: top;\n",
       "    }\n",
       "</style>\n",
       "<table border=\"1\" class=\"dataframe\">\n",
       "  <thead>\n",
       "    <tr style=\"text-align: right;\">\n",
       "      <th></th>\n",
       "      <th></th>\n",
       "      <th>AA</th>\n",
       "      <th>value</th>\n",
       "      <th>source_parents_count</th>\n",
       "      <th>source_non_leaf_descendants_count</th>\n",
       "      <th>source_leaf_descendans_count</th>\n",
       "      <th>sink_parent_non_leaf_descendants_count</th>\n",
       "      <th>sink_parent_leaf_descendans_count</th>\n",
       "      <th>sink_parents_count</th>\n",
       "    </tr>\n",
       "    <tr>\n",
       "      <th>Source</th>\n",
       "      <th>Sink</th>\n",
       "      <th></th>\n",
       "      <th></th>\n",
       "      <th></th>\n",
       "      <th></th>\n",
       "      <th></th>\n",
       "      <th></th>\n",
       "      <th></th>\n",
       "      <th></th>\n",
       "    </tr>\n",
       "  </thead>\n",
       "  <tbody>\n",
       "    <tr>\n",
       "      <th rowspan=\"2\" valign=\"top\">1097</th>\n",
       "      <th>1956386</th>\n",
       "      <td>0.000000</td>\n",
       "      <td>0</td>\n",
       "      <td>21</td>\n",
       "      <td>37.0</td>\n",
       "      <td>139.0</td>\n",
       "      <td>63</td>\n",
       "      <td>481</td>\n",
       "      <td>1</td>\n",
       "    </tr>\n",
       "    <tr>\n",
       "      <th>4240968</th>\n",
       "      <td>0.000000</td>\n",
       "      <td>0</td>\n",
       "      <td>21</td>\n",
       "      <td>37.0</td>\n",
       "      <td>139.0</td>\n",
       "      <td>1547</td>\n",
       "      <td>369901</td>\n",
       "      <td>2</td>\n",
       "    </tr>\n",
       "    <tr>\n",
       "      <th rowspan=\"3\" valign=\"top\">1122</th>\n",
       "      <th>1663141</th>\n",
       "      <td>0.077345</td>\n",
       "      <td>0</td>\n",
       "      <td>109</td>\n",
       "      <td>251.0</td>\n",
       "      <td>761.0</td>\n",
       "      <td>472</td>\n",
       "      <td>410947</td>\n",
       "      <td>1</td>\n",
       "    </tr>\n",
       "    <tr>\n",
       "      <th>1747030</th>\n",
       "      <td>0.077345</td>\n",
       "      <td>0</td>\n",
       "      <td>109</td>\n",
       "      <td>251.0</td>\n",
       "      <td>761.0</td>\n",
       "      <td>472</td>\n",
       "      <td>410947</td>\n",
       "      <td>1</td>\n",
       "    </tr>\n",
       "    <tr>\n",
       "      <th>2962986</th>\n",
       "      <td>25.321024</td>\n",
       "      <td>1</td>\n",
       "      <td>109</td>\n",
       "      <td>251.0</td>\n",
       "      <td>761.0</td>\n",
       "      <td>30976</td>\n",
       "      <td>1073476</td>\n",
       "      <td>104</td>\n",
       "    </tr>\n",
       "  </tbody>\n",
       "</table>\n",
       "</div>"
      ],
      "text/plain": [
       "                       AA  value  source_parents_count  \\\n",
       "Source Sink                                              \n",
       "1097   1956386   0.000000      0                    21   \n",
       "       4240968   0.000000      0                    21   \n",
       "1122   1663141   0.077345      0                   109   \n",
       "       1747030   0.077345      0                   109   \n",
       "       2962986  25.321024      1                   109   \n",
       "\n",
       "                source_non_leaf_descendants_count  \\\n",
       "Source Sink                                         \n",
       "1097   1956386                               37.0   \n",
       "       4240968                               37.0   \n",
       "1122   1663141                              251.0   \n",
       "       1747030                              251.0   \n",
       "       2962986                              251.0   \n",
       "\n",
       "                source_leaf_descendans_count  \\\n",
       "Source Sink                                    \n",
       "1097   1956386                         139.0   \n",
       "       4240968                         139.0   \n",
       "1122   1663141                         761.0   \n",
       "       1747030                         761.0   \n",
       "       2962986                         761.0   \n",
       "\n",
       "                sink_parent_non_leaf_descendants_count  \\\n",
       "Source Sink                                              \n",
       "1097   1956386                                      63   \n",
       "       4240968                                    1547   \n",
       "1122   1663141                                     472   \n",
       "       1747030                                     472   \n",
       "       2962986                                   30976   \n",
       "\n",
       "                sink_parent_leaf_descendans_count  sink_parents_count  \n",
       "Source Sink                                                            \n",
       "1097   1956386                                481                   1  \n",
       "       4240968                             369901                   2  \n",
       "1122   1663141                             410947                   1  \n",
       "       1747030                             410947                   1  \n",
       "       2962986                            1073476                 104  "
      ]
     },
     "execution_count": 53,
     "metadata": {},
     "output_type": "execute_result"
    }
   ],
   "source": [
    "X_train_v2.head()"
   ]
  },
  {
   "cell_type": "code",
   "execution_count": 54,
   "metadata": {},
   "outputs": [
    {
     "data": {
      "text/plain": [
       "7"
      ]
     },
     "execution_count": 54,
     "metadata": {},
     "output_type": "execute_result"
    }
   ],
   "source": [
    "matrix_rank(X_train_v2.values[:, 1:])"
   ]
  },
  {
   "cell_type": "markdown",
   "metadata": {},
   "source": [
    "# Standardising the Train data - Hyperparametre"
   ]
  },
  {
   "cell_type": "code",
   "execution_count": 55,
   "metadata": {},
   "outputs": [],
   "source": [
    "# The following is a hyperparametre for our model"
   ]
  },
  {
   "cell_type": "code",
   "execution_count": 56,
   "metadata": {},
   "outputs": [],
   "source": [
    "from sklearn import preprocessing"
   ]
  },
  {
   "cell_type": "code",
   "execution_count": 57,
   "metadata": {},
   "outputs": [],
   "source": [
    "#X_train_standardised = X_train.drop(['Value','AA'],axis=1).apply(preprocessing.robust_scale)"
   ]
  },
  {
   "cell_type": "code",
   "execution_count": 58,
   "metadata": {},
   "outputs": [],
   "source": [
    "#X_train_standardised = X_train.drop(['Value'],axis=1).apply(lambda x: np.log10(x+1))"
   ]
  },
  {
   "cell_type": "code",
   "execution_count": 59,
   "metadata": {},
   "outputs": [],
   "source": [
    "X_train_standardised = X_train_v2.drop(['value'],axis=1).apply(lambda x: np.log(x+1))"
   ]
  },
  {
   "cell_type": "code",
   "execution_count": null,
   "metadata": {},
   "outputs": [],
   "source": []
  },
  {
   "cell_type": "code",
   "execution_count": 60,
   "metadata": {},
   "outputs": [],
   "source": [
    "#X_train_standardised['AA'] = X_train_v2['AA'].apply(new_sigmoid)"
   ]
  },
  {
   "cell_type": "code",
   "execution_count": 61,
   "metadata": {},
   "outputs": [],
   "source": [
    "#X_train_standardised.reset_index(drop=True,inplace=True)"
   ]
  },
  {
   "cell_type": "code",
   "execution_count": 62,
   "metadata": {
    "scrolled": true
   },
   "outputs": [
    {
     "data": {
      "text/html": [
       "<div>\n",
       "<style>\n",
       "    .dataframe thead tr:only-child th {\n",
       "        text-align: right;\n",
       "    }\n",
       "\n",
       "    .dataframe thead th {\n",
       "        text-align: left;\n",
       "    }\n",
       "\n",
       "    .dataframe tbody tr th {\n",
       "        vertical-align: top;\n",
       "    }\n",
       "</style>\n",
       "<table border=\"1\" class=\"dataframe\">\n",
       "  <thead>\n",
       "    <tr style=\"text-align: right;\">\n",
       "      <th></th>\n",
       "      <th>AA</th>\n",
       "      <th>source_parents_count</th>\n",
       "      <th>source_non_leaf_descendants_count</th>\n",
       "      <th>source_leaf_descendans_count</th>\n",
       "      <th>sink_parent_non_leaf_descendants_count</th>\n",
       "      <th>sink_parent_leaf_descendans_count</th>\n",
       "      <th>sink_parents_count</th>\n",
       "    </tr>\n",
       "  </thead>\n",
       "  <tbody>\n",
       "    <tr>\n",
       "      <th>count</th>\n",
       "      <td>171996.000000</td>\n",
       "      <td>171996.000000</td>\n",
       "      <td>171996.000000</td>\n",
       "      <td>171996.000000</td>\n",
       "      <td>171996.000000</td>\n",
       "      <td>171996.000000</td>\n",
       "      <td>171996.000000</td>\n",
       "    </tr>\n",
       "    <tr>\n",
       "      <th>mean</th>\n",
       "      <td>0.563048</td>\n",
       "      <td>4.598381</td>\n",
       "      <td>4.730980</td>\n",
       "      <td>6.687036</td>\n",
       "      <td>8.467613</td>\n",
       "      <td>12.567545</td>\n",
       "      <td>2.273194</td>\n",
       "    </tr>\n",
       "    <tr>\n",
       "      <th>std</th>\n",
       "      <td>0.923210</td>\n",
       "      <td>1.824378</td>\n",
       "      <td>1.804788</td>\n",
       "      <td>3.058529</td>\n",
       "      <td>2.253250</td>\n",
       "      <td>2.446209</td>\n",
       "      <td>1.732567</td>\n",
       "    </tr>\n",
       "    <tr>\n",
       "      <th>min</th>\n",
       "      <td>0.000000</td>\n",
       "      <td>0.693147</td>\n",
       "      <td>0.000000</td>\n",
       "      <td>0.000000</td>\n",
       "      <td>0.000000</td>\n",
       "      <td>1.098612</td>\n",
       "      <td>0.693147</td>\n",
       "    </tr>\n",
       "    <tr>\n",
       "      <th>25%</th>\n",
       "      <td>0.000000</td>\n",
       "      <td>3.258097</td>\n",
       "      <td>3.465736</td>\n",
       "      <td>4.369448</td>\n",
       "      <td>6.990947</td>\n",
       "      <td>11.336415</td>\n",
       "      <td>0.693147</td>\n",
       "    </tr>\n",
       "    <tr>\n",
       "      <th>50%</th>\n",
       "      <td>0.000000</td>\n",
       "      <td>4.574711</td>\n",
       "      <td>4.753590</td>\n",
       "      <td>6.257668</td>\n",
       "      <td>8.522976</td>\n",
       "      <td>13.137806</td>\n",
       "      <td>1.386294</td>\n",
       "    </tr>\n",
       "    <tr>\n",
       "      <th>75%</th>\n",
       "      <td>0.926117</td>\n",
       "      <td>6.063785</td>\n",
       "      <td>6.159095</td>\n",
       "      <td>9.237858</td>\n",
       "      <td>10.328616</td>\n",
       "      <td>14.257465</td>\n",
       "      <td>3.688879</td>\n",
       "    </tr>\n",
       "    <tr>\n",
       "      <th>max</th>\n",
       "      <td>9.147485</td>\n",
       "      <td>8.485083</td>\n",
       "      <td>8.522976</td>\n",
       "      <td>13.536809</td>\n",
       "      <td>13.752316</td>\n",
       "      <td>16.573638</td>\n",
       "      <td>8.485083</td>\n",
       "    </tr>\n",
       "  </tbody>\n",
       "</table>\n",
       "</div>"
      ],
      "text/plain": [
       "                  AA  source_parents_count  source_non_leaf_descendants_count  \\\n",
       "count  171996.000000         171996.000000                      171996.000000   \n",
       "mean        0.563048              4.598381                           4.730980   \n",
       "std         0.923210              1.824378                           1.804788   \n",
       "min         0.000000              0.693147                           0.000000   \n",
       "25%         0.000000              3.258097                           3.465736   \n",
       "50%         0.000000              4.574711                           4.753590   \n",
       "75%         0.926117              6.063785                           6.159095   \n",
       "max         9.147485              8.485083                           8.522976   \n",
       "\n",
       "       source_leaf_descendans_count  sink_parent_non_leaf_descendants_count  \\\n",
       "count                 171996.000000                           171996.000000   \n",
       "mean                       6.687036                                8.467613   \n",
       "std                        3.058529                                2.253250   \n",
       "min                        0.000000                                0.000000   \n",
       "25%                        4.369448                                6.990947   \n",
       "50%                        6.257668                                8.522976   \n",
       "75%                        9.237858                               10.328616   \n",
       "max                       13.536809                               13.752316   \n",
       "\n",
       "       sink_parent_leaf_descendans_count  sink_parents_count  \n",
       "count                      171996.000000       171996.000000  \n",
       "mean                           12.567545            2.273194  \n",
       "std                             2.446209            1.732567  \n",
       "min                             1.098612            0.693147  \n",
       "25%                            11.336415            0.693147  \n",
       "50%                            13.137806            1.386294  \n",
       "75%                            14.257465            3.688879  \n",
       "max                            16.573638            8.485083  "
      ]
     },
     "execution_count": 62,
     "metadata": {},
     "output_type": "execute_result"
    }
   ],
   "source": [
    "X_train_standardised.describe()"
   ]
  },
  {
   "cell_type": "code",
   "execution_count": 63,
   "metadata": {},
   "outputs": [
    {
     "data": {
      "text/plain": [
       "Index(['AA', 'source_parents_count', 'source_non_leaf_descendants_count',\n",
       "       'source_leaf_descendans_count',\n",
       "       'sink_parent_non_leaf_descendants_count',\n",
       "       'sink_parent_leaf_descendans_count', 'sink_parents_count'],\n",
       "      dtype='object')"
      ]
     },
     "execution_count": 63,
     "metadata": {},
     "output_type": "execute_result"
    }
   ],
   "source": [
    "X_train_standardised.columns"
   ]
  },
  {
   "cell_type": "code",
   "execution_count": 64,
   "metadata": {},
   "outputs": [],
   "source": [
    "X_test_standardised = X_test_standardised[['source_parents_count', 'source_non_leaf_descendants_count',\n",
    "       'source_leaf_descendans_count',\n",
    "       'sink_parent_non_leaf_descendants_count',\n",
    "       'sink_parent_leaf_descendans_count', 'sink_parents_count', 'AA']] "
   ]
  },
  {
   "cell_type": "code",
   "execution_count": 65,
   "metadata": {},
   "outputs": [],
   "source": [
    "# The labels "
   ]
  },
  {
   "cell_type": "code",
   "execution_count": 66,
   "metadata": {},
   "outputs": [],
   "source": [
    "y_train = X_train_v2['value']"
   ]
  },
  {
   "cell_type": "code",
   "execution_count": 67,
   "metadata": {},
   "outputs": [
    {
     "data": {
      "text/plain": [
       "(171996, 7)"
      ]
     },
     "execution_count": 67,
     "metadata": {},
     "output_type": "execute_result"
    }
   ],
   "source": [
    "X_train_standardised.shape"
   ]
  },
  {
   "cell_type": "code",
   "execution_count": 68,
   "metadata": {},
   "outputs": [
    {
     "data": {
      "text/plain": [
       "76177"
      ]
     },
     "execution_count": 68,
     "metadata": {},
     "output_type": "execute_result"
    }
   ],
   "source": [
    "y_train.sum()"
   ]
  },
  {
   "cell_type": "code",
   "execution_count": 69,
   "metadata": {},
   "outputs": [
    {
     "data": {
      "text/html": [
       "<div>\n",
       "<style>\n",
       "    .dataframe thead tr:only-child th {\n",
       "        text-align: right;\n",
       "    }\n",
       "\n",
       "    .dataframe thead th {\n",
       "        text-align: left;\n",
       "    }\n",
       "\n",
       "    .dataframe tbody tr th {\n",
       "        vertical-align: top;\n",
       "    }\n",
       "</style>\n",
       "<table border=\"1\" class=\"dataframe\">\n",
       "  <thead>\n",
       "    <tr style=\"text-align: right;\">\n",
       "      <th></th>\n",
       "      <th>source_parents_count</th>\n",
       "      <th>source_non_leaf_descendants_count</th>\n",
       "      <th>source_leaf_descendans_count</th>\n",
       "      <th>sink_parent_non_leaf_descendants_count</th>\n",
       "      <th>sink_parent_leaf_descendans_count</th>\n",
       "      <th>sink_parents_count</th>\n",
       "      <th>AA</th>\n",
       "    </tr>\n",
       "  </thead>\n",
       "  <tbody>\n",
       "    <tr>\n",
       "      <th>0</th>\n",
       "      <td>4.634729</td>\n",
       "      <td>4.189655</td>\n",
       "      <td>2.944439</td>\n",
       "      <td>7.902118</td>\n",
       "      <td>11.604684</td>\n",
       "      <td>1.386294</td>\n",
       "      <td>0.000000</td>\n",
       "    </tr>\n",
       "    <tr>\n",
       "      <th>1</th>\n",
       "      <td>3.688879</td>\n",
       "      <td>4.787492</td>\n",
       "      <td>5.402677</td>\n",
       "      <td>12.095543</td>\n",
       "      <td>15.905984</td>\n",
       "      <td>5.669881</td>\n",
       "      <td>0.341960</td>\n",
       "    </tr>\n",
       "    <tr>\n",
       "      <th>2</th>\n",
       "      <td>2.639057</td>\n",
       "      <td>4.204693</td>\n",
       "      <td>4.962845</td>\n",
       "      <td>8.130648</td>\n",
       "      <td>9.726512</td>\n",
       "      <td>1.098612</td>\n",
       "      <td>0.000000</td>\n",
       "    </tr>\n",
       "    <tr>\n",
       "      <th>3</th>\n",
       "      <td>2.833213</td>\n",
       "      <td>3.891820</td>\n",
       "      <td>3.610918</td>\n",
       "      <td>7.733684</td>\n",
       "      <td>8.302762</td>\n",
       "      <td>3.218876</td>\n",
       "      <td>0.805984</td>\n",
       "    </tr>\n",
       "    <tr>\n",
       "      <th>4</th>\n",
       "      <td>3.433987</td>\n",
       "      <td>4.248495</td>\n",
       "      <td>5.293305</td>\n",
       "      <td>10.629900</td>\n",
       "      <td>13.207203</td>\n",
       "      <td>5.111988</td>\n",
       "      <td>0.589348</td>\n",
       "    </tr>\n",
       "  </tbody>\n",
       "</table>\n",
       "</div>"
      ],
      "text/plain": [
       "   source_parents_count  source_non_leaf_descendants_count  \\\n",
       "0              4.634729                           4.189655   \n",
       "1              3.688879                           4.787492   \n",
       "2              2.639057                           4.204693   \n",
       "3              2.833213                           3.891820   \n",
       "4              3.433987                           4.248495   \n",
       "\n",
       "   source_leaf_descendans_count  sink_parent_non_leaf_descendants_count  \\\n",
       "0                      2.944439                                7.902118   \n",
       "1                      5.402677                               12.095543   \n",
       "2                      4.962845                                8.130648   \n",
       "3                      3.610918                                7.733684   \n",
       "4                      5.293305                               10.629900   \n",
       "\n",
       "   sink_parent_leaf_descendans_count  sink_parents_count        AA  \n",
       "0                          11.604684            1.386294  0.000000  \n",
       "1                          15.905984            5.669881  0.341960  \n",
       "2                           9.726512            1.098612  0.000000  \n",
       "3                           8.302762            3.218876  0.805984  \n",
       "4                          13.207203            5.111988  0.589348  "
      ]
     },
     "execution_count": 69,
     "metadata": {},
     "output_type": "execute_result"
    }
   ],
   "source": [
    "X_test_standardised.head()"
   ]
  },
  {
   "cell_type": "markdown",
   "metadata": {},
   "source": [
    "# Training the model"
   ]
  },
  {
   "cell_type": "code",
   "execution_count": 70,
   "metadata": {},
   "outputs": [],
   "source": [
    "from sklearn.linear_model import LogisticRegression"
   ]
  },
  {
   "cell_type": "code",
   "execution_count": 71,
   "metadata": {},
   "outputs": [],
   "source": [
    "from sklearn.utils import shuffle"
   ]
  },
  {
   "cell_type": "code",
   "execution_count": 72,
   "metadata": {},
   "outputs": [],
   "source": [
    "X_train, Y_train = shuffle(X_train_standardised, y_train, random_state=0)"
   ]
  },
  {
   "cell_type": "code",
   "execution_count": 73,
   "metadata": {},
   "outputs": [
    {
     "name": "stderr",
     "output_type": "stream",
     "text": [
      "/Users/hima95/anaconda3/lib/python3.6/site-packages/ipykernel_launcher.py:1: SettingWithCopyWarning: \n",
      "A value is trying to be set on a copy of a slice from a DataFrame.\n",
      "Try using .loc[row_indexer,col_indexer] = value instead\n",
      "\n",
      "See the caveats in the documentation: http://pandas.pydata.org/pandas-docs/stable/indexing.html#indexing-view-versus-copy\n",
      "  \"\"\"Entry point for launching an IPython kernel.\n"
     ]
    }
   ],
   "source": [
    "X_train['sink_square'] = X_train['sink_parents_count']*X_train['sink_parents_count']"
   ]
  },
  {
   "cell_type": "code",
   "execution_count": 74,
   "metadata": {},
   "outputs": [
    {
     "data": {
      "text/plain": [
       "Index(['AA', 'source_parents_count', 'source_non_leaf_descendants_count',\n",
       "       'source_leaf_descendans_count',\n",
       "       'sink_parent_non_leaf_descendants_count',\n",
       "       'sink_parent_leaf_descendans_count', 'sink_parents_count',\n",
       "       'sink_square'],\n",
       "      dtype='object')"
      ]
     },
     "execution_count": 74,
     "metadata": {},
     "output_type": "execute_result"
    }
   ],
   "source": [
    "X_train.columns"
   ]
  },
  {
   "cell_type": "code",
   "execution_count": 75,
   "metadata": {},
   "outputs": [],
   "source": [
    "X_test_standardised['sink_square'] = X_test_standardised['sink_parents_count']*X_test_standardised['sink_parents_count']"
   ]
  },
  {
   "cell_type": "code",
   "execution_count": 76,
   "metadata": {},
   "outputs": [],
   "source": [
    "X_test_standardised = X_test_standardised[['AA', 'source_parents_count', 'source_non_leaf_descendants_count',\n",
    "       'source_leaf_descendans_count',\n",
    "       'sink_parent_non_leaf_descendants_count',\n",
    "       'sink_parent_leaf_descendans_count', 'sink_parents_count','sink_square']]"
   ]
  },
  {
   "cell_type": "raw",
   "metadata": {},
   "source": [
    "logmodel = LogisticRegression(C=1,solver= 'sag',max_iter=800)"
   ]
  },
  {
   "cell_type": "code",
   "execution_count": 77,
   "metadata": {},
   "outputs": [],
   "source": [
    "logmodel = LogisticRegression(C=1,solver='sag',max_iter=800)"
   ]
  },
  {
   "cell_type": "code",
   "execution_count": 78,
   "metadata": {},
   "outputs": [
    {
     "name": "stderr",
     "output_type": "stream",
     "text": [
      "/Users/hima95/anaconda3/lib/python3.6/site-packages/sklearn/linear_model/sag.py:326: ConvergenceWarning: The max_iter was reached which means the coef_ did not converge\n",
      "  \"the coef_ did not converge\", ConvergenceWarning)\n"
     ]
    },
    {
     "data": {
      "text/plain": [
       "LogisticRegression(C=1, class_weight=None, dual=False, fit_intercept=True,\n",
       "          intercept_scaling=1, max_iter=800, multi_class='ovr', n_jobs=1,\n",
       "          penalty='l2', random_state=None, solver='sag', tol=0.0001,\n",
       "          verbose=0, warm_start=False)"
      ]
     },
     "execution_count": 78,
     "metadata": {},
     "output_type": "execute_result"
    }
   ],
   "source": [
    "logmodel.fit(X_train,Y_train)"
   ]
  },
  {
   "cell_type": "code",
   "execution_count": 79,
   "metadata": {},
   "outputs": [
    {
     "data": {
      "text/plain": [
       "array([[41.29294448, -0.11122542, -0.28675168,  1.1125546 ,  0.38162356,\n",
       "        -0.48099864,  3.22459257, -0.40168179]])"
      ]
     },
     "execution_count": 79,
     "metadata": {},
     "output_type": "execute_result"
    }
   ],
   "source": [
    "logmodel.coef_"
   ]
  },
  {
   "cell_type": "code",
   "execution_count": 80,
   "metadata": {},
   "outputs": [],
   "source": [
    "from  sklearn.feature_selection import SelectFromModel"
   ]
  },
  {
   "cell_type": "code",
   "execution_count": 81,
   "metadata": {},
   "outputs": [
    {
     "data": {
      "text/plain": [
       "SelectFromModel(estimator=array([[41.29294, -0.11123, -0.28675,  1.11255,  0.38162, -0.481  ,\n",
       "         3.22459, -0.40168]]),\n",
       "        norm_order=1, prefit=True, threshold=None)"
      ]
     },
     "execution_count": 81,
     "metadata": {},
     "output_type": "execute_result"
    }
   ],
   "source": [
    "SelectFromModel(logmodel.coef_,prefit=True)"
   ]
  },
  {
   "cell_type": "code",
   "execution_count": 82,
   "metadata": {},
   "outputs": [],
   "source": [
    "predictions = logmodel.predict(X_test_standardised)"
   ]
  },
  {
   "cell_type": "code",
   "execution_count": 83,
   "metadata": {},
   "outputs": [
    {
     "data": {
      "text/plain": [
       "1043"
      ]
     },
     "execution_count": 83,
     "metadata": {},
     "output_type": "execute_result"
    }
   ],
   "source": [
    "sum(predictions)"
   ]
  },
  {
   "cell_type": "code",
   "execution_count": 84,
   "metadata": {},
   "outputs": [
    {
     "data": {
      "text/plain": [
       "2000"
      ]
     },
     "execution_count": 84,
     "metadata": {},
     "output_type": "execute_result"
    }
   ],
   "source": [
    "len(predictions)"
   ]
  },
  {
   "cell_type": "code",
   "execution_count": 85,
   "metadata": {},
   "outputs": [],
   "source": [
    "probs = logmodel.predict_proba(X_test_standardised)"
   ]
  },
  {
   "cell_type": "code",
   "execution_count": 86,
   "metadata": {},
   "outputs": [],
   "source": [
    "probabs = [probs[i][1] for i in range(len(probs))]"
   ]
  },
  {
   "cell_type": "code",
   "execution_count": 87,
   "metadata": {},
   "outputs": [],
   "source": [
    "logistic_predictions = pd.DataFrame()"
   ]
  },
  {
   "cell_type": "code",
   "execution_count": 88,
   "metadata": {},
   "outputs": [],
   "source": [
    "logistic_predictions['Prediction'] = probabs"
   ]
  },
  {
   "cell_type": "code",
   "execution_count": 89,
   "metadata": {},
   "outputs": [],
   "source": [
    "logistic_predictions['Id'] = X_test['Id']"
   ]
  },
  {
   "cell_type": "code",
   "execution_count": 90,
   "metadata": {},
   "outputs": [],
   "source": [
    "logistic_predictions.set_index('Id',drop=True,inplace=True)"
   ]
  },
  {
   "cell_type": "code",
   "execution_count": 91,
   "metadata": {},
   "outputs": [],
   "source": [
    "logistic_predictions.to_csv('prediction_trail_31th.csv')"
   ]
  },
  {
   "cell_type": "code",
   "execution_count": null,
   "metadata": {},
   "outputs": [],
   "source": []
  },
  {
   "cell_type": "markdown",
   "metadata": {},
   "source": [
    "# Train and test split \n"
   ]
  },
  {
   "cell_type": "code",
   "execution_count": 92,
   "metadata": {},
   "outputs": [],
   "source": [
    "from sklearn.model_selection import train_test_split"
   ]
  },
  {
   "cell_type": "code",
   "execution_count": 93,
   "metadata": {},
   "outputs": [],
   "source": [
    "X_train, X_test, y_train, y_test = train_test_split(X_train, \n",
    "                                                    Y_train, test_size=0.30, \n",
    "                                                    random_state=117)"
   ]
  },
  {
   "cell_type": "code",
   "execution_count": 94,
   "metadata": {},
   "outputs": [
    {
     "name": "stderr",
     "output_type": "stream",
     "text": [
      "/Users/hima95/anaconda3/lib/python3.6/site-packages/sklearn/linear_model/sag.py:326: ConvergenceWarning: The max_iter was reached which means the coef_ did not converge\n",
      "  \"the coef_ did not converge\", ConvergenceWarning)\n"
     ]
    },
    {
     "data": {
      "text/plain": [
       "LogisticRegression(C=1, class_weight=None, dual=False, fit_intercept=True,\n",
       "          intercept_scaling=1, max_iter=800, multi_class='ovr', n_jobs=1,\n",
       "          penalty='l2', random_state=None, solver='sag', tol=0.0001,\n",
       "          verbose=0, warm_start=False)"
      ]
     },
     "execution_count": 94,
     "metadata": {},
     "output_type": "execute_result"
    }
   ],
   "source": [
    "logmodel1 = LogisticRegression(C=1,solver= 'sag',max_iter=800)\n",
    "logmodel1.fit(X_train,y_train)"
   ]
  },
  {
   "cell_type": "code",
   "execution_count": 95,
   "metadata": {},
   "outputs": [
    {
     "data": {
      "text/plain": [
       "array([[36.62831136, -0.10020888, -0.24697574,  1.08240486,  0.37839876,\n",
       "        -0.46653499,  3.18102077, -0.3928759 ]])"
      ]
     },
     "execution_count": 95,
     "metadata": {},
     "output_type": "execute_result"
    }
   ],
   "source": [
    "logmodel1.coef_"
   ]
  },
  {
   "cell_type": "code",
   "execution_count": 96,
   "metadata": {},
   "outputs": [],
   "source": [
    "predictions = logmodel1.predict(X_test)\n"
   ]
  },
  {
   "cell_type": "code",
   "execution_count": 97,
   "metadata": {},
   "outputs": [],
   "source": [
    "probs1 = logmodel.predict_proba(X_test)"
   ]
  },
  {
   "cell_type": "code",
   "execution_count": 98,
   "metadata": {},
   "outputs": [],
   "source": [
    "probabs1 = [probs1[i][1] for i in range(len(probs1))]"
   ]
  },
  {
   "cell_type": "code",
   "execution_count": 99,
   "metadata": {},
   "outputs": [],
   "source": [
    "from sklearn.metrics import classification_report"
   ]
  },
  {
   "cell_type": "code",
   "execution_count": 100,
   "metadata": {},
   "outputs": [
    {
     "name": "stdout",
     "output_type": "stream",
     "text": [
      "             precision    recall  f1-score   support\n",
      "\n",
      "          0       0.99      0.99      0.99     28755\n",
      "          1       0.99      0.99      0.99     22844\n",
      "\n",
      "avg / total       0.99      0.99      0.99     51599\n",
      "\n"
     ]
    }
   ],
   "source": [
    "print(classification_report(y_test,predictions))"
   ]
  },
  {
   "cell_type": "code",
   "execution_count": 101,
   "metadata": {},
   "outputs": [],
   "source": [
    "from sklearn import metrics\n"
   ]
  },
  {
   "cell_type": "code",
   "execution_count": 102,
   "metadata": {},
   "outputs": [],
   "source": [
    "from sklearn.metrics import roc_auc_score"
   ]
  },
  {
   "cell_type": "code",
   "execution_count": null,
   "metadata": {},
   "outputs": [],
   "source": []
  },
  {
   "cell_type": "code",
   "execution_count": 103,
   "metadata": {},
   "outputs": [
    {
     "data": {
      "text/plain": [
       "0.9996886231231368"
      ]
     },
     "execution_count": 103,
     "metadata": {},
     "output_type": "execute_result"
    }
   ],
   "source": [
    "roc_auc_score(y_test,probabs1)"
   ]
  },
  {
   "cell_type": "code",
   "execution_count": null,
   "metadata": {},
   "outputs": [],
   "source": []
  }
 ],
 "metadata": {
  "kernelspec": {
   "display_name": "Python 3",
   "language": "python",
   "name": "python3"
  },
  "language_info": {
   "codemirror_mode": {
    "name": "ipython",
    "version": 3
   },
   "file_extension": ".py",
   "mimetype": "text/x-python",
   "name": "python",
   "nbconvert_exporter": "python",
   "pygments_lexer": "ipython3",
   "version": "3.6.3"
  }
 },
 "nbformat": 4,
 "nbformat_minor": 2
}
