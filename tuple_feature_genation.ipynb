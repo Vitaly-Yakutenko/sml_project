{
 "cells": [
  {
   "cell_type": "code",
   "execution_count": 1,
   "metadata": {},
   "outputs": [],
   "source": [
    "import pandas as pd"
   ]
  },
  {
   "cell_type": "code",
   "execution_count": 2,
   "metadata": {},
   "outputs": [
    {
     "data": {
      "text/plain": [
       "24004361"
      ]
     },
     "execution_count": 2,
     "metadata": {},
     "output_type": "execute_result"
    }
   ],
   "source": [
    "node_child_counts = {}\n",
    "node_child_sets = {}\n",
    "items = []\n",
    "with open('train.txt', 'rt') as f:\n",
    "    line = f.readline()\n",
    "    while line:\n",
    "        numbers = line.split('\\t')\n",
    "        source = int(numbers[0])\n",
    "        node_child_counts[source] = len(numbers)-1\n",
    "        node_child_sets[source] = set(numbers[1:])\n",
    "        for sink in numbers[1:]:\n",
    "            items.append((source, int(sink))) \n",
    "        line = f.readline()\n",
    "len(items)"
   ]
  },
  {
   "cell_type": "code",
   "execution_count": 3,
   "metadata": {},
   "outputs": [],
   "source": [
    "data = pd.DataFrame(items, columns=['Source', 'Sink'])\n"
   ]
  },
  {
   "cell_type": "code",
   "execution_count": 4,
   "metadata": {},
   "outputs": [
    {
     "data": {
      "text/html": [
       "<div>\n",
       "<style>\n",
       "    .dataframe thead tr:only-child th {\n",
       "        text-align: right;\n",
       "    }\n",
       "\n",
       "    .dataframe thead th {\n",
       "        text-align: left;\n",
       "    }\n",
       "\n",
       "    .dataframe tbody tr th {\n",
       "        vertical-align: top;\n",
       "    }\n",
       "</style>\n",
       "<table border=\"1\" class=\"dataframe\">\n",
       "  <thead>\n",
       "    <tr style=\"text-align: right;\">\n",
       "      <th></th>\n",
       "      <th>Source</th>\n",
       "      <th>Sink</th>\n",
       "    </tr>\n",
       "  </thead>\n",
       "  <tbody>\n",
       "    <tr>\n",
       "      <th>0</th>\n",
       "      <td>4066935</td>\n",
       "      <td>1272125</td>\n",
       "    </tr>\n",
       "    <tr>\n",
       "      <th>1</th>\n",
       "      <td>4066935</td>\n",
       "      <td>3105725</td>\n",
       "    </tr>\n",
       "    <tr>\n",
       "      <th>2</th>\n",
       "      <td>4066935</td>\n",
       "      <td>2828522</td>\n",
       "    </tr>\n",
       "    <tr>\n",
       "      <th>3</th>\n",
       "      <td>4066935</td>\n",
       "      <td>4394015</td>\n",
       "    </tr>\n",
       "    <tr>\n",
       "      <th>4</th>\n",
       "      <td>4066935</td>\n",
       "      <td>2367409</td>\n",
       "    </tr>\n",
       "  </tbody>\n",
       "</table>\n",
       "</div>"
      ],
      "text/plain": [
       "    Source     Sink\n",
       "0  4066935  1272125\n",
       "1  4066935  3105725\n",
       "2  4066935  2828522\n",
       "3  4066935  4394015\n",
       "4  4066935  2367409"
      ]
     },
     "execution_count": 4,
     "metadata": {},
     "output_type": "execute_result"
    }
   ],
   "source": [
    "data.head()"
   ]
  },
  {
   "cell_type": "code",
   "execution_count": 5,
   "metadata": {},
   "outputs": [],
   "source": [
    "\n",
    "def common_child(node):\n",
    "    '''\n",
    "     This function takes in a tuple and gives the number of common children for the tuple \n",
    "     and also the set of common cildren\n",
    "    '''\n",
    "    source = node[0]\n",
    "    sink = node[1]\n",
    "    source_childs = data[data['Source']==source]['Sink'].tolist()\n",
    "    sink_childs = data[data['Source']==sink]['Sink'].tolist()\n",
    "    commons_children = set(source_childs)& set(sink_childs)\n",
    "    return (len(set(source_childs)& set(sink_childs)), commons_children)\n",
    "    \n",
    "    \n"
   ]
  },
  {
   "cell_type": "code",
   "execution_count": 6,
   "metadata": {},
   "outputs": [],
   "source": [
    "def common_child_count(node):\n",
    "    '''\n",
    "     This function takes in a tuple and gives the number of common children for the tuple \n",
    "     \n",
    "    '''\n",
    "    source = node[0]\n",
    "    sink = node[1]\n",
    "    source_childs = data[data['Source']==source]['Sink'].tolist()\n",
    "    sink_childs = data[data['Source']==sink]['Sink'].tolist()\n",
    "    commons_children = set(source_childs)& set(sink_childs)\n",
    "    return (len(set(source_childs)& set(sink_childs)))\n",
    "    "
   ]
  },
  {
   "cell_type": "code",
   "execution_count": 7,
   "metadata": {},
   "outputs": [],
   "source": [
    "\n",
    "def common_parent_count(node):\n",
    "    '''\n",
    "     This function takes in a tuple and gives the number of common parents for the tuple\n",
    "     and also the set of common parents\n",
    "    '''\n",
    "    source = node[0]\n",
    "    sink = node[1]\n",
    "    source_parents = data[data['Sink']==source]['Source'].tolist()\n",
    "    sink_parents = data[data['Sink']==sink]['Source'].tolist()\n",
    "    commons_parents = set(source_parents)& set(sink_parents)\n",
    "    return ((len(set(source_parents)& set(sink_parents)), commons_parents))\n",
    "    \n",
    "    \n"
   ]
  },
  {
   "cell_type": "code",
   "execution_count": null,
   "metadata": {},
   "outputs": [],
   "source": [
    "\n",
    "def common_parent_count(node):\n",
    "    '''\n",
    "     This function takes in a tuple and gives the number of common parents for the tuple\n",
    "\n",
    "    '''\n",
    "    source = node[0]\n",
    "    sink = node[1]\n",
    "    source_parents = data[data['Sink']==source]['Source'].tolist()\n",
    "    sink_parents = data[data['Sink']==sink]['Source'].tolist()\n",
    "    commons_parents = set(source_parents)& set(sink_parents)\n",
    "    return (len(set(source_parents)& set(sink_parents)))\n",
    "    \n",
    "    \n",
    "\n"
   ]
  },
  {
   "cell_type": "code",
   "execution_count": 8,
   "metadata": {},
   "outputs": [],
   "source": [
    "import itertools\n",
    "def common_child_links(node):\n",
    "    \n",
    "    source = node[0]\n",
    "    sink = node[1]\n",
    "    count, commons = common_child_count(node)\n",
    "    if len(commons)==1:\n",
    "        return 0\n",
    "    else:\n",
    "        combinations = list(itertools.permutations(commons, 2))\n",
    "        bools = []\n",
    "        for comb in combinations:\n",
    "            src, sk = comb\n",
    "            bools.append(any((data['Source']==src)&(data['Sink']==sk)))\n",
    "        return(any(bools))\n",
    "        \n",
    "        \n",
    "        "
   ]
  },
  {
   "cell_type": "code",
   "execution_count": null,
   "metadata": {},
   "outputs": [],
   "source": [
    "data['common_child_count'] = data.apply(common_child_count,axis=1)"
   ]
  },
  {
   "cell_type": "code",
   "execution_count": null,
   "metadata": {},
   "outputs": [],
   "source": []
  }
 ],
 "metadata": {
  "kernelspec": {
   "display_name": "Python 3",
   "language": "python",
   "name": "python3"
  },
  "language_info": {
   "codemirror_mode": {
    "name": "ipython",
    "version": 3
   },
   "file_extension": ".py",
   "mimetype": "text/x-python",
   "name": "python",
   "nbconvert_exporter": "python",
   "pygments_lexer": "ipython3",
   "version": "3.6.3"
  }
 },
 "nbformat": 4,
 "nbformat_minor": 2
}
