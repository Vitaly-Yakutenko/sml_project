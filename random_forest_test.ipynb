{
 "cells": [
  {
   "cell_type": "code",
   "execution_count": 1,
   "metadata": {},
   "outputs": [],
   "source": [
    "import pandas as pd\n",
    "import numpy as np"
   ]
  },
  {
   "cell_type": "code",
   "execution_count": 2,
   "metadata": {},
   "outputs": [],
   "source": [
    "import seaborn as sns\n",
    "import matplotlib.pyplot as plt\n",
    "%matplotlib inline"
   ]
  },
  {
   "cell_type": "code",
   "execution_count": 3,
   "metadata": {},
   "outputs": [],
   "source": [
    "node_features =  pd.read_csv('../docs/node_features.csv')"
   ]
  },
  {
   "cell_type": "code",
   "execution_count": 4,
   "metadata": {},
   "outputs": [],
   "source": [
    "source_features = pd.read_csv('../docs/source_features.csv.zip')"
   ]
  },
  {
   "cell_type": "code",
   "execution_count": 5,
   "metadata": {},
   "outputs": [],
   "source": [
    "source_features.drop('Unnamed: 0',axis=1,inplace=True)"
   ]
  },
  {
   "cell_type": "code",
   "execution_count": 6,
   "metadata": {},
   "outputs": [],
   "source": [
    "#source_features = source_features_start.join(node_features.set_index('node_id').drop(['is_parent_node','is_leaf_node','parents_count','children_links_counts',\n",
    "                                                           #'parents_links_counts'], axis=1),on='node_id')"
   ]
  },
  {
   "cell_type": "code",
   "execution_count": 7,
   "metadata": {},
   "outputs": [
    {
     "data": {
      "text/html": [
       "<div>\n",
       "<style>\n",
       "    .dataframe thead tr:only-child th {\n",
       "        text-align: right;\n",
       "    }\n",
       "\n",
       "    .dataframe thead th {\n",
       "        text-align: left;\n",
       "    }\n",
       "\n",
       "    .dataframe tbody tr th {\n",
       "        vertical-align: top;\n",
       "    }\n",
       "</style>\n",
       "<table border=\"1\" class=\"dataframe\">\n",
       "  <thead>\n",
       "    <tr style=\"text-align: right;\">\n",
       "      <th></th>\n",
       "      <th>node_id</th>\n",
       "      <th>parents_count</th>\n",
       "      <th>non_leaf_descendants_count</th>\n",
       "      <th>leaf_descendans_count</th>\n",
       "    </tr>\n",
       "  </thead>\n",
       "  <tbody>\n",
       "    <tr>\n",
       "      <th>0</th>\n",
       "      <td>1097</td>\n",
       "      <td>21</td>\n",
       "      <td>37.0</td>\n",
       "      <td>139.0</td>\n",
       "    </tr>\n",
       "    <tr>\n",
       "      <th>1</th>\n",
       "      <td>1122</td>\n",
       "      <td>109</td>\n",
       "      <td>251.0</td>\n",
       "      <td>761.0</td>\n",
       "    </tr>\n",
       "    <tr>\n",
       "      <th>2</th>\n",
       "      <td>1152</td>\n",
       "      <td>94</td>\n",
       "      <td>99.0</td>\n",
       "      <td>2678.0</td>\n",
       "    </tr>\n",
       "    <tr>\n",
       "      <th>3</th>\n",
       "      <td>1170</td>\n",
       "      <td>138</td>\n",
       "      <td>118.0</td>\n",
       "      <td>334.0</td>\n",
       "    </tr>\n",
       "    <tr>\n",
       "      <th>4</th>\n",
       "      <td>1174</td>\n",
       "      <td>187</td>\n",
       "      <td>198.0</td>\n",
       "      <td>344.0</td>\n",
       "    </tr>\n",
       "  </tbody>\n",
       "</table>\n",
       "</div>"
      ],
      "text/plain": [
       "   node_id  parents_count  non_leaf_descendants_count  leaf_descendans_count\n",
       "0     1097             21                        37.0                  139.0\n",
       "1     1122            109                       251.0                  761.0\n",
       "2     1152             94                        99.0                 2678.0\n",
       "3     1170            138                       118.0                  334.0\n",
       "4     1174            187                       198.0                  344.0"
      ]
     },
     "execution_count": 7,
     "metadata": {},
     "output_type": "execute_result"
    }
   ],
   "source": [
    "source_features.head()"
   ]
  },
  {
   "cell_type": "code",
   "execution_count": 8,
   "metadata": {},
   "outputs": [
    {
     "data": {
      "text/plain": [
       "node_id                       20000\n",
       "parents_count                   902\n",
       "non_leaf_descendants_count      845\n",
       "leaf_descendans_count          2891\n",
       "dtype: int64"
      ]
     },
     "execution_count": 8,
     "metadata": {},
     "output_type": "execute_result"
    }
   ],
   "source": [
    "source_features.nunique()"
   ]
  },
  {
   "cell_type": "code",
   "execution_count": 9,
   "metadata": {},
   "outputs": [],
   "source": [
    "sink_features = pd.read_csv('../docs/sink_features.v2.csv.gz')"
   ]
  },
  {
   "cell_type": "code",
   "execution_count": 10,
   "metadata": {},
   "outputs": [],
   "source": [
    "sink_features.drop('is_leaf_node',inplace=True,axis=1)"
   ]
  },
  {
   "cell_type": "code",
   "execution_count": 11,
   "metadata": {},
   "outputs": [
    {
     "data": {
      "text/plain": [
       "node_id                              4867136\n",
       "parent_non_leaf_descendants_count    4867136\n",
       "parent_leaf_descendans_count         4867136\n",
       "parents_count                        4867136\n",
       "dtype: int64"
      ]
     },
     "execution_count": 11,
     "metadata": {},
     "output_type": "execute_result"
    }
   ],
   "source": [
    "sink_features.count()"
   ]
  },
  {
   "cell_type": "code",
   "execution_count": 12,
   "metadata": {
    "scrolled": true
   },
   "outputs": [
    {
     "data": {
      "text/html": [
       "<div>\n",
       "<style>\n",
       "    .dataframe thead tr:only-child th {\n",
       "        text-align: right;\n",
       "    }\n",
       "\n",
       "    .dataframe thead th {\n",
       "        text-align: left;\n",
       "    }\n",
       "\n",
       "    .dataframe tbody tr th {\n",
       "        vertical-align: top;\n",
       "    }\n",
       "</style>\n",
       "<table border=\"1\" class=\"dataframe\">\n",
       "  <thead>\n",
       "    <tr style=\"text-align: right;\">\n",
       "      <th></th>\n",
       "      <th>Source</th>\n",
       "      <th>Sink</th>\n",
       "      <th>AAprediction</th>\n",
       "      <th>JA</th>\n",
       "      <th>PA</th>\n",
       "      <th>Id</th>\n",
       "      <th>common_neighbors</th>\n",
       "    </tr>\n",
       "  </thead>\n",
       "  <tbody>\n",
       "    <tr>\n",
       "      <th>0</th>\n",
       "      <td>2184483</td>\n",
       "      <td>1300190</td>\n",
       "      <td>0.000000</td>\n",
       "      <td>0.000000</td>\n",
       "      <td>435</td>\n",
       "      <td>1</td>\n",
       "      <td>0</td>\n",
       "    </tr>\n",
       "    <tr>\n",
       "      <th>1</th>\n",
       "      <td>3151356</td>\n",
       "      <td>1452193</td>\n",
       "      <td>0.407705</td>\n",
       "      <td>0.006260</td>\n",
       "      <td>102306</td>\n",
       "      <td>2</td>\n",
       "      <td>4</td>\n",
       "    </tr>\n",
       "    <tr>\n",
       "      <th>2</th>\n",
       "      <td>1579396</td>\n",
       "      <td>193159</td>\n",
       "      <td>0.000000</td>\n",
       "      <td>0.000000</td>\n",
       "      <td>418</td>\n",
       "      <td>3</td>\n",
       "      <td>0</td>\n",
       "    </tr>\n",
       "    <tr>\n",
       "      <th>3</th>\n",
       "      <td>1406432</td>\n",
       "      <td>2481036</td>\n",
       "      <td>1.238898</td>\n",
       "      <td>0.062500</td>\n",
       "      <td>2838</td>\n",
       "      <td>4</td>\n",
       "      <td>7</td>\n",
       "    </tr>\n",
       "    <tr>\n",
       "      <th>4</th>\n",
       "      <td>2389638</td>\n",
       "      <td>593017</td>\n",
       "      <td>0.802812</td>\n",
       "      <td>0.012072</td>\n",
       "      <td>62196</td>\n",
       "      <td>5</td>\n",
       "      <td>6</td>\n",
       "    </tr>\n",
       "  </tbody>\n",
       "</table>\n",
       "</div>"
      ],
      "text/plain": [
       "    Source     Sink  AAprediction        JA      PA  Id  common_neighbors\n",
       "0  2184483  1300190      0.000000  0.000000     435   1                 0\n",
       "1  3151356  1452193      0.407705  0.006260  102306   2                 4\n",
       "2  1579396   193159      0.000000  0.000000     418   3                 0\n",
       "3  1406432  2481036      1.238898  0.062500    2838   4                 7\n",
       "4  2389638   593017      0.802812  0.012072   62196   5                 6"
      ]
     },
     "execution_count": 12,
     "metadata": {},
     "output_type": "execute_result"
    }
   ],
   "source": [
    "test_data = pd.read_csv('../docs/testData_NetworkX_analysis_1st.csv')\n",
    "test_data.head()"
   ]
  },
  {
   "cell_type": "code",
   "execution_count": 13,
   "metadata": {},
   "outputs": [],
   "source": [
    "test_data.drop(['PA'],axis=1,inplace=True)"
   ]
  },
  {
   "cell_type": "markdown",
   "metadata": {},
   "source": [
    "# Feature matrix for test data"
   ]
  },
  {
   "cell_type": "code",
   "execution_count": 14,
   "metadata": {},
   "outputs": [],
   "source": [
    "df1 = test_data.join(source_features.set_index('node_id'),on='Source')"
   ]
  },
  {
   "cell_type": "code",
   "execution_count": 15,
   "metadata": {},
   "outputs": [
    {
     "data": {
      "text/html": [
       "<div>\n",
       "<style>\n",
       "    .dataframe thead tr:only-child th {\n",
       "        text-align: right;\n",
       "    }\n",
       "\n",
       "    .dataframe thead th {\n",
       "        text-align: left;\n",
       "    }\n",
       "\n",
       "    .dataframe tbody tr th {\n",
       "        vertical-align: top;\n",
       "    }\n",
       "</style>\n",
       "<table border=\"1\" class=\"dataframe\">\n",
       "  <thead>\n",
       "    <tr style=\"text-align: right;\">\n",
       "      <th></th>\n",
       "      <th>Source</th>\n",
       "      <th>Sink</th>\n",
       "      <th>AAprediction</th>\n",
       "      <th>JA</th>\n",
       "      <th>Id</th>\n",
       "      <th>common_neighbors</th>\n",
       "      <th>parents_count</th>\n",
       "      <th>non_leaf_descendants_count</th>\n",
       "      <th>leaf_descendans_count</th>\n",
       "    </tr>\n",
       "  </thead>\n",
       "  <tbody>\n",
       "    <tr>\n",
       "      <th>0</th>\n",
       "      <td>2184483</td>\n",
       "      <td>1300190</td>\n",
       "      <td>0.000000</td>\n",
       "      <td>0.000000</td>\n",
       "      <td>1</td>\n",
       "      <td>0</td>\n",
       "      <td>102</td>\n",
       "      <td>65.0</td>\n",
       "      <td>18.0</td>\n",
       "    </tr>\n",
       "    <tr>\n",
       "      <th>1</th>\n",
       "      <td>3151356</td>\n",
       "      <td>1452193</td>\n",
       "      <td>0.407705</td>\n",
       "      <td>0.006260</td>\n",
       "      <td>2</td>\n",
       "      <td>4</td>\n",
       "      <td>39</td>\n",
       "      <td>119.0</td>\n",
       "      <td>221.0</td>\n",
       "    </tr>\n",
       "    <tr>\n",
       "      <th>2</th>\n",
       "      <td>1579396</td>\n",
       "      <td>193159</td>\n",
       "      <td>0.000000</td>\n",
       "      <td>0.000000</td>\n",
       "      <td>3</td>\n",
       "      <td>0</td>\n",
       "      <td>13</td>\n",
       "      <td>66.0</td>\n",
       "      <td>142.0</td>\n",
       "    </tr>\n",
       "    <tr>\n",
       "      <th>3</th>\n",
       "      <td>1406432</td>\n",
       "      <td>2481036</td>\n",
       "      <td>1.238898</td>\n",
       "      <td>0.062500</td>\n",
       "      <td>4</td>\n",
       "      <td>7</td>\n",
       "      <td>16</td>\n",
       "      <td>48.0</td>\n",
       "      <td>36.0</td>\n",
       "    </tr>\n",
       "    <tr>\n",
       "      <th>4</th>\n",
       "      <td>2389638</td>\n",
       "      <td>593017</td>\n",
       "      <td>0.802812</td>\n",
       "      <td>0.012072</td>\n",
       "      <td>5</td>\n",
       "      <td>6</td>\n",
       "      <td>30</td>\n",
       "      <td>69.0</td>\n",
       "      <td>198.0</td>\n",
       "    </tr>\n",
       "  </tbody>\n",
       "</table>\n",
       "</div>"
      ],
      "text/plain": [
       "    Source     Sink  AAprediction        JA  Id  common_neighbors  \\\n",
       "0  2184483  1300190      0.000000  0.000000   1                 0   \n",
       "1  3151356  1452193      0.407705  0.006260   2                 4   \n",
       "2  1579396   193159      0.000000  0.000000   3                 0   \n",
       "3  1406432  2481036      1.238898  0.062500   4                 7   \n",
       "4  2389638   593017      0.802812  0.012072   5                 6   \n",
       "\n",
       "   parents_count  non_leaf_descendants_count  leaf_descendans_count  \n",
       "0            102                        65.0                   18.0  \n",
       "1             39                       119.0                  221.0  \n",
       "2             13                        66.0                  142.0  \n",
       "3             16                        48.0                   36.0  \n",
       "4             30                        69.0                  198.0  "
      ]
     },
     "execution_count": 15,
     "metadata": {},
     "output_type": "execute_result"
    }
   ],
   "source": [
    "df1.head()"
   ]
  },
  {
   "cell_type": "code",
   "execution_count": 16,
   "metadata": {},
   "outputs": [],
   "source": [
    "df1.rename(columns= {'parents_count':'source_parents_count',\n",
    "                              'non_leaf_descendants_count':'source_non_leaf_descendants_count',\n",
    "                              'leaf_descendans_count':'source_leaf_descendans_count'},inplace=True)"
   ]
  },
  {
   "cell_type": "code",
   "execution_count": 17,
   "metadata": {},
   "outputs": [
    {
     "data": {
      "text/html": [
       "<div>\n",
       "<style>\n",
       "    .dataframe thead tr:only-child th {\n",
       "        text-align: right;\n",
       "    }\n",
       "\n",
       "    .dataframe thead th {\n",
       "        text-align: left;\n",
       "    }\n",
       "\n",
       "    .dataframe tbody tr th {\n",
       "        vertical-align: top;\n",
       "    }\n",
       "</style>\n",
       "<table border=\"1\" class=\"dataframe\">\n",
       "  <thead>\n",
       "    <tr style=\"text-align: right;\">\n",
       "      <th></th>\n",
       "      <th>Source</th>\n",
       "      <th>Sink</th>\n",
       "      <th>AAprediction</th>\n",
       "      <th>JA</th>\n",
       "      <th>Id</th>\n",
       "      <th>common_neighbors</th>\n",
       "      <th>source_parents_count</th>\n",
       "      <th>source_non_leaf_descendants_count</th>\n",
       "      <th>source_leaf_descendans_count</th>\n",
       "    </tr>\n",
       "  </thead>\n",
       "  <tbody>\n",
       "    <tr>\n",
       "      <th>0</th>\n",
       "      <td>2184483</td>\n",
       "      <td>1300190</td>\n",
       "      <td>0.000000</td>\n",
       "      <td>0.000000</td>\n",
       "      <td>1</td>\n",
       "      <td>0</td>\n",
       "      <td>102</td>\n",
       "      <td>65.0</td>\n",
       "      <td>18.0</td>\n",
       "    </tr>\n",
       "    <tr>\n",
       "      <th>1</th>\n",
       "      <td>3151356</td>\n",
       "      <td>1452193</td>\n",
       "      <td>0.407705</td>\n",
       "      <td>0.006260</td>\n",
       "      <td>2</td>\n",
       "      <td>4</td>\n",
       "      <td>39</td>\n",
       "      <td>119.0</td>\n",
       "      <td>221.0</td>\n",
       "    </tr>\n",
       "    <tr>\n",
       "      <th>2</th>\n",
       "      <td>1579396</td>\n",
       "      <td>193159</td>\n",
       "      <td>0.000000</td>\n",
       "      <td>0.000000</td>\n",
       "      <td>3</td>\n",
       "      <td>0</td>\n",
       "      <td>13</td>\n",
       "      <td>66.0</td>\n",
       "      <td>142.0</td>\n",
       "    </tr>\n",
       "    <tr>\n",
       "      <th>3</th>\n",
       "      <td>1406432</td>\n",
       "      <td>2481036</td>\n",
       "      <td>1.238898</td>\n",
       "      <td>0.062500</td>\n",
       "      <td>4</td>\n",
       "      <td>7</td>\n",
       "      <td>16</td>\n",
       "      <td>48.0</td>\n",
       "      <td>36.0</td>\n",
       "    </tr>\n",
       "    <tr>\n",
       "      <th>4</th>\n",
       "      <td>2389638</td>\n",
       "      <td>593017</td>\n",
       "      <td>0.802812</td>\n",
       "      <td>0.012072</td>\n",
       "      <td>5</td>\n",
       "      <td>6</td>\n",
       "      <td>30</td>\n",
       "      <td>69.0</td>\n",
       "      <td>198.0</td>\n",
       "    </tr>\n",
       "  </tbody>\n",
       "</table>\n",
       "</div>"
      ],
      "text/plain": [
       "    Source     Sink  AAprediction        JA  Id  common_neighbors  \\\n",
       "0  2184483  1300190      0.000000  0.000000   1                 0   \n",
       "1  3151356  1452193      0.407705  0.006260   2                 4   \n",
       "2  1579396   193159      0.000000  0.000000   3                 0   \n",
       "3  1406432  2481036      1.238898  0.062500   4                 7   \n",
       "4  2389638   593017      0.802812  0.012072   5                 6   \n",
       "\n",
       "   source_parents_count  source_non_leaf_descendants_count  \\\n",
       "0                   102                               65.0   \n",
       "1                    39                              119.0   \n",
       "2                    13                               66.0   \n",
       "3                    16                               48.0   \n",
       "4                    30                               69.0   \n",
       "\n",
       "   source_leaf_descendans_count  \n",
       "0                          18.0  \n",
       "1                         221.0  \n",
       "2                         142.0  \n",
       "3                          36.0  \n",
       "4                         198.0  "
      ]
     },
     "execution_count": 17,
     "metadata": {},
     "output_type": "execute_result"
    }
   ],
   "source": [
    "df1.head()"
   ]
  },
  {
   "cell_type": "code",
   "execution_count": 18,
   "metadata": {},
   "outputs": [],
   "source": [
    "df2 = test_data.join(sink_features.set_index('node_id'),on='Sink')"
   ]
  },
  {
   "cell_type": "code",
   "execution_count": 19,
   "metadata": {},
   "outputs": [],
   "source": [
    "df2.rename(columns={'parents_count':'sink_parents_count',\n",
    "                              'parent_non_leaf_descendants_count':'sink_parent_non_leaf_descendants_count',\n",
    "                              'parent_leaf_descendans_count':'sink_parent_leaf_descendans_count'},inplace=True)"
   ]
  },
  {
   "cell_type": "code",
   "execution_count": 20,
   "metadata": {},
   "outputs": [
    {
     "data": {
      "text/html": [
       "<div>\n",
       "<style>\n",
       "    .dataframe thead tr:only-child th {\n",
       "        text-align: right;\n",
       "    }\n",
       "\n",
       "    .dataframe thead th {\n",
       "        text-align: left;\n",
       "    }\n",
       "\n",
       "    .dataframe tbody tr th {\n",
       "        vertical-align: top;\n",
       "    }\n",
       "</style>\n",
       "<table border=\"1\" class=\"dataframe\">\n",
       "  <thead>\n",
       "    <tr style=\"text-align: right;\">\n",
       "      <th></th>\n",
       "      <th>Source</th>\n",
       "      <th>Sink</th>\n",
       "      <th>AAprediction</th>\n",
       "      <th>JA</th>\n",
       "      <th>Id</th>\n",
       "      <th>common_neighbors</th>\n",
       "      <th>sink_parent_non_leaf_descendants_count</th>\n",
       "      <th>sink_parent_leaf_descendans_count</th>\n",
       "      <th>sink_parents_count</th>\n",
       "    </tr>\n",
       "  </thead>\n",
       "  <tbody>\n",
       "    <tr>\n",
       "      <th>0</th>\n",
       "      <td>2184483</td>\n",
       "      <td>1300190</td>\n",
       "      <td>0.000000</td>\n",
       "      <td>0.000000</td>\n",
       "      <td>1</td>\n",
       "      <td>0</td>\n",
       "      <td>2702</td>\n",
       "      <td>109609</td>\n",
       "      <td>3</td>\n",
       "    </tr>\n",
       "    <tr>\n",
       "      <th>1</th>\n",
       "      <td>3151356</td>\n",
       "      <td>1452193</td>\n",
       "      <td>0.407705</td>\n",
       "      <td>0.006260</td>\n",
       "      <td>2</td>\n",
       "      <td>4</td>\n",
       "      <td>179071</td>\n",
       "      <td>8088742</td>\n",
       "      <td>289</td>\n",
       "    </tr>\n",
       "    <tr>\n",
       "      <th>2</th>\n",
       "      <td>1579396</td>\n",
       "      <td>193159</td>\n",
       "      <td>0.000000</td>\n",
       "      <td>0.000000</td>\n",
       "      <td>3</td>\n",
       "      <td>0</td>\n",
       "      <td>3396</td>\n",
       "      <td>16755</td>\n",
       "      <td>2</td>\n",
       "    </tr>\n",
       "    <tr>\n",
       "      <th>3</th>\n",
       "      <td>1406432</td>\n",
       "      <td>2481036</td>\n",
       "      <td>1.238898</td>\n",
       "      <td>0.062500</td>\n",
       "      <td>4</td>\n",
       "      <td>7</td>\n",
       "      <td>2283</td>\n",
       "      <td>4034</td>\n",
       "      <td>24</td>\n",
       "    </tr>\n",
       "    <tr>\n",
       "      <th>4</th>\n",
       "      <td>2389638</td>\n",
       "      <td>593017</td>\n",
       "      <td>0.802812</td>\n",
       "      <td>0.012072</td>\n",
       "      <td>5</td>\n",
       "      <td>6</td>\n",
       "      <td>41352</td>\n",
       "      <td>544270</td>\n",
       "      <td>165</td>\n",
       "    </tr>\n",
       "  </tbody>\n",
       "</table>\n",
       "</div>"
      ],
      "text/plain": [
       "    Source     Sink  AAprediction        JA  Id  common_neighbors  \\\n",
       "0  2184483  1300190      0.000000  0.000000   1                 0   \n",
       "1  3151356  1452193      0.407705  0.006260   2                 4   \n",
       "2  1579396   193159      0.000000  0.000000   3                 0   \n",
       "3  1406432  2481036      1.238898  0.062500   4                 7   \n",
       "4  2389638   593017      0.802812  0.012072   5                 6   \n",
       "\n",
       "   sink_parent_non_leaf_descendants_count  sink_parent_leaf_descendans_count  \\\n",
       "0                                    2702                             109609   \n",
       "1                                  179071                            8088742   \n",
       "2                                    3396                              16755   \n",
       "3                                    2283                               4034   \n",
       "4                                   41352                             544270   \n",
       "\n",
       "   sink_parents_count  \n",
       "0                   3  \n",
       "1                 289  \n",
       "2                   2  \n",
       "3                  24  \n",
       "4                 165  "
      ]
     },
     "execution_count": 20,
     "metadata": {},
     "output_type": "execute_result"
    }
   ],
   "source": [
    "df2.head()"
   ]
  },
  {
   "cell_type": "code",
   "execution_count": 21,
   "metadata": {},
   "outputs": [],
   "source": [
    "X_test = df1.join(df2.set_index('Id').drop(['Source','AAprediction','Sink','common_neighbors','JA'],axis=1),on='Id')"
   ]
  },
  {
   "cell_type": "code",
   "execution_count": 22,
   "metadata": {},
   "outputs": [
    {
     "data": {
      "text/html": [
       "<div>\n",
       "<style>\n",
       "    .dataframe thead tr:only-child th {\n",
       "        text-align: right;\n",
       "    }\n",
       "\n",
       "    .dataframe thead th {\n",
       "        text-align: left;\n",
       "    }\n",
       "\n",
       "    .dataframe tbody tr th {\n",
       "        vertical-align: top;\n",
       "    }\n",
       "</style>\n",
       "<table border=\"1\" class=\"dataframe\">\n",
       "  <thead>\n",
       "    <tr style=\"text-align: right;\">\n",
       "      <th></th>\n",
       "      <th>Source</th>\n",
       "      <th>Sink</th>\n",
       "      <th>AAprediction</th>\n",
       "      <th>JA</th>\n",
       "      <th>Id</th>\n",
       "      <th>common_neighbors</th>\n",
       "      <th>source_parents_count</th>\n",
       "      <th>source_non_leaf_descendants_count</th>\n",
       "      <th>source_leaf_descendans_count</th>\n",
       "      <th>sink_parent_non_leaf_descendants_count</th>\n",
       "      <th>sink_parent_leaf_descendans_count</th>\n",
       "      <th>sink_parents_count</th>\n",
       "    </tr>\n",
       "  </thead>\n",
       "  <tbody>\n",
       "    <tr>\n",
       "      <th>0</th>\n",
       "      <td>2184483</td>\n",
       "      <td>1300190</td>\n",
       "      <td>0.000000</td>\n",
       "      <td>0.000000</td>\n",
       "      <td>1</td>\n",
       "      <td>0</td>\n",
       "      <td>102</td>\n",
       "      <td>65.0</td>\n",
       "      <td>18.0</td>\n",
       "      <td>2702</td>\n",
       "      <td>109609</td>\n",
       "      <td>3</td>\n",
       "    </tr>\n",
       "    <tr>\n",
       "      <th>1</th>\n",
       "      <td>3151356</td>\n",
       "      <td>1452193</td>\n",
       "      <td>0.407705</td>\n",
       "      <td>0.006260</td>\n",
       "      <td>2</td>\n",
       "      <td>4</td>\n",
       "      <td>39</td>\n",
       "      <td>119.0</td>\n",
       "      <td>221.0</td>\n",
       "      <td>179071</td>\n",
       "      <td>8088742</td>\n",
       "      <td>289</td>\n",
       "    </tr>\n",
       "    <tr>\n",
       "      <th>2</th>\n",
       "      <td>1579396</td>\n",
       "      <td>193159</td>\n",
       "      <td>0.000000</td>\n",
       "      <td>0.000000</td>\n",
       "      <td>3</td>\n",
       "      <td>0</td>\n",
       "      <td>13</td>\n",
       "      <td>66.0</td>\n",
       "      <td>142.0</td>\n",
       "      <td>3396</td>\n",
       "      <td>16755</td>\n",
       "      <td>2</td>\n",
       "    </tr>\n",
       "    <tr>\n",
       "      <th>3</th>\n",
       "      <td>1406432</td>\n",
       "      <td>2481036</td>\n",
       "      <td>1.238898</td>\n",
       "      <td>0.062500</td>\n",
       "      <td>4</td>\n",
       "      <td>7</td>\n",
       "      <td>16</td>\n",
       "      <td>48.0</td>\n",
       "      <td>36.0</td>\n",
       "      <td>2283</td>\n",
       "      <td>4034</td>\n",
       "      <td>24</td>\n",
       "    </tr>\n",
       "    <tr>\n",
       "      <th>4</th>\n",
       "      <td>2389638</td>\n",
       "      <td>593017</td>\n",
       "      <td>0.802812</td>\n",
       "      <td>0.012072</td>\n",
       "      <td>5</td>\n",
       "      <td>6</td>\n",
       "      <td>30</td>\n",
       "      <td>69.0</td>\n",
       "      <td>198.0</td>\n",
       "      <td>41352</td>\n",
       "      <td>544270</td>\n",
       "      <td>165</td>\n",
       "    </tr>\n",
       "  </tbody>\n",
       "</table>\n",
       "</div>"
      ],
      "text/plain": [
       "    Source     Sink  AAprediction        JA  Id  common_neighbors  \\\n",
       "0  2184483  1300190      0.000000  0.000000   1                 0   \n",
       "1  3151356  1452193      0.407705  0.006260   2                 4   \n",
       "2  1579396   193159      0.000000  0.000000   3                 0   \n",
       "3  1406432  2481036      1.238898  0.062500   4                 7   \n",
       "4  2389638   593017      0.802812  0.012072   5                 6   \n",
       "\n",
       "   source_parents_count  source_non_leaf_descendants_count  \\\n",
       "0                   102                               65.0   \n",
       "1                    39                              119.0   \n",
       "2                    13                               66.0   \n",
       "3                    16                               48.0   \n",
       "4                    30                               69.0   \n",
       "\n",
       "   source_leaf_descendans_count  sink_parent_non_leaf_descendants_count  \\\n",
       "0                          18.0                                    2702   \n",
       "1                         221.0                                  179071   \n",
       "2                         142.0                                    3396   \n",
       "3                          36.0                                    2283   \n",
       "4                         198.0                                   41352   \n",
       "\n",
       "   sink_parent_leaf_descendans_count  sink_parents_count  \n",
       "0                             109609                   3  \n",
       "1                            8088742                 289  \n",
       "2                              16755                   2  \n",
       "3                               4034                  24  \n",
       "4                             544270                 165  "
      ]
     },
     "execution_count": 22,
     "metadata": {},
     "output_type": "execute_result"
    }
   ],
   "source": [
    "X_test.head()"
   ]
  },
  {
   "cell_type": "code",
   "execution_count": 23,
   "metadata": {
    "scrolled": true
   },
   "outputs": [
    {
     "data": {
      "text/html": [
       "<div>\n",
       "<style>\n",
       "    .dataframe thead tr:only-child th {\n",
       "        text-align: right;\n",
       "    }\n",
       "\n",
       "    .dataframe thead th {\n",
       "        text-align: left;\n",
       "    }\n",
       "\n",
       "    .dataframe tbody tr th {\n",
       "        vertical-align: top;\n",
       "    }\n",
       "</style>\n",
       "<table border=\"1\" class=\"dataframe\">\n",
       "  <thead>\n",
       "    <tr style=\"text-align: right;\">\n",
       "      <th></th>\n",
       "      <th>Source</th>\n",
       "      <th>Sink</th>\n",
       "      <th>AAprediction</th>\n",
       "      <th>JA</th>\n",
       "      <th>Id</th>\n",
       "      <th>common_neighbors</th>\n",
       "      <th>source_parents_count</th>\n",
       "      <th>source_non_leaf_descendants_count</th>\n",
       "      <th>source_leaf_descendans_count</th>\n",
       "      <th>sink_parent_non_leaf_descendants_count</th>\n",
       "      <th>sink_parent_leaf_descendans_count</th>\n",
       "      <th>sink_parents_count</th>\n",
       "    </tr>\n",
       "  </thead>\n",
       "  <tbody>\n",
       "    <tr>\n",
       "      <th>count</th>\n",
       "      <td>2.000000e+03</td>\n",
       "      <td>2.000000e+03</td>\n",
       "      <td>2000.000000</td>\n",
       "      <td>2000.000000</td>\n",
       "      <td>2000.000000</td>\n",
       "      <td>2000.000000</td>\n",
       "      <td>2000.000000</td>\n",
       "      <td>2000.00000</td>\n",
       "      <td>2000.000000</td>\n",
       "      <td>2000.000000</td>\n",
       "      <td>2.000000e+03</td>\n",
       "      <td>2000.000000</td>\n",
       "    </tr>\n",
       "    <tr>\n",
       "      <th>mean</th>\n",
       "      <td>2.431106e+06</td>\n",
       "      <td>2.429986e+06</td>\n",
       "      <td>1.913987</td>\n",
       "      <td>0.014652</td>\n",
       "      <td>1000.500000</td>\n",
       "      <td>11.376000</td>\n",
       "      <td>90.911500</td>\n",
       "      <td>94.55750</td>\n",
       "      <td>1228.490500</td>\n",
       "      <td>55319.866000</td>\n",
       "      <td>1.704336e+06</td>\n",
       "      <td>143.195000</td>\n",
       "    </tr>\n",
       "    <tr>\n",
       "      <th>std</th>\n",
       "      <td>1.418827e+06</td>\n",
       "      <td>1.420581e+06</td>\n",
       "      <td>22.412112</td>\n",
       "      <td>0.039437</td>\n",
       "      <td>577.494589</td>\n",
       "      <td>100.078352</td>\n",
       "      <td>166.978548</td>\n",
       "      <td>158.48722</td>\n",
       "      <td>9793.310524</td>\n",
       "      <td>92034.673134</td>\n",
       "      <td>2.284354e+06</td>\n",
       "      <td>358.116046</td>\n",
       "    </tr>\n",
       "    <tr>\n",
       "      <th>min</th>\n",
       "      <td>1.452000e+03</td>\n",
       "      <td>5.113000e+03</td>\n",
       "      <td>0.000000</td>\n",
       "      <td>0.000000</td>\n",
       "      <td>1.000000</td>\n",
       "      <td>0.000000</td>\n",
       "      <td>1.000000</td>\n",
       "      <td>0.00000</td>\n",
       "      <td>0.000000</td>\n",
       "      <td>8.000000</td>\n",
       "      <td>7.000000e+00</td>\n",
       "      <td>1.000000</td>\n",
       "    </tr>\n",
       "    <tr>\n",
       "      <th>25%</th>\n",
       "      <td>1.202666e+06</td>\n",
       "      <td>1.162797e+06</td>\n",
       "      <td>0.000000</td>\n",
       "      <td>0.000000</td>\n",
       "      <td>500.750000</td>\n",
       "      <td>0.000000</td>\n",
       "      <td>12.000000</td>\n",
       "      <td>17.00000</td>\n",
       "      <td>36.000000</td>\n",
       "      <td>4096.250000</td>\n",
       "      <td>1.178240e+05</td>\n",
       "      <td>7.000000</td>\n",
       "    </tr>\n",
       "    <tr>\n",
       "      <th>50%</th>\n",
       "      <td>2.456928e+06</td>\n",
       "      <td>2.459976e+06</td>\n",
       "      <td>0.137745</td>\n",
       "      <td>0.002128</td>\n",
       "      <td>1000.500000</td>\n",
       "      <td>1.000000</td>\n",
       "      <td>36.000000</td>\n",
       "      <td>43.00000</td>\n",
       "      <td>115.000000</td>\n",
       "      <td>20448.000000</td>\n",
       "      <td>8.330660e+05</td>\n",
       "      <td>33.000000</td>\n",
       "    </tr>\n",
       "    <tr>\n",
       "      <th>75%</th>\n",
       "      <td>3.655393e+06</td>\n",
       "      <td>3.679264e+06</td>\n",
       "      <td>0.926810</td>\n",
       "      <td>0.011365</td>\n",
       "      <td>1500.250000</td>\n",
       "      <td>7.000000</td>\n",
       "      <td>96.000000</td>\n",
       "      <td>105.00000</td>\n",
       "      <td>382.250000</td>\n",
       "      <td>66267.250000</td>\n",
       "      <td>2.374668e+06</td>\n",
       "      <td>118.000000</td>\n",
       "    </tr>\n",
       "    <tr>\n",
       "      <th>max</th>\n",
       "      <td>4.866498e+06</td>\n",
       "      <td>4.864558e+06</td>\n",
       "      <td>986.942415</td>\n",
       "      <td>0.631579</td>\n",
       "      <td>2000.000000</td>\n",
       "      <td>4361.000000</td>\n",
       "      <td>2022.000000</td>\n",
       "      <td>2172.00000</td>\n",
       "      <td>369384.000000</td>\n",
       "      <td>856614.000000</td>\n",
       "      <td>1.556218e+07</td>\n",
       "      <td>4841.000000</td>\n",
       "    </tr>\n",
       "  </tbody>\n",
       "</table>\n",
       "</div>"
      ],
      "text/plain": [
       "             Source          Sink  AAprediction           JA           Id  \\\n",
       "count  2.000000e+03  2.000000e+03   2000.000000  2000.000000  2000.000000   \n",
       "mean   2.431106e+06  2.429986e+06      1.913987     0.014652  1000.500000   \n",
       "std    1.418827e+06  1.420581e+06     22.412112     0.039437   577.494589   \n",
       "min    1.452000e+03  5.113000e+03      0.000000     0.000000     1.000000   \n",
       "25%    1.202666e+06  1.162797e+06      0.000000     0.000000   500.750000   \n",
       "50%    2.456928e+06  2.459976e+06      0.137745     0.002128  1000.500000   \n",
       "75%    3.655393e+06  3.679264e+06      0.926810     0.011365  1500.250000   \n",
       "max    4.866498e+06  4.864558e+06    986.942415     0.631579  2000.000000   \n",
       "\n",
       "       common_neighbors  source_parents_count  \\\n",
       "count       2000.000000           2000.000000   \n",
       "mean          11.376000             90.911500   \n",
       "std          100.078352            166.978548   \n",
       "min            0.000000              1.000000   \n",
       "25%            0.000000             12.000000   \n",
       "50%            1.000000             36.000000   \n",
       "75%            7.000000             96.000000   \n",
       "max         4361.000000           2022.000000   \n",
       "\n",
       "       source_non_leaf_descendants_count  source_leaf_descendans_count  \\\n",
       "count                         2000.00000                   2000.000000   \n",
       "mean                            94.55750                   1228.490500   \n",
       "std                            158.48722                   9793.310524   \n",
       "min                              0.00000                      0.000000   \n",
       "25%                             17.00000                     36.000000   \n",
       "50%                             43.00000                    115.000000   \n",
       "75%                            105.00000                    382.250000   \n",
       "max                           2172.00000                 369384.000000   \n",
       "\n",
       "       sink_parent_non_leaf_descendants_count  \\\n",
       "count                             2000.000000   \n",
       "mean                             55319.866000   \n",
       "std                              92034.673134   \n",
       "min                                  8.000000   \n",
       "25%                               4096.250000   \n",
       "50%                              20448.000000   \n",
       "75%                              66267.250000   \n",
       "max                             856614.000000   \n",
       "\n",
       "       sink_parent_leaf_descendans_count  sink_parents_count  \n",
       "count                       2.000000e+03         2000.000000  \n",
       "mean                        1.704336e+06          143.195000  \n",
       "std                         2.284354e+06          358.116046  \n",
       "min                         7.000000e+00            1.000000  \n",
       "25%                         1.178240e+05            7.000000  \n",
       "50%                         8.330660e+05           33.000000  \n",
       "75%                         2.374668e+06          118.000000  \n",
       "max                         1.556218e+07         4841.000000  "
      ]
     },
     "execution_count": 23,
     "metadata": {},
     "output_type": "execute_result"
    }
   ],
   "source": [
    "X_test.describe()"
   ]
  },
  {
   "cell_type": "code",
   "execution_count": 24,
   "metadata": {},
   "outputs": [],
   "source": [
    "X_test.drop('JA',axis=1,inplace=True)"
   ]
  },
  {
   "cell_type": "markdown",
   "metadata": {},
   "source": [
    "# Caliculating rank of the matrix"
   ]
  },
  {
   "cell_type": "code",
   "execution_count": 25,
   "metadata": {},
   "outputs": [],
   "source": [
    "from numpy.linalg import matrix_rank"
   ]
  },
  {
   "cell_type": "code",
   "execution_count": 26,
   "metadata": {},
   "outputs": [
    {
     "data": {
      "text/html": [
       "<div>\n",
       "<style>\n",
       "    .dataframe thead tr:only-child th {\n",
       "        text-align: right;\n",
       "    }\n",
       "\n",
       "    .dataframe thead th {\n",
       "        text-align: left;\n",
       "    }\n",
       "\n",
       "    .dataframe tbody tr th {\n",
       "        vertical-align: top;\n",
       "    }\n",
       "</style>\n",
       "<table border=\"1\" class=\"dataframe\">\n",
       "  <thead>\n",
       "    <tr style=\"text-align: right;\">\n",
       "      <th></th>\n",
       "      <th>Source</th>\n",
       "      <th>Sink</th>\n",
       "      <th>AAprediction</th>\n",
       "      <th>Id</th>\n",
       "      <th>common_neighbors</th>\n",
       "      <th>source_parents_count</th>\n",
       "      <th>source_non_leaf_descendants_count</th>\n",
       "      <th>source_leaf_descendans_count</th>\n",
       "      <th>sink_parent_non_leaf_descendants_count</th>\n",
       "      <th>sink_parent_leaf_descendans_count</th>\n",
       "      <th>sink_parents_count</th>\n",
       "    </tr>\n",
       "  </thead>\n",
       "  <tbody>\n",
       "    <tr>\n",
       "      <th>0</th>\n",
       "      <td>2184483</td>\n",
       "      <td>1300190</td>\n",
       "      <td>0.000000</td>\n",
       "      <td>1</td>\n",
       "      <td>0</td>\n",
       "      <td>102</td>\n",
       "      <td>65.0</td>\n",
       "      <td>18.0</td>\n",
       "      <td>2702</td>\n",
       "      <td>109609</td>\n",
       "      <td>3</td>\n",
       "    </tr>\n",
       "    <tr>\n",
       "      <th>1</th>\n",
       "      <td>3151356</td>\n",
       "      <td>1452193</td>\n",
       "      <td>0.407705</td>\n",
       "      <td>2</td>\n",
       "      <td>4</td>\n",
       "      <td>39</td>\n",
       "      <td>119.0</td>\n",
       "      <td>221.0</td>\n",
       "      <td>179071</td>\n",
       "      <td>8088742</td>\n",
       "      <td>289</td>\n",
       "    </tr>\n",
       "    <tr>\n",
       "      <th>2</th>\n",
       "      <td>1579396</td>\n",
       "      <td>193159</td>\n",
       "      <td>0.000000</td>\n",
       "      <td>3</td>\n",
       "      <td>0</td>\n",
       "      <td>13</td>\n",
       "      <td>66.0</td>\n",
       "      <td>142.0</td>\n",
       "      <td>3396</td>\n",
       "      <td>16755</td>\n",
       "      <td>2</td>\n",
       "    </tr>\n",
       "    <tr>\n",
       "      <th>3</th>\n",
       "      <td>1406432</td>\n",
       "      <td>2481036</td>\n",
       "      <td>1.238898</td>\n",
       "      <td>4</td>\n",
       "      <td>7</td>\n",
       "      <td>16</td>\n",
       "      <td>48.0</td>\n",
       "      <td>36.0</td>\n",
       "      <td>2283</td>\n",
       "      <td>4034</td>\n",
       "      <td>24</td>\n",
       "    </tr>\n",
       "    <tr>\n",
       "      <th>4</th>\n",
       "      <td>2389638</td>\n",
       "      <td>593017</td>\n",
       "      <td>0.802812</td>\n",
       "      <td>5</td>\n",
       "      <td>6</td>\n",
       "      <td>30</td>\n",
       "      <td>69.0</td>\n",
       "      <td>198.0</td>\n",
       "      <td>41352</td>\n",
       "      <td>544270</td>\n",
       "      <td>165</td>\n",
       "    </tr>\n",
       "  </tbody>\n",
       "</table>\n",
       "</div>"
      ],
      "text/plain": [
       "    Source     Sink  AAprediction  Id  common_neighbors  source_parents_count  \\\n",
       "0  2184483  1300190      0.000000   1                 0                   102   \n",
       "1  3151356  1452193      0.407705   2                 4                    39   \n",
       "2  1579396   193159      0.000000   3                 0                    13   \n",
       "3  1406432  2481036      1.238898   4                 7                    16   \n",
       "4  2389638   593017      0.802812   5                 6                    30   \n",
       "\n",
       "   source_non_leaf_descendants_count  source_leaf_descendans_count  \\\n",
       "0                               65.0                          18.0   \n",
       "1                              119.0                         221.0   \n",
       "2                               66.0                         142.0   \n",
       "3                               48.0                          36.0   \n",
       "4                               69.0                         198.0   \n",
       "\n",
       "   sink_parent_non_leaf_descendants_count  sink_parent_leaf_descendans_count  \\\n",
       "0                                    2702                             109609   \n",
       "1                                  179071                            8088742   \n",
       "2                                    3396                              16755   \n",
       "3                                    2283                               4034   \n",
       "4                                   41352                             544270   \n",
       "\n",
       "   sink_parents_count  \n",
       "0                   3  \n",
       "1                 289  \n",
       "2                   2  \n",
       "3                  24  \n",
       "4                 165  "
      ]
     },
     "execution_count": 26,
     "metadata": {},
     "output_type": "execute_result"
    }
   ],
   "source": [
    "X_test.head()"
   ]
  },
  {
   "cell_type": "code",
   "execution_count": 27,
   "metadata": {},
   "outputs": [
    {
     "data": {
      "text/plain": [
       "8"
      ]
     },
     "execution_count": 27,
     "metadata": {},
     "output_type": "execute_result"
    }
   ],
   "source": [
    "matrix_rank(X_test.values[:, 3:])"
   ]
  },
  {
   "cell_type": "code",
   "execution_count": null,
   "metadata": {},
   "outputs": [],
   "source": []
  },
  {
   "cell_type": "raw",
   "metadata": {},
   "source": [
    "train_data = pd.read_csv('../docs/326k_training.csv')"
   ]
  },
  {
   "cell_type": "raw",
   "metadata": {},
   "source": [
    "# Feature matrix for Train data"
   ]
  },
  {
   "cell_type": "raw",
   "metadata": {
    "scrolled": false
   },
   "source": [
    "train_data.head()"
   ]
  },
  {
   "cell_type": "raw",
   "metadata": {},
   "source": [
    "train_data.drop('common_neighbours',axis=1,inplace=True)"
   ]
  },
  {
   "cell_type": "raw",
   "metadata": {},
   "source": [
    "df3 = train_data.join(source_features.set_index('node_id'),on='Source')"
   ]
  },
  {
   "cell_type": "raw",
   "metadata": {},
   "source": [
    "df3.describe()"
   ]
  },
  {
   "cell_type": "raw",
   "metadata": {},
   "source": [
    "df3.head()"
   ]
  },
  {
   "cell_type": "raw",
   "metadata": {},
   "source": [
    "df3.rename(columns= {'parents_count':'source_parents_count',\n",
    "                              'non_leaf_descendants_count':'source_non_leaf_descendants_count',\n",
    "                              'leaf_descendans_count':'source_leaf_descendans_count'},inplace=True)"
   ]
  },
  {
   "cell_type": "raw",
   "metadata": {
    "scrolled": true
   },
   "source": [
    "df3.set_index(['Source','Sink'],inplace=True)\n",
    "df3.head()"
   ]
  },
  {
   "cell_type": "raw",
   "metadata": {},
   "source": [
    "df4 = train_data.join(sink_features.set_index('node_id'),on='Sink')"
   ]
  },
  {
   "cell_type": "raw",
   "metadata": {},
   "source": [
    "df4.rename(columns={'parents_count':'sink_parents_count',\n",
    "                              'parent_non_leaf_descendants_count':'sink_parent_non_leaf_descendants_count',\n",
    "                              'parent_leaf_descendans_count':'sink_parent_leaf_descendans_count'},inplace=True)"
   ]
  },
  {
   "cell_type": "raw",
   "metadata": {
    "scrolled": true
   },
   "source": [
    "df4.set_index(['Source','Sink'],inplace=True)\n",
    "df4.head()"
   ]
  },
  {
   "cell_type": "raw",
   "metadata": {},
   "source": []
  },
  {
   "cell_type": "raw",
   "metadata": {},
   "source": [
    "X_train_v2 = pd.concat([df3.sort_index(),df4.sort_index().drop(['exist_in_training_dataset','AAprediction','common_neighbor','JA'],axis=1)],axis=1)"
   ]
  },
  {
   "cell_type": "raw",
   "metadata": {},
   "source": [
    "X_train_v2.rename(columns={'common_neighbor':'common_neighbors'},inplace=True)"
   ]
  },
  {
   "cell_type": "raw",
   "metadata": {},
   "source": [
    "X_train_v2.head(10)"
   ]
  },
  {
   "cell_type": "raw",
   "metadata": {
    "scrolled": true
   },
   "source": [
    "X_train_v2.describe()"
   ]
  },
  {
   "cell_type": "raw",
   "metadata": {},
   "source": [
    "X_train_v2.to_csv('../train_feature_matrix.csv')"
   ]
  },
  {
   "cell_type": "markdown",
   "metadata": {},
   "source": [
    "# Caliculating rank of the train matrix"
   ]
  },
  {
   "cell_type": "code",
   "execution_count": 28,
   "metadata": {},
   "outputs": [],
   "source": [
    "from numpy.linalg import matrix_rank"
   ]
  },
  {
   "cell_type": "code",
   "execution_count": 29,
   "metadata": {},
   "outputs": [],
   "source": [
    "X_train_v2 = pd.read_csv('../SVM_GRID_SEARCH/train_feature_matrix_1.csv')"
   ]
  },
  {
   "cell_type": "code",
   "execution_count": 30,
   "metadata": {},
   "outputs": [
    {
     "data": {
      "text/html": [
       "<div>\n",
       "<style>\n",
       "    .dataframe thead tr:only-child th {\n",
       "        text-align: right;\n",
       "    }\n",
       "\n",
       "    .dataframe thead th {\n",
       "        text-align: left;\n",
       "    }\n",
       "\n",
       "    .dataframe tbody tr th {\n",
       "        vertical-align: top;\n",
       "    }\n",
       "</style>\n",
       "<table border=\"1\" class=\"dataframe\">\n",
       "  <thead>\n",
       "    <tr style=\"text-align: right;\">\n",
       "      <th></th>\n",
       "      <th>Source</th>\n",
       "      <th>Sink</th>\n",
       "      <th>common_neighbors</th>\n",
       "      <th>AAprediction</th>\n",
       "      <th>exist_in_training_dataset</th>\n",
       "      <th>source_parents_count</th>\n",
       "      <th>source_non_leaf_descendants_count</th>\n",
       "      <th>source_leaf_descendans_count</th>\n",
       "      <th>sink_parent_non_leaf_descendants_count</th>\n",
       "      <th>sink_parent_leaf_descendans_count</th>\n",
       "      <th>sink_parents_count</th>\n",
       "    </tr>\n",
       "  </thead>\n",
       "  <tbody>\n",
       "    <tr>\n",
       "      <th>0</th>\n",
       "      <td>1097</td>\n",
       "      <td>2300708</td>\n",
       "      <td>3</td>\n",
       "      <td>0.446354</td>\n",
       "      <td>1</td>\n",
       "      <td>21</td>\n",
       "      <td>37.0</td>\n",
       "      <td>139.0</td>\n",
       "      <td>214968</td>\n",
       "      <td>1773315</td>\n",
       "      <td>1215</td>\n",
       "    </tr>\n",
       "    <tr>\n",
       "      <th>1</th>\n",
       "      <td>1174</td>\n",
       "      <td>119149</td>\n",
       "      <td>10</td>\n",
       "      <td>1.135798</td>\n",
       "      <td>1</td>\n",
       "      <td>187</td>\n",
       "      <td>198.0</td>\n",
       "      <td>344.0</td>\n",
       "      <td>79998</td>\n",
       "      <td>3985486</td>\n",
       "      <td>124</td>\n",
       "    </tr>\n",
       "    <tr>\n",
       "      <th>2</th>\n",
       "      <td>1174</td>\n",
       "      <td>1903703</td>\n",
       "      <td>33</td>\n",
       "      <td>6.902390</td>\n",
       "      <td>1</td>\n",
       "      <td>187</td>\n",
       "      <td>198.0</td>\n",
       "      <td>344.0</td>\n",
       "      <td>25516</td>\n",
       "      <td>153197</td>\n",
       "      <td>116</td>\n",
       "    </tr>\n",
       "    <tr>\n",
       "      <th>3</th>\n",
       "      <td>1174</td>\n",
       "      <td>4660902</td>\n",
       "      <td>3</td>\n",
       "      <td>0.424162</td>\n",
       "      <td>1</td>\n",
       "      <td>187</td>\n",
       "      <td>198.0</td>\n",
       "      <td>344.0</td>\n",
       "      <td>1751</td>\n",
       "      <td>6699</td>\n",
       "      <td>7</td>\n",
       "    </tr>\n",
       "    <tr>\n",
       "      <th>4</th>\n",
       "      <td>1399</td>\n",
       "      <td>306532</td>\n",
       "      <td>4</td>\n",
       "      <td>0.441382</td>\n",
       "      <td>1</td>\n",
       "      <td>41</td>\n",
       "      <td>59.0</td>\n",
       "      <td>191.0</td>\n",
       "      <td>65465</td>\n",
       "      <td>1441628</td>\n",
       "      <td>175</td>\n",
       "    </tr>\n",
       "  </tbody>\n",
       "</table>\n",
       "</div>"
      ],
      "text/plain": [
       "   Source     Sink  common_neighbors  AAprediction  exist_in_training_dataset  \\\n",
       "0    1097  2300708                 3      0.446354                          1   \n",
       "1    1174   119149                10      1.135798                          1   \n",
       "2    1174  1903703                33      6.902390                          1   \n",
       "3    1174  4660902                 3      0.424162                          1   \n",
       "4    1399   306532                 4      0.441382                          1   \n",
       "\n",
       "   source_parents_count  source_non_leaf_descendants_count  \\\n",
       "0                    21                               37.0   \n",
       "1                   187                              198.0   \n",
       "2                   187                              198.0   \n",
       "3                   187                              198.0   \n",
       "4                    41                               59.0   \n",
       "\n",
       "   source_leaf_descendans_count  sink_parent_non_leaf_descendants_count  \\\n",
       "0                         139.0                                  214968   \n",
       "1                         344.0                                   79998   \n",
       "2                         344.0                                   25516   \n",
       "3                         344.0                                    1751   \n",
       "4                         191.0                                   65465   \n",
       "\n",
       "   sink_parent_leaf_descendans_count  sink_parents_count  \n",
       "0                            1773315                1215  \n",
       "1                            3985486                 124  \n",
       "2                             153197                 116  \n",
       "3                               6699                   7  \n",
       "4                            1441628                 175  "
      ]
     },
     "execution_count": 30,
     "metadata": {},
     "output_type": "execute_result"
    }
   ],
   "source": [
    "X_train_v2.head()"
   ]
  },
  {
   "cell_type": "code",
   "execution_count": 31,
   "metadata": {},
   "outputs": [],
   "source": [
    "X_train_v2.drop(['Source','Sink'],axis=1,inplace=True)"
   ]
  },
  {
   "cell_type": "code",
   "execution_count": 32,
   "metadata": {},
   "outputs": [
    {
     "data": {
      "text/plain": [
       "8"
      ]
     },
     "execution_count": 32,
     "metadata": {},
     "output_type": "execute_result"
    }
   ],
   "source": [
    "matrix_rank(X_train_v2.values[:, 1:])"
   ]
  },
  {
   "cell_type": "code",
   "execution_count": null,
   "metadata": {},
   "outputs": [],
   "source": []
  },
  {
   "cell_type": "markdown",
   "metadata": {},
   "source": [
    "# TRANING AND TEST DATA MANIPULATON"
   ]
  },
  {
   "cell_type": "code",
   "execution_count": 33,
   "metadata": {},
   "outputs": [],
   "source": [
    "X_train = X_train_v2.drop('exist_in_training_dataset',axis=1)"
   ]
  },
  {
   "cell_type": "code",
   "execution_count": 34,
   "metadata": {},
   "outputs": [
    {
     "data": {
      "text/html": [
       "<div>\n",
       "<style>\n",
       "    .dataframe thead tr:only-child th {\n",
       "        text-align: right;\n",
       "    }\n",
       "\n",
       "    .dataframe thead th {\n",
       "        text-align: left;\n",
       "    }\n",
       "\n",
       "    .dataframe tbody tr th {\n",
       "        vertical-align: top;\n",
       "    }\n",
       "</style>\n",
       "<table border=\"1\" class=\"dataframe\">\n",
       "  <thead>\n",
       "    <tr style=\"text-align: right;\">\n",
       "      <th></th>\n",
       "      <th>common_neighbors</th>\n",
       "      <th>AAprediction</th>\n",
       "      <th>source_parents_count</th>\n",
       "      <th>source_non_leaf_descendants_count</th>\n",
       "      <th>source_leaf_descendans_count</th>\n",
       "      <th>sink_parent_non_leaf_descendants_count</th>\n",
       "      <th>sink_parent_leaf_descendans_count</th>\n",
       "      <th>sink_parents_count</th>\n",
       "    </tr>\n",
       "  </thead>\n",
       "  <tbody>\n",
       "    <tr>\n",
       "      <th>count</th>\n",
       "      <td>58028.000000</td>\n",
       "      <td>58028.000000</td>\n",
       "      <td>58028.000000</td>\n",
       "      <td>58028.000000</td>\n",
       "      <td>58028.000000</td>\n",
       "      <td>58028.000000</td>\n",
       "      <td>5.802800e+04</td>\n",
       "      <td>58028.000000</td>\n",
       "    </tr>\n",
       "    <tr>\n",
       "      <th>mean</th>\n",
       "      <td>17.313383</td>\n",
       "      <td>2.721585</td>\n",
       "      <td>181.015527</td>\n",
       "      <td>188.203815</td>\n",
       "      <td>5993.586855</td>\n",
       "      <td>32966.226184</td>\n",
       "      <td>1.093364e+06</td>\n",
       "      <td>86.303405</td>\n",
       "    </tr>\n",
       "    <tr>\n",
       "      <th>std</th>\n",
       "      <td>168.877336</td>\n",
       "      <td>36.976165</td>\n",
       "      <td>390.820064</td>\n",
       "      <td>418.270421</td>\n",
       "      <td>22121.483912</td>\n",
       "      <td>78958.906849</td>\n",
       "      <td>1.868182e+06</td>\n",
       "      <td>304.395586</td>\n",
       "    </tr>\n",
       "    <tr>\n",
       "      <th>min</th>\n",
       "      <td>0.000000</td>\n",
       "      <td>0.000000</td>\n",
       "      <td>1.000000</td>\n",
       "      <td>0.000000</td>\n",
       "      <td>0.000000</td>\n",
       "      <td>0.000000</td>\n",
       "      <td>1.000000e+00</td>\n",
       "      <td>1.000000</td>\n",
       "    </tr>\n",
       "    <tr>\n",
       "      <th>25%</th>\n",
       "      <td>0.000000</td>\n",
       "      <td>0.000000</td>\n",
       "      <td>16.000000</td>\n",
       "      <td>23.000000</td>\n",
       "      <td>53.000000</td>\n",
       "      <td>933.750000</td>\n",
       "      <td>5.968700e+04</td>\n",
       "      <td>1.000000</td>\n",
       "    </tr>\n",
       "    <tr>\n",
       "      <th>50%</th>\n",
       "      <td>0.000000</td>\n",
       "      <td>0.000000</td>\n",
       "      <td>47.000000</td>\n",
       "      <td>57.000000</td>\n",
       "      <td>164.000000</td>\n",
       "      <td>4960.000000</td>\n",
       "      <td>4.109470e+05</td>\n",
       "      <td>4.000000</td>\n",
       "    </tr>\n",
       "    <tr>\n",
       "      <th>75%</th>\n",
       "      <td>8.000000</td>\n",
       "      <td>1.033064</td>\n",
       "      <td>135.000000</td>\n",
       "      <td>134.000000</td>\n",
       "      <td>426.000000</td>\n",
       "      <td>26218.000000</td>\n",
       "      <td>1.139774e+06</td>\n",
       "      <td>43.000000</td>\n",
       "    </tr>\n",
       "    <tr>\n",
       "      <th>max</th>\n",
       "      <td>15361.000000</td>\n",
       "      <td>3571.741274</td>\n",
       "      <td>4637.000000</td>\n",
       "      <td>4383.000000</td>\n",
       "      <td>369384.000000</td>\n",
       "      <td>938760.000000</td>\n",
       "      <td>1.577028e+07</td>\n",
       "      <td>4841.000000</td>\n",
       "    </tr>\n",
       "  </tbody>\n",
       "</table>\n",
       "</div>"
      ],
      "text/plain": [
       "       common_neighbors  AAprediction  source_parents_count  \\\n",
       "count      58028.000000  58028.000000          58028.000000   \n",
       "mean          17.313383      2.721585            181.015527   \n",
       "std          168.877336     36.976165            390.820064   \n",
       "min            0.000000      0.000000              1.000000   \n",
       "25%            0.000000      0.000000             16.000000   \n",
       "50%            0.000000      0.000000             47.000000   \n",
       "75%            8.000000      1.033064            135.000000   \n",
       "max        15361.000000   3571.741274           4637.000000   \n",
       "\n",
       "       source_non_leaf_descendants_count  source_leaf_descendans_count  \\\n",
       "count                       58028.000000                  58028.000000   \n",
       "mean                          188.203815                   5993.586855   \n",
       "std                           418.270421                  22121.483912   \n",
       "min                             0.000000                      0.000000   \n",
       "25%                            23.000000                     53.000000   \n",
       "50%                            57.000000                    164.000000   \n",
       "75%                           134.000000                    426.000000   \n",
       "max                          4383.000000                 369384.000000   \n",
       "\n",
       "       sink_parent_non_leaf_descendants_count  \\\n",
       "count                            58028.000000   \n",
       "mean                             32966.226184   \n",
       "std                              78958.906849   \n",
       "min                                  0.000000   \n",
       "25%                                933.750000   \n",
       "50%                               4960.000000   \n",
       "75%                              26218.000000   \n",
       "max                             938760.000000   \n",
       "\n",
       "       sink_parent_leaf_descendans_count  sink_parents_count  \n",
       "count                       5.802800e+04        58028.000000  \n",
       "mean                        1.093364e+06           86.303405  \n",
       "std                         1.868182e+06          304.395586  \n",
       "min                         1.000000e+00            1.000000  \n",
       "25%                         5.968700e+04            1.000000  \n",
       "50%                         4.109470e+05            4.000000  \n",
       "75%                         1.139774e+06           43.000000  \n",
       "max                         1.577028e+07         4841.000000  "
      ]
     },
     "execution_count": 34,
     "metadata": {},
     "output_type": "execute_result"
    }
   ],
   "source": [
    "X_train.describe()"
   ]
  },
  {
   "cell_type": "code",
   "execution_count": 35,
   "metadata": {},
   "outputs": [],
   "source": [
    "y_train = X_train_v2['exist_in_training_dataset']"
   ]
  },
  {
   "cell_type": "code",
   "execution_count": 36,
   "metadata": {},
   "outputs": [
    {
     "data": {
      "text/plain": [
       "58028"
      ]
     },
     "execution_count": 36,
     "metadata": {},
     "output_type": "execute_result"
    }
   ],
   "source": [
    "y_train.count()"
   ]
  },
  {
   "cell_type": "code",
   "execution_count": 37,
   "metadata": {},
   "outputs": [],
   "source": [
    "X_test = X_test.drop(['Source','Sink'],axis=1)"
   ]
  },
  {
   "cell_type": "code",
   "execution_count": 38,
   "metadata": {},
   "outputs": [
    {
     "data": {
      "text/html": [
       "<div>\n",
       "<style>\n",
       "    .dataframe thead tr:only-child th {\n",
       "        text-align: right;\n",
       "    }\n",
       "\n",
       "    .dataframe thead th {\n",
       "        text-align: left;\n",
       "    }\n",
       "\n",
       "    .dataframe tbody tr th {\n",
       "        vertical-align: top;\n",
       "    }\n",
       "</style>\n",
       "<table border=\"1\" class=\"dataframe\">\n",
       "  <thead>\n",
       "    <tr style=\"text-align: right;\">\n",
       "      <th></th>\n",
       "      <th>AAprediction</th>\n",
       "      <th>Id</th>\n",
       "      <th>common_neighbors</th>\n",
       "      <th>source_parents_count</th>\n",
       "      <th>source_non_leaf_descendants_count</th>\n",
       "      <th>source_leaf_descendans_count</th>\n",
       "      <th>sink_parent_non_leaf_descendants_count</th>\n",
       "      <th>sink_parent_leaf_descendans_count</th>\n",
       "      <th>sink_parents_count</th>\n",
       "    </tr>\n",
       "  </thead>\n",
       "  <tbody>\n",
       "    <tr>\n",
       "      <th>count</th>\n",
       "      <td>2000.000000</td>\n",
       "      <td>2000.000000</td>\n",
       "      <td>2000.000000</td>\n",
       "      <td>2000.000000</td>\n",
       "      <td>2000.00000</td>\n",
       "      <td>2000.000000</td>\n",
       "      <td>2000.000000</td>\n",
       "      <td>2.000000e+03</td>\n",
       "      <td>2000.000000</td>\n",
       "    </tr>\n",
       "    <tr>\n",
       "      <th>mean</th>\n",
       "      <td>1.913987</td>\n",
       "      <td>1000.500000</td>\n",
       "      <td>11.376000</td>\n",
       "      <td>90.911500</td>\n",
       "      <td>94.55750</td>\n",
       "      <td>1228.490500</td>\n",
       "      <td>55319.866000</td>\n",
       "      <td>1.704336e+06</td>\n",
       "      <td>143.195000</td>\n",
       "    </tr>\n",
       "    <tr>\n",
       "      <th>std</th>\n",
       "      <td>22.412112</td>\n",
       "      <td>577.494589</td>\n",
       "      <td>100.078352</td>\n",
       "      <td>166.978548</td>\n",
       "      <td>158.48722</td>\n",
       "      <td>9793.310524</td>\n",
       "      <td>92034.673134</td>\n",
       "      <td>2.284354e+06</td>\n",
       "      <td>358.116046</td>\n",
       "    </tr>\n",
       "    <tr>\n",
       "      <th>min</th>\n",
       "      <td>0.000000</td>\n",
       "      <td>1.000000</td>\n",
       "      <td>0.000000</td>\n",
       "      <td>1.000000</td>\n",
       "      <td>0.00000</td>\n",
       "      <td>0.000000</td>\n",
       "      <td>8.000000</td>\n",
       "      <td>7.000000e+00</td>\n",
       "      <td>1.000000</td>\n",
       "    </tr>\n",
       "    <tr>\n",
       "      <th>25%</th>\n",
       "      <td>0.000000</td>\n",
       "      <td>500.750000</td>\n",
       "      <td>0.000000</td>\n",
       "      <td>12.000000</td>\n",
       "      <td>17.00000</td>\n",
       "      <td>36.000000</td>\n",
       "      <td>4096.250000</td>\n",
       "      <td>1.178240e+05</td>\n",
       "      <td>7.000000</td>\n",
       "    </tr>\n",
       "    <tr>\n",
       "      <th>50%</th>\n",
       "      <td>0.137745</td>\n",
       "      <td>1000.500000</td>\n",
       "      <td>1.000000</td>\n",
       "      <td>36.000000</td>\n",
       "      <td>43.00000</td>\n",
       "      <td>115.000000</td>\n",
       "      <td>20448.000000</td>\n",
       "      <td>8.330660e+05</td>\n",
       "      <td>33.000000</td>\n",
       "    </tr>\n",
       "    <tr>\n",
       "      <th>75%</th>\n",
       "      <td>0.926810</td>\n",
       "      <td>1500.250000</td>\n",
       "      <td>7.000000</td>\n",
       "      <td>96.000000</td>\n",
       "      <td>105.00000</td>\n",
       "      <td>382.250000</td>\n",
       "      <td>66267.250000</td>\n",
       "      <td>2.374668e+06</td>\n",
       "      <td>118.000000</td>\n",
       "    </tr>\n",
       "    <tr>\n",
       "      <th>max</th>\n",
       "      <td>986.942415</td>\n",
       "      <td>2000.000000</td>\n",
       "      <td>4361.000000</td>\n",
       "      <td>2022.000000</td>\n",
       "      <td>2172.00000</td>\n",
       "      <td>369384.000000</td>\n",
       "      <td>856614.000000</td>\n",
       "      <td>1.556218e+07</td>\n",
       "      <td>4841.000000</td>\n",
       "    </tr>\n",
       "  </tbody>\n",
       "</table>\n",
       "</div>"
      ],
      "text/plain": [
       "       AAprediction           Id  common_neighbors  source_parents_count  \\\n",
       "count   2000.000000  2000.000000       2000.000000           2000.000000   \n",
       "mean       1.913987  1000.500000         11.376000             90.911500   \n",
       "std       22.412112   577.494589        100.078352            166.978548   \n",
       "min        0.000000     1.000000          0.000000              1.000000   \n",
       "25%        0.000000   500.750000          0.000000             12.000000   \n",
       "50%        0.137745  1000.500000          1.000000             36.000000   \n",
       "75%        0.926810  1500.250000          7.000000             96.000000   \n",
       "max      986.942415  2000.000000       4361.000000           2022.000000   \n",
       "\n",
       "       source_non_leaf_descendants_count  source_leaf_descendans_count  \\\n",
       "count                         2000.00000                   2000.000000   \n",
       "mean                            94.55750                   1228.490500   \n",
       "std                            158.48722                   9793.310524   \n",
       "min                              0.00000                      0.000000   \n",
       "25%                             17.00000                     36.000000   \n",
       "50%                             43.00000                    115.000000   \n",
       "75%                            105.00000                    382.250000   \n",
       "max                           2172.00000                 369384.000000   \n",
       "\n",
       "       sink_parent_non_leaf_descendants_count  \\\n",
       "count                             2000.000000   \n",
       "mean                             55319.866000   \n",
       "std                              92034.673134   \n",
       "min                                  8.000000   \n",
       "25%                               4096.250000   \n",
       "50%                              20448.000000   \n",
       "75%                              66267.250000   \n",
       "max                             856614.000000   \n",
       "\n",
       "       sink_parent_leaf_descendans_count  sink_parents_count  \n",
       "count                       2.000000e+03         2000.000000  \n",
       "mean                        1.704336e+06          143.195000  \n",
       "std                         2.284354e+06          358.116046  \n",
       "min                         7.000000e+00            1.000000  \n",
       "25%                         1.178240e+05            7.000000  \n",
       "50%                         8.330660e+05           33.000000  \n",
       "75%                         2.374668e+06          118.000000  \n",
       "max                         1.556218e+07         4841.000000  "
      ]
     },
     "execution_count": 38,
     "metadata": {},
     "output_type": "execute_result"
    }
   ],
   "source": [
    "X_test.describe()"
   ]
  },
  {
   "cell_type": "markdown",
   "metadata": {},
   "source": [
    "# making sure test and train columns are in the same order"
   ]
  },
  {
   "cell_type": "code",
   "execution_count": 39,
   "metadata": {},
   "outputs": [],
   "source": [
    "X_test =X_test[list(X_train.columns)+['Id']]"
   ]
  },
  {
   "cell_type": "code",
   "execution_count": 40,
   "metadata": {},
   "outputs": [
    {
     "data": {
      "text/plain": [
       "Index(['common_neighbors', 'AAprediction', 'source_parents_count',\n",
       "       'source_non_leaf_descendants_count', 'source_leaf_descendans_count',\n",
       "       'sink_parent_non_leaf_descendants_count',\n",
       "       'sink_parent_leaf_descendans_count', 'sink_parents_count'],\n",
       "      dtype='object')"
      ]
     },
     "execution_count": 40,
     "metadata": {},
     "output_type": "execute_result"
    }
   ],
   "source": [
    "X_train.columns"
   ]
  },
  {
   "cell_type": "code",
   "execution_count": 41,
   "metadata": {
    "scrolled": true
   },
   "outputs": [
    {
     "data": {
      "text/plain": [
       "Index(['common_neighbors', 'AAprediction', 'source_parents_count',\n",
       "       'source_non_leaf_descendants_count', 'source_leaf_descendans_count',\n",
       "       'sink_parent_non_leaf_descendants_count',\n",
       "       'sink_parent_leaf_descendans_count', 'sink_parents_count', 'Id'],\n",
       "      dtype='object')"
      ]
     },
     "execution_count": 41,
     "metadata": {},
     "output_type": "execute_result"
    }
   ],
   "source": [
    "X_test.columns\n"
   ]
  },
  {
   "cell_type": "markdown",
   "metadata": {},
   "source": [
    "# Training the model"
   ]
  },
  {
   "cell_type": "code",
   "execution_count": 42,
   "metadata": {},
   "outputs": [],
   "source": [
    "from sklearn.ensemble import RandomForestClassifier"
   ]
  },
  {
   "cell_type": "code",
   "execution_count": 43,
   "metadata": {
    "scrolled": true
   },
   "outputs": [
    {
     "name": "stderr",
     "output_type": "stream",
     "text": [
      "[Parallel(n_jobs=1)]: Done  22 out of  22 | elapsed:    0.9s finished\n"
     ]
    },
    {
     "data": {
      "text/plain": [
       "RandomForestClassifier(bootstrap=True, class_weight=None, criterion='gini',\n",
       "            max_depth=None, max_features='auto', max_leaf_nodes=None,\n",
       "            min_impurity_decrease=0.0001, min_impurity_split=None,\n",
       "            min_samples_leaf=1, min_samples_split=2,\n",
       "            min_weight_fraction_leaf=0.0, n_estimators=22, n_jobs=1,\n",
       "            oob_score=False, random_state=101, verbose=1, warm_start=False)"
      ]
     },
     "execution_count": 43,
     "metadata": {},
     "output_type": "execute_result"
    }
   ],
   "source": [
    "rfc = RandomForestClassifier(n_estimators=22,verbose=1,random_state=101,min_impurity_decrease=0.0001)\n",
    "rfc.fit(X_train, y_train)"
   ]
  },
  {
   "cell_type": "code",
   "execution_count": 44,
   "metadata": {},
   "outputs": [
    {
     "name": "stderr",
     "output_type": "stream",
     "text": [
      "[Parallel(n_jobs=1)]: Done  22 out of  22 | elapsed:    0.0s finished\n"
     ]
    }
   ],
   "source": [
    "rfc_pred1 = rfc.predict(X_test.drop('Id',axis=1))"
   ]
  },
  {
   "cell_type": "code",
   "execution_count": 45,
   "metadata": {
    "scrolled": true
   },
   "outputs": [
    {
     "data": {
      "text/plain": [
       "('criterion',\n",
       " 'max_depth',\n",
       " 'min_samples_split',\n",
       " 'min_samples_leaf',\n",
       " 'min_weight_fraction_leaf',\n",
       " 'max_features',\n",
       " 'max_leaf_nodes',\n",
       " 'min_impurity_decrease',\n",
       " 'min_impurity_split',\n",
       " 'random_state')"
      ]
     },
     "execution_count": 45,
     "metadata": {},
     "output_type": "execute_result"
    }
   ],
   "source": [
    "rfc.estimator_params"
   ]
  },
  {
   "cell_type": "code",
   "execution_count": 46,
   "metadata": {},
   "outputs": [
    {
     "data": {
      "text/plain": [
       "1084"
      ]
     },
     "execution_count": 46,
     "metadata": {},
     "output_type": "execute_result"
    }
   ],
   "source": [
    "rfc_pred1.sum()"
   ]
  },
  {
   "cell_type": "code",
   "execution_count": 47,
   "metadata": {},
   "outputs": [],
   "source": [
    "%store -r predictions"
   ]
  },
  {
   "cell_type": "code",
   "execution_count": 48,
   "metadata": {},
   "outputs": [
    {
     "data": {
      "text/plain": [
       "1873"
      ]
     },
     "execution_count": 48,
     "metadata": {},
     "output_type": "execute_result"
    }
   ],
   "source": [
    "(predictions == rfc_pred1).sum()"
   ]
  },
  {
   "cell_type": "code",
   "execution_count": 49,
   "metadata": {},
   "outputs": [],
   "source": [
    "# This is the importance of features"
   ]
  },
  {
   "cell_type": "code",
   "execution_count": 50,
   "metadata": {
    "scrolled": true
   },
   "outputs": [
    {
     "data": {
      "text/plain": [
       "[('common_neighbors', 0.22522581934747823),\n",
       " ('AAprediction', 0.36163077634427404),\n",
       " ('source_parents_count', 0.002464370235661015),\n",
       " ('source_non_leaf_descendants_count', 0.004080019242807659),\n",
       " ('source_leaf_descendans_count', 0.04303186305923902),\n",
       " ('sink_parent_non_leaf_descendants_count', 0.16946101854473916),\n",
       " ('sink_parent_leaf_descendans_count', 0.03681942667884367),\n",
       " ('sink_parents_count', 0.15728670654695726)]"
      ]
     },
     "execution_count": 50,
     "metadata": {},
     "output_type": "execute_result"
    }
   ],
   "source": [
    "list(zip(X_test,rfc.feature_importances_))"
   ]
  },
  {
   "cell_type": "code",
   "execution_count": 51,
   "metadata": {},
   "outputs": [
    {
     "name": "stderr",
     "output_type": "stream",
     "text": [
      "/Users/hima95/anaconda3/lib/python3.6/site-packages/sklearn/cross_validation.py:41: DeprecationWarning: This module was deprecated in version 0.18 in favor of the model_selection module into which all the refactored classes and functions are moved. Also note that the interface of the new CV iterators are different from that of this module. This module will be removed in 0.20.\n",
      "  \"This module will be removed in 0.20.\", DeprecationWarning)\n"
     ]
    }
   ],
   "source": [
    "from sklearn.cross_validation import cross_val_score"
   ]
  },
  {
   "cell_type": "code",
   "execution_count": 52,
   "metadata": {
    "scrolled": true
   },
   "outputs": [
    {
     "name": "stderr",
     "output_type": "stream",
     "text": [
      "[Parallel(n_jobs=1)]: Done  22 out of  22 | elapsed:    0.4s finished\n",
      "[Parallel(n_jobs=1)]: Done  22 out of  22 | elapsed:    0.0s finished\n",
      "[Parallel(n_jobs=1)]: Done  22 out of  22 | elapsed:    0.4s finished\n",
      "[Parallel(n_jobs=1)]: Done  22 out of  22 | elapsed:    0.0s finished\n",
      "[Parallel(n_jobs=1)]: Done  22 out of  22 | elapsed:    0.4s finished\n",
      "[Parallel(n_jobs=1)]: Done  22 out of  22 | elapsed:    0.0s finished\n"
     ]
    },
    {
     "data": {
      "text/plain": [
       "array([0.98552448, 0.9879026 , 0.97435632])"
      ]
     },
     "execution_count": 52,
     "metadata": {},
     "output_type": "execute_result"
    }
   ],
   "source": [
    "cross_val_score(rfc, X_train,y_train, cv=3)"
   ]
  },
  {
   "cell_type": "code",
   "execution_count": 53,
   "metadata": {},
   "outputs": [
    {
     "name": "stderr",
     "output_type": "stream",
     "text": [
      "[Parallel(n_jobs=1)]: Done  22 out of  22 | elapsed:    0.0s finished\n"
     ]
    }
   ],
   "source": [
    "probs = rfc.predict_proba(X_test.drop('Id',axis=1))"
   ]
  },
  {
   "cell_type": "code",
   "execution_count": 54,
   "metadata": {},
   "outputs": [],
   "source": [
    "probabs = [probs[i][1] for i in range(len(probs))]"
   ]
  },
  {
   "cell_type": "code",
   "execution_count": 55,
   "metadata": {},
   "outputs": [
    {
     "data": {
      "text/plain": [
       "1064.0081105127765"
      ]
     },
     "execution_count": 55,
     "metadata": {},
     "output_type": "execute_result"
    }
   ],
   "source": [
    "sum(probabs)"
   ]
  },
  {
   "cell_type": "code",
   "execution_count": 56,
   "metadata": {},
   "outputs": [],
   "source": [
    "rfc_predictions = pd.DataFrame()"
   ]
  },
  {
   "cell_type": "code",
   "execution_count": 57,
   "metadata": {},
   "outputs": [],
   "source": [
    "rfc_predictions['Prediction'] = probabs"
   ]
  },
  {
   "cell_type": "code",
   "execution_count": 58,
   "metadata": {},
   "outputs": [],
   "source": [
    "rfc_predictions['Id'] = X_test['Id']"
   ]
  },
  {
   "cell_type": "code",
   "execution_count": 59,
   "metadata": {},
   "outputs": [],
   "source": [
    "rfc_predictions.set_index('Id',drop=True,inplace=True)"
   ]
  },
  {
   "cell_type": "code",
   "execution_count": 60,
   "metadata": {},
   "outputs": [],
   "source": [
    "rfc_predictions.to_csv('prediction_trail_rfc.csv')"
   ]
  },
  {
   "cell_type": "code",
   "execution_count": null,
   "metadata": {},
   "outputs": [],
   "source": []
  },
  {
   "cell_type": "code",
   "execution_count": null,
   "metadata": {},
   "outputs": [],
   "source": []
  },
  {
   "cell_type": "code",
   "execution_count": 61,
   "metadata": {},
   "outputs": [],
   "source": [
    "from sklearn.metrics import roc_auc_score"
   ]
  },
  {
   "cell_type": "code",
   "execution_count": 62,
   "metadata": {},
   "outputs": [
    {
     "data": {
      "text/plain": [
       "0.9399825166373934"
      ]
     },
     "execution_count": 62,
     "metadata": {},
     "output_type": "execute_result"
    }
   ],
   "source": [
    "roc_auc_score(rfc_pred1,predictions)"
   ]
  },
  {
   "cell_type": "code",
   "execution_count": 63,
   "metadata": {},
   "outputs": [
    {
     "ename": "SyntaxError",
     "evalue": "invalid syntax (<ipython-input-63-4d596ab3c409>, line 23)",
     "output_type": "error",
     "traceback": [
      "\u001b[0;36m  File \u001b[0;32m\"<ipython-input-63-4d596ab3c409>\"\u001b[0;36m, line \u001b[0;32m23\u001b[0m\n\u001b[0;31m    'min_impurity_decrease': min_impurity_decrease}\u001b[0m\n\u001b[0m                          ^\u001b[0m\n\u001b[0;31mSyntaxError\u001b[0m\u001b[0;31m:\u001b[0m invalid syntax\n"
     ]
    }
   ],
   "source": [
    "from sklearn.model_selection import RandomizedSearchCV\n",
    "# Number of trees in random forest\n",
    "n_estimators = [11,22,44,100]\n",
    "# Number of features to consider at every split\n",
    "max_features = ['auto', 'sqrt']\n",
    "# Maximum number of levels in tree\n",
    "max_depth = [int(x) for x in np.linspace(10, 110, num = 11)]\n",
    "max_depth.append(None)\n",
    "# Minimum number of samples required to split a node\n",
    "min_samples_split = [2, 5, 10]\n",
    "# Minimum number of samples required at each leaf node\n",
    "min_samples_leaf = [1, 2, 4]\n",
    "# Method of selecting samples for training each tree\n",
    "bootstrap = [True, False]\n",
    "min_impurity_decrease = [0.1,0.001,0.0001,0.00001]\n",
    "# Create the random grid\n",
    "random_grid = {'n_estimators': n_estimators,\n",
    "               'max_features': max_features,\n",
    "               'max_depth': max_depth,\n",
    "               'min_samples_split': min_samples_split,\n",
    "               'min_samples_leaf': min_samples_leaf,\n",
    "               'bootstrap': bootstrap\n",
    "               'min_impurity_decrease': min_impurity_decrease}\n",
    "print(random_grid)"
   ]
  },
  {
   "cell_type": "code",
   "execution_count": null,
   "metadata": {},
   "outputs": [],
   "source": [
    "from sklearn.ensemble import RandomForestRegressor"
   ]
  },
  {
   "cell_type": "code",
   "execution_count": null,
   "metadata": {},
   "outputs": [],
   "source": [
    "# Use the random grid to search for best hyperparameters\n",
    "# First create the base model to tune\n",
    "rf = RandomForestRegressor()\n",
    "# Random search of parameters, using 3 fold cross validation, \n",
    "# search across 100 different combinations, and use all available cores\n",
    "rf_random = RandomizedSearchCV(estimator = rf, param_distributions = random_grid, n_iter = 100, cv = 3, verbose=2, random_state=42, n_jobs = -1)\n",
    "# Fit the random search model\n",
    "rf_random.fit(X_train, y_train)"
   ]
  }
 ],
 "metadata": {
  "kernelspec": {
   "display_name": "Python 3",
   "language": "python",
   "name": "python3"
  },
  "language_info": {
   "codemirror_mode": {
    "name": "ipython",
    "version": 3
   },
   "file_extension": ".py",
   "mimetype": "text/x-python",
   "name": "python",
   "nbconvert_exporter": "python",
   "pygments_lexer": "ipython3",
   "version": "3.6.3"
  }
 },
 "nbformat": 4,
 "nbformat_minor": 2
}
